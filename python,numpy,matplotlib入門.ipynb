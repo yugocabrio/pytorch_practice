{
  "nbformat": 4,
  "nbformat_minor": 0,
  "metadata": {
    "colab": {
      "provenance": [],
      "authorship_tag": "ABX9TyNPAnUA8zAEZgaDw2gQUzW1",
      "include_colab_link": true
    },
    "kernelspec": {
      "name": "python3",
      "display_name": "Python 3"
    },
    "language_info": {
      "name": "python"
    }
  },
  "cells": [
    {
      "cell_type": "markdown",
      "metadata": {
        "id": "view-in-github",
        "colab_type": "text"
      },
      "source": [
        "<a href=\"https://colab.research.google.com/github/yugonsan/pytorch_practice/blob/main/python%2Cnumpy%2Cmatplotlib%E5%85%A5%E9%96%80.ipynb\" target=\"_parent\"><img src=\"https://colab.research.google.com/assets/colab-badge.svg\" alt=\"Open In Colab\"/></a>"
      ]
    },
    {
      "cell_type": "code",
      "execution_count": null,
      "metadata": {
        "id": "MtYYm3hYVX77"
      },
      "outputs": [],
      "source": [
        "# ライブラリのインポート\n",
        "import numpy as np\n",
        "# numpyの浮動小数点の表示精度（小数点以下5桁）\n",
        "np.set_printoptions(suppress=True, precision=5)"
      ]
    },
    {
      "cell_type": "code",
      "source": [
        "# array関数によるベクトル（1階配列）変数の定義\n",
        "n1 = np.array([1, 2, 3, 4, 5, 6, 7])\n",
        "# 表示\n",
        "print(n1)\n",
        "# elementの数、1要素のタプル\n",
        "print(n1.shape)\n",
        "# elementの数\n",
        "print(len(n1))"
      ],
      "metadata": {
        "colab": {
          "base_uri": "https://localhost:8080/"
        },
        "id": "OgTGlm8Kt9tA",
        "outputId": "1cd9ec72-4640-4dfc-b592-622a1418a74f"
      },
      "execution_count": null,
      "outputs": [
        {
          "output_type": "stream",
          "name": "stdout",
          "text": [
            "[1 2 3 4 5 6 7]\n",
            "(7,)\n",
            "7\n"
          ]
        }
      ]
    },
    {
      "cell_type": "code",
      "source": [
        "# 行列（2階配列）\n",
        "n2 = np.array([\n",
        "    [1, 2, 3,],\n",
        "    [4, 5, 6],\n",
        "    [7, 8, 9],\n",
        "    [10, 11, 12]\n",
        "])\n",
        "print(n2)\n",
        "print(n2.shape)#4行3列の行列\n",
        "print(len(n2))"
      ],
      "metadata": {
        "colab": {
          "base_uri": "https://localhost:8080/"
        },
        "id": "te9obX8TupnI",
        "outputId": "45d82ce4-3cde-4719-b04b-afd1aab55117"
      },
      "execution_count": null,
      "outputs": [
        {
          "output_type": "stream",
          "name": "stdout",
          "text": [
            "[[ 1  2  3]\n",
            " [ 4  5  6]\n",
            " [ 7  8  9]\n",
            " [10 11 12]]\n",
            "(4, 3)\n",
            "4\n"
          ]
        }
      ]
    },
    {
      "cell_type": "code",
      "source": [
        "# zeros関数で全てのelementが0のベクトルを定義\n",
        "# zerosの引数はelementの数\n",
        "n3 = np.zeros(5)\n",
        "print(n3)\n",
        "print(n3.shape)"
      ],
      "metadata": {
        "colab": {
          "base_uri": "https://localhost:8080/"
        },
        "id": "UqBLHAiFusl8",
        "outputId": "1e529695-58c3-478b-9074-ad0d04bf3e8d"
      },
      "execution_count": null,
      "outputs": [
        {
          "output_type": "stream",
          "name": "stdout",
          "text": [
            "[0. 0. 0. 0. 0.]\n",
            "(5,)\n"
          ]
        }
      ]
    },
    {
      "cell_type": "code",
      "source": [
        "# ones関数で全てのelement1の行列を定義\n",
        "# onesの引数（2,3）タプルで2行3列の行列\n",
        "n4 = np.ones((2,3))\n",
        "print(n4)\n",
        "print(n4.shape)"
      ],
      "metadata": {
        "colab": {
          "base_uri": "https://localhost:8080/"
        },
        "id": "J4tK09v3wczr",
        "outputId": "79d9137d-2775-4bdb-82a7-c6687783ffc7"
      },
      "execution_count": null,
      "outputs": [
        {
          "output_type": "stream",
          "name": "stdout",
          "text": [
            "[[1. 1. 1.]\n",
            " [1. 1. 1.]]\n",
            "(2, 3)\n"
          ]
        }
      ]
    },
    {
      "cell_type": "code",
      "source": [
        "# 全てのelementが正規分布表現に3階配列\n",
        "# 3行4列の配列を2つ表示する\n",
        "# 平均0分散1の正規分布関数\n",
        "n5 = np.random.randn(2, 3, 4)\n",
        "print(n5)\n",
        "print(n5.shape)"
      ],
      "metadata": {
        "colab": {
          "base_uri": "https://localhost:8080/"
        },
        "id": "G2D-hlmGw_US",
        "outputId": "f6aca68a-b942-40ca-dad1-c3344a1926bb"
      },
      "execution_count": null,
      "outputs": [
        {
          "output_type": "stream",
          "name": "stdout",
          "text": [
            "[[[-0.37053 -0.37496 -1.03991  0.96192]\n",
            "  [-1.32435  0.3455  -0.58489 -1.4795 ]\n",
            "  [-0.75976  1.19457 -0.36835 -0.06033]]\n",
            "\n",
            " [[ 0.77317  1.04695 -0.61253 -0.36119]\n",
            "  [ 0.07676  1.02365 -0.70717  0.81986]\n",
            "  [-0.27392  0.17174 -1.39971 -0.43618]]]\n",
            "(2, 3, 4)\n"
          ]
        }
      ]
    },
    {
      "cell_type": "code",
      "source": [
        "# linspaceによるグラフ描画用数値配列\n",
        "n6 = np.linspace(-1, 1 , 11) #始点,終点,区間に作る点の数\n",
        "print(n6)"
      ],
      "metadata": {
        "colab": {
          "base_uri": "https://localhost:8080/"
        },
        "id": "q2Vm8nkY0oR5",
        "outputId": "fc8525a9-67a2-4ad7-fbf4-6319383e5a79"
      },
      "execution_count": null,
      "outputs": [
        {
          "output_type": "stream",
          "name": "stdout",
          "text": [
            "[-1.  -0.8 -0.6 -0.4 -0.2  0.   0.2  0.4  0.6  0.8  1. ]\n"
          ]
        }
      ]
    },
    {
      "cell_type": "code",
      "source": [
        "# range関数によるグラフ描画用数値配列\n",
        "n7 = np.arange(-1, 1.2, 0.2)#始点、終点（未満）、刻み幅\n",
        "print(n7) "
      ],
      "metadata": {
        "colab": {
          "base_uri": "https://localhost:8080/"
        },
        "id": "1dqWfbOE2kNX",
        "outputId": "1f166e2f-4bb3-49ca-8464-cc2194d138f7"
      },
      "execution_count": null,
      "outputs": [
        {
          "output_type": "stream",
          "name": "stdout",
          "text": [
            "[-1.  -0.8 -0.6 -0.4 -0.2 -0.   0.2  0.4  0.6  0.8  1. ]\n"
          ]
        }
      ]
    },
    {
      "cell_type": "code",
      "source": [
        "# 行列に対して特定の行や列を抽出する機能\n",
        "print(n2)\n",
        "# 全ての行の0列を抽出\n",
        "# :は全ての行を表している\n",
        "n8 = n2[:,0]\n",
        "print(n8)"
      ],
      "metadata": {
        "colab": {
          "base_uri": "https://localhost:8080/"
        },
        "id": "prlVrLXB3Ao5",
        "outputId": "b407865f-f29d-4a57-88f1-f29738b5a669"
      },
      "execution_count": null,
      "outputs": [
        {
          "output_type": "stream",
          "name": "stdout",
          "text": [
            "[[ 1  2  3]\n",
            " [ 4  5  6]\n",
            " [ 7  8  9]\n",
            " [10 11 12]]\n",
            "[ 1  4  7 10]\n"
          ]
        }
      ]
    },
    {
      "cell_type": "code",
      "source": [
        "# 2行目と4行目を抽出する\n",
        "n2_index = np.array([False, True, False, True])\n",
        "n9 = n2[n2_index]\n",
        "print(n9)"
      ],
      "metadata": {
        "colab": {
          "base_uri": "https://localhost:8080/"
        },
        "id": "kYQJ9fkw3fRj",
        "outputId": "8e888bc6-b578-4995-8440-fd316a2d85e2"
      },
      "execution_count": null,
      "outputs": [
        {
          "output_type": "stream",
          "name": "stdout",
          "text": [
            "[[ 4  5  6]\n",
            " [10 11 12]]\n"
          ]
        }
      ]
    },
    {
      "cell_type": "code",
      "source": [
        "n10 = np.array(range(24))\n",
        "n10"
      ],
      "metadata": {
        "colab": {
          "base_uri": "https://localhost:8080/"
        },
        "id": "HVJWRctw407T",
        "outputId": "1c631815-16b2-4e24-a9b1-1b729f2ca762"
      },
      "execution_count": null,
      "outputs": [
        {
          "output_type": "execute_result",
          "data": {
            "text/plain": [
              "array([ 0,  1,  2,  3,  4,  5,  6,  7,  8,  9, 10, 11, 12, 13, 14, 15, 16,\n",
              "       17, 18, 19, 20, 21, 22, 23])"
            ]
          },
          "metadata": {},
          "execution_count": 19
        }
      ]
    },
    {
      "cell_type": "code",
      "source": [
        "# 3,8の2段階配列に変形\n",
        "# 3行8列の行列です\n",
        "n11 = n10.reshape(3,8)\n",
        "n11"
      ],
      "metadata": {
        "colab": {
          "base_uri": "https://localhost:8080/"
        },
        "id": "PCMmJW3c46ri",
        "outputId": "73592f83-029a-4913-f21d-e3effe43d1af"
      },
      "execution_count": null,
      "outputs": [
        {
          "output_type": "execute_result",
          "data": {
            "text/plain": [
              "array([[ 0,  1,  2,  3,  4,  5,  6,  7],\n",
              "       [ 8,  9, 10, 11, 12, 13, 14, 15],\n",
              "       [16, 17, 18, 19, 20, 21, 22, 23]])"
            ]
          },
          "metadata": {},
          "execution_count": 21
        }
      ]
    },
    {
      "cell_type": "code",
      "source": [
        "# -1を指定すると自動計算\n",
        "# 2つの3行4列の行列ができる\n",
        "n12 = n10.reshape(2, -1, 4)\n",
        "print(n12)\n",
        "print(n12.shape)"
      ],
      "metadata": {
        "colab": {
          "base_uri": "https://localhost:8080/"
        },
        "id": "ZbUexjTr5o_G",
        "outputId": "b9ca3914-9a74-4c11-e195-af494b9cf5bf"
      },
      "execution_count": null,
      "outputs": [
        {
          "output_type": "stream",
          "name": "stdout",
          "text": [
            "[[[ 0  1  2  3]\n",
            "  [ 4  5  6  7]\n",
            "  [ 8  9 10 11]]\n",
            "\n",
            " [[12 13 14 15]\n",
            "  [16 17 18 19]\n",
            "  [20 21 22 23]]]\n"
          ]
        }
      ]
    },
    {
      "cell_type": "code",
      "source": [
        "# N要素のベクトルを1行N列の行列に変形\n",
        "print(n10)\n",
        "print(n10.shape)\n",
        "\n",
        "n13 = n10.reshape(1, -1)\n",
        "print(n13)\n",
        "print(n13.shape)"
      ],
      "metadata": {
        "colab": {
          "base_uri": "https://localhost:8080/"
        },
        "id": "7BH4e7uC6jOH",
        "outputId": "7f6b1269-e37a-4af8-e7c7-3ca4af146e48"
      },
      "execution_count": null,
      "outputs": [
        {
          "output_type": "stream",
          "name": "stdout",
          "text": [
            "[ 0  1  2  3  4  5  6  7  8  9 10 11 12 13 14 15 16 17 18 19 20 21 22 23]\n",
            "(24,)\n",
            "[[ 0  1  2  3  4  5  6  7  8  9 10 11 12 13 14 15 16 17 18 19 20 21 22 23]]\n",
            "(1, 24)\n"
          ]
        }
      ]
    },
    {
      "cell_type": "code",
      "source": [
        "# 転置配列、行列に対して行と列を入れ替えたもの\n",
        "print(n2)\n",
        "\n",
        "n14 = n2.T\n",
        "print(n14)"
      ],
      "metadata": {
        "colab": {
          "base_uri": "https://localhost:8080/"
        },
        "id": "lo-b7vus7aNq",
        "outputId": "f2819056-a3db-47ec-f908-60e57e7f669b"
      },
      "execution_count": null,
      "outputs": [
        {
          "output_type": "stream",
          "name": "stdout",
          "text": [
            "[[ 1  2  3]\n",
            " [ 4  5  6]\n",
            " [ 7  8  9]\n",
            " [10 11 12]]\n",
            "[[ 1  4  7 10]\n",
            " [ 2  5  8 11]\n",
            " [ 3  6  9 12]]\n"
          ]
        }
      ]
    },
    {
      "cell_type": "code",
      "source": [
        "# 3段階の配列n12に(0,1,2)の軸を(1,2,0)に入れ替える\n",
        "print(n12.shape)\n",
        "print(n12)\n",
        "\n",
        "n14 = np.transpose(n12,(1 ,2 , 0))\n",
        "print(n14)\n",
        "print(n14.shape)"
      ],
      "metadata": {
        "colab": {
          "base_uri": "https://localhost:8080/"
        },
        "id": "hYCBy6LN75sA",
        "outputId": "e3cd487b-7acf-4de9-eafa-6f9b87b0a0a5"
      },
      "execution_count": null,
      "outputs": [
        {
          "output_type": "stream",
          "name": "stdout",
          "text": [
            "(2, 3, 4)\n",
            "[[[ 0  1  2  3]\n",
            "  [ 4  5  6  7]\n",
            "  [ 8  9 10 11]]\n",
            "\n",
            " [[12 13 14 15]\n",
            "  [16 17 18 19]\n",
            "  [20 21 22 23]]]\n",
            "[[[ 0 12]\n",
            "  [ 1 13]\n",
            "  [ 2 14]\n",
            "  [ 3 15]]\n",
            "\n",
            " [[ 4 16]\n",
            "  [ 5 17]\n",
            "  [ 6 18]\n",
            "  [ 7 19]]\n",
            "\n",
            " [[ 8 20]\n",
            "  [ 9 21]\n",
            "  [10 22]\n",
            "  [11 23]]]\n",
            "(3, 4, 2)\n"
          ]
        }
      ]
    },
    {
      "cell_type": "code",
      "source": [
        "# 行列の連結をしていきます\n",
        "n16 = np.array(range(1,7)).reshape(2,3)\n",
        "n17 = np.array(range(7,13)).reshape(2,3)\n",
        "\n",
        "n18 = np.array(range(14,17))\n",
        "n19 = np.array(range(17,19))\n",
        "print(n16)\n",
        "print(n17)\n",
        "print(n18)\n",
        "print(n19)"
      ],
      "metadata": {
        "colab": {
          "base_uri": "https://localhost:8080/"
        },
        "id": "NHlqQ2PeE99f",
        "outputId": "7c91c999-8dc6-478a-d6ee-8b2d89d7f0c2"
      },
      "execution_count": null,
      "outputs": [
        {
          "output_type": "stream",
          "name": "stdout",
          "text": [
            "[[1 2 3]\n",
            " [4 5 6]]\n",
            "[[ 7  8  9]\n",
            " [10 11 12]]\n",
            "[14 15 16]\n",
            "[17 18]\n"
          ]
        }
      ]
    },
    {
      "cell_type": "code",
      "source": [
        "# 行列同士の連結です\n",
        "# vstackは縦連結\n",
        "n20 = np.vstack([n16, n17])\n",
        "print(n20)"
      ],
      "metadata": {
        "colab": {
          "base_uri": "https://localhost:8080/"
        },
        "id": "CzkmI1PiGCEh",
        "outputId": "9d44463b-7df4-4199-c4b0-0ccc25a72907"
      },
      "execution_count": null,
      "outputs": [
        {
          "output_type": "stream",
          "name": "stdout",
          "text": [
            "[[ 1  2  3]\n",
            " [ 4  5  6]\n",
            " [ 7  8  9]\n",
            " [10 11 12]]\n"
          ]
        }
      ]
    },
    {
      "cell_type": "code",
      "source": [
        "# 行列とベクトルの連結\n",
        "n21 = np.vstack([n16, n18])\n",
        "print(n21)"
      ],
      "metadata": {
        "colab": {
          "base_uri": "https://localhost:8080/"
        },
        "id": "b1dguCI_MoFx",
        "outputId": "f3a07dc8-e3ef-4a90-ad21-82f6a11c8208"
      },
      "execution_count": null,
      "outputs": [
        {
          "output_type": "stream",
          "name": "stdout",
          "text": [
            "[[ 1  2  3]\n",
            " [ 4  5  6]\n",
            " [14 15 16]]\n"
          ]
        }
      ]
    },
    {
      "cell_type": "code",
      "source": [
        "# 行列同士の横連結\n",
        "# hstackは横連結\n",
        "n22 = np.hstack([n16, n17])\n",
        "print(n22)"
      ],
      "metadata": {
        "colab": {
          "base_uri": "https://localhost:8080/"
        },
        "id": "LuFEBweqM2KC",
        "outputId": "2126b396-e984-4703-ba0c-da8c96d74a65"
      },
      "execution_count": null,
      "outputs": [
        {
          "output_type": "stream",
          "name": "stdout",
          "text": [
            "[[ 1  2  3  7  8  9]\n",
            " [ 4  5  6 10 11 12]]\n"
          ]
        }
      ]
    },
    {
      "cell_type": "code",
      "source": [
        "n23 = n19.reshape(-1, 1)\n",
        "print(n23)\n",
        "n24 = np.hstack([n16, n23])\n",
        "print(n24)"
      ],
      "metadata": {
        "colab": {
          "base_uri": "https://localhost:8080/"
        },
        "id": "9hyTq3HXNf0_",
        "outputId": "91d5829d-8b4d-450c-a13f-e3d9c4a9d22d"
      },
      "execution_count": null,
      "outputs": [
        {
          "output_type": "stream",
          "name": "stdout",
          "text": [
            "[[17]\n",
            " [18]]\n",
            "[[ 1  2  3 17]\n",
            " [ 4  5  6 18]]\n"
          ]
        }
      ]
    },
    {
      "cell_type": "code",
      "source": [
        "# 演算\n",
        "# 単純な足し算\n",
        "print(n16)\n",
        "print(n17)\n",
        "n25 = n16 + n17\n",
        "print(n25)"
      ],
      "metadata": {
        "colab": {
          "base_uri": "https://localhost:8080/"
        },
        "id": "BAeUHmWUPs4X",
        "outputId": "129c3a88-19f8-4b73-c3a0-b467de85f9e8"
      },
      "execution_count": null,
      "outputs": [
        {
          "output_type": "stream",
          "name": "stdout",
          "text": [
            "[[1 2 3]\n",
            " [4 5 6]]\n",
            "[[ 7  8  9]\n",
            " [10 11 12]]\n",
            "[[ 8 10 12]\n",
            " [14 16 18]]\n"
          ]
        }
      ]
    },
    {
      "cell_type": "code",
      "source": [
        "# ブロードキャスト機能\n",
        "print(n1)\n",
        "n22 = n1 - 4\n",
        "print(n22)"
      ],
      "metadata": {
        "colab": {
          "base_uri": "https://localhost:8080/"
        },
        "id": "14z2VfjRRWq0",
        "outputId": "d8e1762c-c2f8-4c26-8c1e-cb1987f2109f"
      },
      "execution_count": null,
      "outputs": [
        {
          "output_type": "stream",
          "name": "stdout",
          "text": [
            "[1 2 3 4 5 6 7]\n",
            "[-3 -2 -1  0  1  2  3]\n"
          ]
        }
      ]
    },
    {
      "cell_type": "code",
      "source": [
        "# ユニバーサル関数\n",
        "x = np.linspace(0, 2*np.pi, 25)\n",
        "print(x)\n",
        "\n",
        "y = np.sin(x)\n",
        "print(y)"
      ],
      "metadata": {
        "colab": {
          "base_uri": "https://localhost:8080/"
        },
        "id": "jT6DmFshSwXL",
        "outputId": "06cc684d-ec72-4ebb-984e-d0be2be49c72"
      },
      "execution_count": null,
      "outputs": [
        {
          "output_type": "stream",
          "name": "stdout",
          "text": [
            "[0.      0.2618  0.5236  0.7854  1.0472  1.309   1.5708  1.8326  2.0944\n",
            " 2.35619 2.61799 2.87979 3.14159 3.40339 3.66519 3.92699 4.18879 4.45059\n",
            " 4.71239 4.97419 5.23599 5.49779 5.75959 6.02139 6.28319]\n",
            "[ 0.       0.25882  0.5      0.70711  0.86603  0.96593  1.       0.96593\n",
            "  0.86603  0.70711  0.5      0.25882  0.      -0.25882 -0.5     -0.70711\n",
            " -0.86603 -0.96593 -1.      -0.96593 -0.86603 -0.70711 -0.5     -0.25882\n",
            " -0.     ]\n"
          ]
        }
      ]
    },
    {
      "cell_type": "code",
      "source": [
        "# 集約関数\n",
        "# 和の関数\n",
        "print(f'元の変数: {n1}')\n",
        "n23 = np.sum(n1)\n",
        "print(f'和: {n23}')\n",
        "# 平均の計算\n",
        "n24 = np.mean(n1)\n",
        "print(f'平均: {n24}')\n",
        "# 最大の計算\n",
        "n25 = np.max(n1)\n",
        "print(f'最大: {n25}')\n",
        "# 最小の計算\n",
        "n26 = n1.min()\n",
        "print(f'最小値: {n26}')"
      ],
      "metadata": {
        "colab": {
          "base_uri": "https://localhost:8080/"
        },
        "id": "6nnWGFDGT7QJ",
        "outputId": "6bc96b7d-f786-466c-cd50-9a35f04563de"
      },
      "execution_count": null,
      "outputs": [
        {
          "output_type": "stream",
          "name": "stdout",
          "text": [
            "元の変数: [1 2 3 4 5 6 7]\n",
            "和: 28\n",
            "平均: 4.0\n",
            "最大: 7\n",
            "最小値: 1\n"
          ]
        }
      ]
    },
    {
      "cell_type": "code",
      "source": [
        "# 正解値\n",
        "yt = np.array([1, 1, 0, 1, 0, 1, 1, 0, 1, 1])\n",
        "# 予測値\n",
        "yp = np.array([1, 1, 0, 1, 1, 1, 1, 1, 1, 1])\n",
        "print(yt)\n",
        "print(yp)"
      ],
      "metadata": {
        "colab": {
          "base_uri": "https://localhost:8080/"
        },
        "id": "8qGAphwtUY8D",
        "outputId": "4b8dbc30-0966-400b-b528-61dabf553d47"
      },
      "execution_count": null,
      "outputs": [
        {
          "output_type": "stream",
          "name": "stdout",
          "text": [
            "[1 1 0 1 0 1 1 0 1 1]\n",
            "[1 1 0 1 1 1 1 1 1 1]\n"
          ]
        }
      ]
    },
    {
      "cell_type": "code",
      "source": [
        "matched = (yt == yp)\n",
        "print(matched)"
      ],
      "metadata": {
        "colab": {
          "base_uri": "https://localhost:8080/"
        },
        "id": "XfsK15uNWU9X",
        "outputId": "5216c5b7-71dd-4b59-e733-bc1e55608bbe"
      },
      "execution_count": null,
      "outputs": [
        {
          "output_type": "stream",
          "name": "stdout",
          "text": [
            "[ True  True  True  True False  True  True False  True  True]\n"
          ]
        }
      ]
    },
    {
      "cell_type": "code",
      "source": [
        "# ブーリアン型の場合、Trueが1でFalseが0になる\n",
        "correct = matched.sum()\n",
        "total = len(yt)\n",
        "accuracy = correct/total\n",
        "print(f'正解数: {correct} 全体数: {total} 精度: {accuracy:.3f}')"
      ],
      "metadata": {
        "colab": {
          "base_uri": "https://localhost:8080/"
        },
        "id": "2tYGg5IZWvMB",
        "outputId": "693a196f-6b7d-438b-e2ef-96ff13b89707"
      },
      "execution_count": null,
      "outputs": [
        {
          "output_type": "stream",
          "name": "stdout",
          "text": [
            "正解数: 8 全体数: 10 精度: 0.800\n"
          ]
        }
      ]
    },
    {
      "cell_type": "code",
      "source": [
        "# ベクトルの数値を1次関数で変換して[0,1]の範囲に収まるようにする\n",
        "print(n1)\n",
        "n1_max = n1.max()\n",
        "n1_min = n1.min()\n",
        "print(n1_max, n1_min)"
      ],
      "metadata": {
        "colab": {
          "base_uri": "https://localhost:8080/"
        },
        "id": "OpnkwnO0aLC4",
        "outputId": "aec8c6b3-4748-4cef-82c4-2c7b94aa13f0"
      },
      "execution_count": null,
      "outputs": [
        {
          "output_type": "stream",
          "name": "stdout",
          "text": [
            "[1 2 3 4 5 6 7]\n",
            "7 1\n"
          ]
        }
      ]
    },
    {
      "cell_type": "code",
      "source": [
        "# 変換（ブロードキャスト機能）\n",
        "n27 = (n1 - n1_min) / (n1_max - n1_min)\n",
        "print(n27)"
      ],
      "metadata": {
        "colab": {
          "base_uri": "https://localhost:8080/"
        },
        "id": "w2svxcd6bzNy",
        "outputId": "fd43ba13-9766-4535-8eac-533a0ae0ea3b"
      },
      "execution_count": null,
      "outputs": [
        {
          "output_type": "stream",
          "name": "stdout",
          "text": [
            "[0.      0.16667 0.33333 0.5     0.66667 0.83333 1.     ]\n"
          ]
        }
      ]
    },
    {
      "cell_type": "code",
      "source": [
        "# ある条件を満たす行の中心\n",
        "print(n2)\n",
        "# 全ての行の1列目（1,4,7,10）\n",
        "n28 = n2[:,0] % 2 == 0\n",
        "print(n28)"
      ],
      "metadata": {
        "colab": {
          "base_uri": "https://localhost:8080/"
        },
        "id": "xktijiRyt7FV",
        "outputId": "c125992a-ca1c-450c-fc0d-fdcb62990a64"
      },
      "execution_count": null,
      "outputs": [
        {
          "output_type": "stream",
          "name": "stdout",
          "text": [
            "[[ 1  2  3]\n",
            " [ 4  5  6]\n",
            " [ 7  8  9]\n",
            " [10 11 12]]\n",
            "[False  True False  True]\n"
          ]
        }
      ]
    },
    {
      "cell_type": "code",
      "source": [
        "n29 = n2[n28]\n",
        "print(n29)"
      ],
      "metadata": {
        "colab": {
          "base_uri": "https://localhost:8080/"
        },
        "id": "kabs8diAu1Y1",
        "outputId": "163223a5-ebe4-4fb8-bdeb-156af1cf78d2"
      },
      "execution_count": null,
      "outputs": [
        {
          "output_type": "stream",
          "name": "stdout",
          "text": [
            "[[ 4  5  6]\n",
            " [10 11 12]]\n"
          ]
        }
      ]
    },
    {
      "cell_type": "code",
      "source": [
        "!pip install japanize-matplotlib"
      ],
      "metadata": {
        "colab": {
          "base_uri": "https://localhost:8080/"
        },
        "id": "BNAWtHCvzXww",
        "outputId": "2feced6d-1c1f-4a30-f7cd-46585aed60f4"
      },
      "execution_count": null,
      "outputs": [
        {
          "output_type": "stream",
          "name": "stdout",
          "text": [
            "Looking in indexes: https://pypi.org/simple, https://us-python.pkg.dev/colab-wheels/public/simple/\n",
            "Collecting japanize-matplotlib\n",
            "  Downloading japanize-matplotlib-1.1.3.tar.gz (4.1 MB)\n",
            "\u001b[2K     \u001b[90m━━━━━━━━━━━━━━━━━━━━━━━━━━━━━━━━━━━━━━━━\u001b[0m \u001b[32m4.1/4.1 MB\u001b[0m \u001b[31m18.8 MB/s\u001b[0m eta \u001b[36m0:00:00\u001b[0m\n",
            "\u001b[?25h  Preparing metadata (setup.py) ... \u001b[?25l\u001b[?25hdone\n",
            "Requirement already satisfied: matplotlib in /usr/local/lib/python3.8/dist-packages (from japanize-matplotlib) (3.2.2)\n",
            "Requirement already satisfied: kiwisolver>=1.0.1 in /usr/local/lib/python3.8/dist-packages (from matplotlib->japanize-matplotlib) (1.4.4)\n",
            "Requirement already satisfied: pyparsing!=2.0.4,!=2.1.2,!=2.1.6,>=2.0.1 in /usr/local/lib/python3.8/dist-packages (from matplotlib->japanize-matplotlib) (3.0.9)\n",
            "Requirement already satisfied: numpy>=1.11 in /usr/local/lib/python3.8/dist-packages (from matplotlib->japanize-matplotlib) (1.21.6)\n",
            "Requirement already satisfied: python-dateutil>=2.1 in /usr/local/lib/python3.8/dist-packages (from matplotlib->japanize-matplotlib) (2.8.2)\n",
            "Requirement already satisfied: cycler>=0.10 in /usr/local/lib/python3.8/dist-packages (from matplotlib->japanize-matplotlib) (0.11.0)\n",
            "Requirement already satisfied: six>=1.5 in /usr/local/lib/python3.8/dist-packages (from python-dateutil>=2.1->matplotlib->japanize-matplotlib) (1.15.0)\n",
            "Building wheels for collected packages: japanize-matplotlib\n",
            "  Building wheel for japanize-matplotlib (setup.py) ... \u001b[?25l\u001b[?25hdone\n",
            "  Created wheel for japanize-matplotlib: filename=japanize_matplotlib-1.1.3-py3-none-any.whl size=4120275 sha256=631429c268e004d16bcfa2c62d416e3b9043b09f4c3deca0a9603b8682a8d528\n",
            "  Stored in directory: /root/.cache/pip/wheels/4f/ca/96/4cc5e192421cceb077fbf4ffec533382edd416fd3fa0af0bbd\n",
            "Successfully built japanize-matplotlib\n",
            "Installing collected packages: japanize-matplotlib\n",
            "Successfully installed japanize-matplotlib-1.1.3\n"
          ]
        }
      ]
    },
    {
      "cell_type": "code",
      "source": [
        "import matplotlib.pyplot as plt\n",
        "import japanize_matplotlib"
      ],
      "metadata": {
        "id": "7P0Tmq4Rzhq0"
      },
      "execution_count": null,
      "outputs": []
    },
    {
      "cell_type": "code",
      "source": [
        "plt.rcParams['font.size'] = 14\n",
        "plt.rcParams['figure.figsize'] = (6, 6)\n",
        "\n",
        "plt.rcParams['axes.grid'] = True"
      ],
      "metadata": {
        "id": "ICpelPY20foZ"
      },
      "execution_count": null,
      "outputs": []
    },
    {
      "cell_type": "code",
      "source": [
        "# 散布図\n",
        "# データ散布図\n",
        "import seaborn as sns\n",
        "df_iris = sns.load_dataset(\"iris\")\n",
        "# 結果確認\n",
        "print(df_iris.head())\n",
        "# 散布図x座標用配列\n",
        "xs = df_iris['sepal_length'].values\n",
        "# 散布図y座標用配列\n",
        "ys = df_iris['sepal_width'].values"
      ],
      "metadata": {
        "colab": {
          "base_uri": "https://localhost:8080/"
        },
        "id": "X4Mz-V1P2Yr7",
        "outputId": "b2946448-87aa-4446-9f14-5cb157592b8f"
      },
      "execution_count": null,
      "outputs": [
        {
          "output_type": "stream",
          "name": "stdout",
          "text": [
            "   sepal_length  sepal_width  petal_length  petal_width species\n",
            "0           5.1          3.5           1.4          0.2  setosa\n",
            "1           4.9          3.0           1.4          0.2  setosa\n",
            "2           4.7          3.2           1.3          0.2  setosa\n",
            "3           4.6          3.1           1.5          0.2  setosa\n",
            "4           5.0          3.6           1.4          0.2  setosa\n"
          ]
        }
      ]
    },
    {
      "cell_type": "code",
      "source": [
        "plt.scatter(xs, ys)\n",
        "plt.show()"
      ],
      "metadata": {
        "colab": {
          "base_uri": "https://localhost:8080/",
          "height": 380
        },
        "id": "cXkvtmtF3jKf",
        "outputId": "0346ceb2-1598-4364-f5ba-9dbb55414e37"
      },
      "execution_count": null,
      "outputs": [
        {
          "output_type": "display_data",
          "data": {
            "text/plain": [
              "<Figure size 432x432 with 1 Axes>"
            ],
            "image/png": "[encoded data removed]"
          },
          "metadata": {
            "needs_background": "light"
          }
        }
      ]
    },
    {
      "cell_type": "code",
      "source": [
        "# 関数グラフ\n",
        "# シグモイド関数の定義\n",
        "def sigmoid(x ,a):\n",
        "    return 1/(1 + np.exp(-a*x))\n",
        "xp = np.linspace(-3, 3, 61)\n",
        "yp = sigmoid(xp, 1.0)\n",
        "yp2 = sigmoid(xp, 2.0)"
      ],
      "metadata": {
        "id": "ABi21fDs4Lag"
      },
      "execution_count": null,
      "outputs": []
    },
    {
      "cell_type": "code",
      "source": [
        "plt.plot(xp, yp)\n",
        "plt.show()"
      ],
      "metadata": {
        "colab": {
          "base_uri": "https://localhost:8080/",
          "height": 377
        },
        "id": "mbtmVjqH4_4A",
        "outputId": "de256751-f7a9-43a9-d178-501ff9d1ef93"
      },
      "execution_count": null,
      "outputs": [
        {
          "output_type": "display_data",
          "data": {
            "text/plain": [
              "<Figure size 432x432 with 1 Axes>"
            ],
            "image/png": "[encoded data removed]"
          },
          "metadata": {
            "needs_background": "light"
          }
        }
      ]
    },
    {
      "cell_type": "code",
      "source": [
        "# subplotを使った複数のグラフの同時描画\n"
      ],
      "metadata": {
        "id": "iNSZkcL66EDO"
      },
      "execution_count": null,
      "outputs": []
    }
  ]
}