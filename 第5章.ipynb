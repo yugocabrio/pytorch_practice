{
  "nbformat": 4,
  "nbformat_minor": 0,
  "metadata": {
    "colab": {
      "provenance": [],
      "authorship_tag": "ABX9TyNryhi8g9EetbaoM1YB3W7x",
      "include_colab_link": true
    },
    "kernelspec": {
      "name": "python3",
      "display_name": "Python 3"
    },
    "language_info": {
      "name": "python"
    }
  },
  "cells": [
    {
      "cell_type": "markdown",
      "metadata": {
        "id": "view-in-github",
        "colab_type": "text"
      },
      "source": [
        "<a href=\"https://colab.research.google.com/github/yugonsan/pytorch_practice/blob/main/%E7%AC%AC5%E7%AB%A0.ipynb\" target=\"_parent\"><img src=\"https://colab.research.google.com/assets/colab-badge.svg\" alt=\"Open In Colab\"/></a>"
      ]
    },
    {
      "cell_type": "code",
      "execution_count": 1,
      "metadata": {
        "colab": {
          "base_uri": "https://localhost:8080/"
        },
        "id": "XRVrn2dsi_E0",
        "outputId": "e98db8e6-b042-4e46-8498-6be9e9e87b9a"
      },
      "outputs": [
        {
          "output_type": "stream",
          "name": "stdout",
          "text": [
            "Successfully installed japanize_matplotlib-1.1.3\n",
            "Successfully installed torchviz-0.0.2\n",
            "Successfully installed torchinfo-1.7.1\n"
          ]
        }
      ],
      "source": [
        "# 必要ライブラリの導入\n",
        "\n",
        "!pip install japanize_matplotlib | tail -n 1\n",
        "!pip install torchviz | tail -n 1\n",
        "!pip install torchinfo | tail -n 1"
      ]
    },
    {
      "cell_type": "code",
      "source": [
        "# 必要ライブラリのインポート\n",
        "\n",
        "%matplotlib inline\n",
        "import numpy as np\n",
        "import pandas as pd\n",
        "import matplotlib.pyplot as plt\n",
        "import japanize_matplotlib\n",
        "from IPython.display import display"
      ],
      "metadata": {
        "id": "7BbLmnxMjFnV"
      },
      "execution_count": 2,
      "outputs": []
    },
    {
      "cell_type": "code",
      "source": [
        "import torch\n",
        "import torch.nn as nn\n",
        "import torch.optim as optim\n",
        "from torchviz import make_dot"
      ],
      "metadata": {
        "id": "0RvAytHwjH0A"
      },
      "execution_count": 3,
      "outputs": []
    },
    {
      "cell_type": "code",
      "source": [
        "# デフォルトフォントサイズ変更\n",
        "plt.rcParams['font.size'] = 14\n",
        "\n",
        "# デフォルトグラフサイズ変更\n",
        "plt.rcParams['figure.figsize'] = (6,6)\n",
        "\n",
        "# デフォルトで方眼表示ON\n",
        "plt.rcParams['axes.grid'] = True\n",
        "\n",
        "# numpyの浮動小数点の表示精度\n",
        "np.set_printoptions(suppress=True, precision=4)"
      ],
      "metadata": {
        "id": "ho66vSf3jJxv"
      },
      "execution_count": 4,
      "outputs": []
    },
    {
      "cell_type": "markdown",
      "source": [
        "- 線形関数（nn.Linear）\n",
        "- カスタム定義により学習モデルを作る\n",
        "- 平均2乗誤差による損失関数クラス（nn.MSELoss）を利用する\n",
        "\n"
      ],
      "metadata": {
        "id": "3pjHBHQjje1p"
      }
    },
    {
      "cell_type": "code",
      "source": [
        "#入力1、出力1の線形関数\n",
        "# 乱数の種固定\n",
        "torch.manual_seed(123)\n",
        "# 入力1、出力1の線形関数\n",
        "l1 = nn.Linear(1, 1)\n",
        "# 線形関数の表示\n",
        "print(l1)"
      ],
      "metadata": {
        "colab": {
          "base_uri": "https://localhost:8080/"
        },
        "id": "bWt_536cj_7H",
        "outputId": "704a3160-4186-4887-f1ba-7daaa4af0fbb"
      },
      "execution_count": 5,
      "outputs": [
        {
          "output_type": "stream",
          "name": "stdout",
          "text": [
            "Linear(in_features=1, out_features=1, bias=True)\n"
          ]
        }
      ]
    },
    {
      "cell_type": "code",
      "source": [
        "# named_parametersという関数を呼び出すと、パラメータ名、パラメータ参照のリストを返してくれます\n",
        "print(l1.named_parameters)\n",
        "for param in l1.named_parameters():\n",
        "    print('name:', param[0])\n",
        "    print('tensor:',param[1])\n",
        "    print('shape:',param[1].shape)"
      ],
      "metadata": {
        "colab": {
          "base_uri": "https://localhost:8080/"
        },
        "id": "yuakUiBOktoH",
        "outputId": "642958ec-cff3-473b-e3f8-fbd90c639cf5"
      },
      "execution_count": 6,
      "outputs": [
        {
          "output_type": "stream",
          "name": "stdout",
          "text": [
            "<bound method Module.named_parameters of Linear(in_features=1, out_features=1, bias=True)>\n",
            "name: weight\n",
            "tensor: Parameter containing:\n",
            "tensor([[-0.4078]], requires_grad=True)\n",
            "shape: torch.Size([1, 1])\n",
            "name: bias\n",
            "tensor: Parameter containing:\n",
            "tensor([0.0331], requires_grad=True)\n",
            "shape: torch.Size([1])\n"
          ]
        }
      ]
    },
    {
      "cell_type": "markdown",
      "source": [
        "結果を見ると[1,1]というshapeを持つ変数weightと[1]というshapeを持つ変数biasがあることがわかりました。"
      ],
      "metadata": {
        "id": "sS_tsQeolrK6"
      }
    },
    {
      "cell_type": "markdown",
      "source": [
        "乱数値じゃなくて、線形関数を指定する事もできるよ\n"
      ],
      "metadata": {
        "id": "kYQ9xq3NmRHU"
      }
    },
    {
      "cell_type": "code",
      "source": [
        "# 初期設定 y=2x+1\n",
        "nn.init.constant_(l1.weight, 2.0)\n",
        "nn.init.constant_(l1.bias, 1.0)\n",
        "print(l1.weight)\n",
        "print(l1.bias)"
      ],
      "metadata": {
        "colab": {
          "base_uri": "https://localhost:8080/"
        },
        "id": "zmg286T5nBYh",
        "outputId": "de1515ba-bf37-4a61-d60c-218baf923858"
      },
      "execution_count": 7,
      "outputs": [
        {
          "output_type": "stream",
          "name": "stdout",
          "text": [
            "Parameter containing:\n",
            "tensor([[2.]], requires_grad=True)\n",
            "Parameter containing:\n",
            "tensor([1.], requires_grad=True)\n"
          ]
        }
      ]
    },
    {
      "cell_type": "code",
      "source": [
        "# テスト用データを作成\n",
        "x_np = np.arange(-2, 2.1, 1)\n",
        "# テンソル変数化\n",
        "x = torch.tensor(x_np).float()\n",
        "# サイズを（N,1）に変化\n",
        "x = x.view(-1,1)\n",
        "# 結果を確認\n",
        "print(x.shape)\n",
        "print(x)"
      ],
      "metadata": {
        "colab": {
          "base_uri": "https://localhost:8080/"
        },
        "id": "dkkqRZTRn3T7",
        "outputId": "c1a6f62d-7c8a-42db-f6d7-8c996807526d"
      },
      "execution_count": 8,
      "outputs": [
        {
          "output_type": "stream",
          "name": "stdout",
          "text": [
            "torch.Size([5, 1])\n",
            "tensor([[-2.],\n",
            "        [-1.],\n",
            "        [ 0.],\n",
            "        [ 1.],\n",
            "        [ 2.]])\n"
          ]
        }
      ]
    },
    {
      "cell_type": "markdown",
      "source": [
        "- 配列をテンソル変数化する際にfloat関数をかけて、データ型を変換している点です。この指定をしないとxはdoubleのデータ型になり、その状態で線形関数を呼び出すとエラーになる。\n",
        "- 入力変数は1次元テンソルで表現できているのに、わざわざshapeが[5,1]の2次元テンソルに変換している点です。\n"
      ],
      "metadata": {
        "id": "tc6jJ8Znohla"
      }
    },
    {
      "cell_type": "code",
      "source": [
        "# 1次関数のテスト\n",
        "y = l1(x)\n",
        "print(y.shape)\n",
        "print(y.data)"
      ],
      "metadata": {
        "colab": {
          "base_uri": "https://localhost:8080/"
        },
        "id": "1sqGfbippOkB",
        "outputId": "d7241d5d-08a8-4ea8-b73a-37747f33a0e2"
      },
      "execution_count": 9,
      "outputs": [
        {
          "output_type": "stream",
          "name": "stdout",
          "text": [
            "torch.Size([5, 1])\n",
            "tensor([[-3.],\n",
            "        [-1.],\n",
            "        [ 1.],\n",
            "        [ 3.],\n",
            "        [ 5.]])\n"
          ]
        }
      ]
    },
    {
      "cell_type": "code",
      "source": [
        "# 入力2と出力1 #重回帰と同じパターン\n",
        "l2 = nn.Linear(2, 1)\n",
        "# 初期値設定\n",
        "nn.init.constant_(l2.weight, 1.0)\n",
        "nn.init.constant_(l2.bias, 2.0)\n",
        "# 結果確認\n",
        "print(l2.weight)\n",
        "print(l2.bias)"
      ],
      "metadata": {
        "colab": {
          "base_uri": "https://localhost:8080/"
        },
        "id": "ZKeuOjrqpyVV",
        "outputId": "e8a506c0-4949-43cf-ca25-60139757f0c2"
      },
      "execution_count": 10,
      "outputs": [
        {
          "output_type": "stream",
          "name": "stdout",
          "text": [
            "Parameter containing:\n",
            "tensor([[1., 1.]], requires_grad=True)\n",
            "Parameter containing:\n",
            "tensor([2.], requires_grad=True)\n"
          ]
        }
      ]
    },
    {
      "cell_type": "code",
      "source": [
        "# 2次元NumPy配列\n",
        "x2_np = np.array([[0,0],[0,1],[1,0],[1,1]])\n",
        "# テンソル変数化、floatに直す\n",
        "x2 = torch.tensor(x2_np).float()\n",
        "# 結果確認\n",
        "print(x2.shape)\n",
        "print(x2)"
      ],
      "metadata": {
        "colab": {
          "base_uri": "https://localhost:8080/"
        },
        "id": "gr2iuqvtrJ38",
        "outputId": "074d594d-3b46-4fd7-be19-a2f65791b11b"
      },
      "execution_count": 11,
      "outputs": [
        {
          "output_type": "stream",
          "name": "stdout",
          "text": [
            "torch.Size([4, 2])\n",
            "tensor([[0., 0.],\n",
            "        [0., 1.],\n",
            "        [1., 0.],\n",
            "        [1., 1.]])\n"
          ]
        }
      ]
    },
    {
      "cell_type": "code",
      "source": [
        "# 関数呼び出しテストの実装と結果\n",
        "y2 = l2(x2)\n",
        "# shpae確認\n",
        "print(y2.shape)\n",
        "print(y2.data)"
      ],
      "metadata": {
        "colab": {
          "base_uri": "https://localhost:8080/"
        },
        "id": "aqZwak0-sk7e",
        "outputId": "610a17a5-27bf-4f49-9c37-628871f6fe8a"
      },
      "execution_count": 12,
      "outputs": [
        {
          "output_type": "stream",
          "name": "stdout",
          "text": [
            "torch.Size([4, 1])\n",
            "tensor([[2.],\n",
            "        [3.],\n",
            "        [3.],\n",
            "        [4.]])\n"
          ]
        }
      ]
    },
    {
      "cell_type": "code",
      "source": [
        "# 2入力3出力の線形関数の定義\n",
        "l3 = nn.Linear(2, 3)\n",
        "# 初期値設定\n",
        "nn.init.constant_(l3.weight[0,:], 1.0)\n",
        "nn.init.constant_(l3.weight[1,:], 2.0)\n",
        "nn.init.constant_(l3.weight[2,:], 3.0)\n",
        "nn.init.constant_(l3.bias, 2.0)\n",
        "# 結果確認\n",
        "print(l3.weight)\n",
        "print(l3.bias)"
      ],
      "metadata": {
        "colab": {
          "base_uri": "https://localhost:8080/"
        },
        "id": "ZgcDjcUEuF9n",
        "outputId": "bfa7acde-343a-4778-bf39-ec8ec1a981f8"
      },
      "execution_count": 13,
      "outputs": [
        {
          "output_type": "stream",
          "name": "stdout",
          "text": [
            "Parameter containing:\n",
            "tensor([[1., 1.],\n",
            "        [2., 2.],\n",
            "        [3., 3.]], requires_grad=True)\n",
            "Parameter containing:\n",
            "tensor([2., 2., 2.], requires_grad=True)\n"
          ]
        }
      ]
    },
    {
      "cell_type": "code",
      "source": [
        "# 関数値計算\n",
        "y3 = l3(x2)\n",
        "# shape確認\n",
        "print(y3.shape)\n",
        "# 値確認\n",
        "print(y3.data)"
      ],
      "metadata": {
        "colab": {
          "base_uri": "https://localhost:8080/"
        },
        "id": "vXWTJqhivkmp",
        "outputId": "79a219eb-fa3a-4342-9640-6b9c36d68d4a"
      },
      "execution_count": 14,
      "outputs": [
        {
          "output_type": "stream",
          "name": "stdout",
          "text": [
            "torch.Size([4, 3])\n",
            "tensor([[2., 2., 2.],\n",
            "        [3., 4., 5.],\n",
            "        [3., 4., 5.],\n",
            "        [4., 6., 8.]])\n"
          ]
        }
      ]
    },
    {
      "cell_type": "markdown",
      "source": [
        "カスタムクラスによるモデル定義は予測関数に関わるものです"
      ],
      "metadata": {
        "id": "nuB_OklJwlVK"
      }
    },
    {
      "cell_type": "code",
      "source": [
        "# モデルのクラス定義\n",
        "\n",
        "class Net(nn.Module):\n",
        "    def __init__(self, n_input, n_output):\n",
        "        #  親クラスnn.Modulesの初期化呼び出し\n",
        "        super().__init__()\n",
        "\n",
        "        # 出力層の定義\n",
        "        self.l1 = nn.Linear(n_input, n_output)   \n",
        "        \n",
        "    # 予測関数の定義\n",
        "    def forward(self, x):\n",
        "        x1 = self.l1(x) # 線形回帰\n",
        "        return x1"
      ],
      "metadata": {
        "id": "ooBkIJVRw_L5"
      },
      "execution_count": 15,
      "outputs": []
    },
    {
      "cell_type": "markdown",
      "source": [
        "- nn.Moduleである\n",
        "- forward関数が定義されていてここで関数の予測処理を実装する"
      ],
      "metadata": {
        "id": "Ua2wBK_-yFbh"
      }
    },
    {
      "cell_type": "code",
      "source": [
        "# ダミー入力\n",
        "inputs = torch.ones(100,1)\n",
        "\n",
        "# インスタンスの生成 (１入力1出力の線形モデル)\n",
        "n_input = 1\n",
        "n_output = 1\n",
        "net = Net(n_input, n_output)\n",
        "\n",
        "# 予測\n",
        "outputs = net(inputs)"
      ],
      "metadata": {
        "id": "BXYvnsLVypzF"
      },
      "execution_count": 16,
      "outputs": []
    },
    {
      "cell_type": "markdown",
      "source": [
        "- 損失関数は損失計算と勾配計算を担います\n",
        "- 損失lossとは予測関数と損失関数を組み合わせて出来上がった合成関数を計算すること\n",
        "- この合成関数（損失）はweightとbiasを引数とします\n",
        "- 合成関数（損失）をパラメターで微分することが勾配計算であり、勾配計算の結果が勾配効果法のパラメタ修正で使います。"
      ],
      "metadata": {
        "id": "Bm_VPcun7cKN"
      }
    },
    {
      "cell_type": "code",
      "source": [
        "# 損失関数（平均2乗誤差）\n",
        "criterion = nn.MSELoss\n",
        "# 誤差計算\n",
        "loss = criterion(outputs, labels1) / 2.0\n"
      ],
      "metadata": {
        "colab": {
          "base_uri": "https://localhost:8080/",
          "height": 204
        },
        "id": "53XPVIz78dQ6",
        "outputId": "c5bbed1b-3f88-4deb-f772-ca55e2c3916f"
      },
      "execution_count": 17,
      "outputs": [
        {
          "output_type": "error",
          "ename": "NameError",
          "evalue": "ignored",
          "traceback": [
            "\u001b[0;31m---------------------------------------------------------------------------\u001b[0m",
            "\u001b[0;31mNameError\u001b[0m                                 Traceback (most recent call last)",
            "\u001b[0;32m<ipython-input-17-12f92a280c38>\u001b[0m in \u001b[0;36m<module>\u001b[0;34m\u001b[0m\n\u001b[1;32m      2\u001b[0m \u001b[0mcriterion\u001b[0m \u001b[0;34m=\u001b[0m \u001b[0mnn\u001b[0m\u001b[0;34m.\u001b[0m\u001b[0mMSELoss\u001b[0m\u001b[0;34m\u001b[0m\u001b[0;34m\u001b[0m\u001b[0m\n\u001b[1;32m      3\u001b[0m \u001b[0;31m# 誤差計算\u001b[0m\u001b[0;34m\u001b[0m\u001b[0;34m\u001b[0m\u001b[0;34m\u001b[0m\u001b[0m\n\u001b[0;32m----> 4\u001b[0;31m \u001b[0mloss\u001b[0m \u001b[0;34m=\u001b[0m \u001b[0mcriterion\u001b[0m\u001b[0;34m(\u001b[0m\u001b[0moutputs\u001b[0m\u001b[0;34m,\u001b[0m \u001b[0mlabels1\u001b[0m\u001b[0;34m)\u001b[0m \u001b[0;34m/\u001b[0m \u001b[0;36m2.0\u001b[0m\u001b[0;34m\u001b[0m\u001b[0;34m\u001b[0m\u001b[0m\n\u001b[0m",
            "\u001b[0;31mNameError\u001b[0m: name 'labels1' is not defined"
          ]
        }
      ]
    },
    {
      "cell_type": "code",
      "source": [
        "# 学習用データ準備\n",
        "\n",
        "# 「ボストン・データセット」はscikit-learnのライブラリでも取得できるが、\n",
        "# その場合、将来版で利用できなくなる予定のため、別Webサイトから取得する\n",
        "data_url = \"http://lib.stat.cmu.edu/datasets/boston\"\n",
        "raw_df = pd.read_csv(data_url, sep=\"\\s+\", \n",
        "    skiprows=22, header=None)\n",
        "x_org = np.hstack([raw_df.values[::2, :], \n",
        "    raw_df.values[1::2, :2]])\n",
        "yt = raw_df.values[1::2, 2]\n",
        "feature_names = np.array(['CRIM', 'ZN', 'INDUS', 'CHAS', 'NOX',\n",
        "    'RM', 'AGE', 'DIS', 'RAD', 'TAX', 'PTRATIO','B', 'LSTAT'])\n",
        "\n",
        "# 結果確認\n",
        "print('元データ', x_org.shape, yt.shape)\n",
        "print('項目名: ', feature_names)"
      ],
      "metadata": {
        "colab": {
          "base_uri": "https://localhost:8080/"
        },
        "id": "uY0ytIrj9ZIs",
        "outputId": "6052eb5e-1344-47e1-ac1a-6c4612ef811a"
      },
      "execution_count": 17,
      "outputs": [
        {
          "output_type": "stream",
          "name": "stdout",
          "text": [
            "元データ (506, 13) (506,)\n",
            "項目名:  ['CRIM' 'ZN' 'INDUS' 'CHAS' 'NOX' 'RM' 'AGE' 'DIS' 'RAD' 'TAX' 'PTRATIO'\n",
            " 'B' 'LSTAT']\n"
          ]
        }
      ]
    },
    {
      "cell_type": "code",
      "source": [
        "# データ絞り込み (項目 RMのみ)\n",
        "x = x_org[:,feature_names == 'RM']\n",
        "print('絞り込み後', x.shape)\n",
        "print(x[:5,:])\n",
        "\n",
        "# 正解データ yの表示\n",
        "print('正解データ')\n",
        "print(yt[:5])"
      ],
      "metadata": {
        "colab": {
          "base_uri": "https://localhost:8080/"
        },
        "id": "6rMDvXpK9cpL",
        "outputId": "d0b2889f-869a-464d-c385-2fe21d57b814"
      },
      "execution_count": 18,
      "outputs": [
        {
          "output_type": "stream",
          "name": "stdout",
          "text": [
            "絞り込み後 (506, 1)\n",
            "[[6.575]\n",
            " [6.421]\n",
            " [7.185]\n",
            " [6.998]\n",
            " [7.147]]\n",
            "正解データ\n",
            "[24.  21.6 34.7 33.4 36.2]\n"
          ]
        }
      ]
    },
    {
      "cell_type": "code",
      "source": [
        "# 散布図の表示\n",
        "\n",
        "plt.scatter(x, yt, s=10, c='b')\n",
        "plt.xlabel('部屋数')\n",
        "plt.ylabel('価格')\n",
        "plt.title('部屋数と価格の散布図')\n",
        "plt.show()"
      ],
      "metadata": {
        "colab": {
          "base_uri": "https://localhost:8080/",
          "height": 413
        },
        "id": "CxrCXQgU9e3G",
        "outputId": "1fe97328-dc48-46ef-db8b-2c362161939e"
      },
      "execution_count": 19,
      "outputs": [
        {
          "output_type": "display_data",
          "data": {
            "text/plain": [
              "<Figure size 432x432 with 1 Axes>"
            ],
            "image/png": "[encoded data removed]"
          },
          "metadata": {
            "needs_background": "light"
          }
        }
      ]
    },
    {
      "cell_type": "code",
      "source": [
        "# モデル定義\n",
        "# 入力次元数\n",
        "n_input = x.shape[1]\n",
        "print(x.shape)\n",
        "print(n_input)\n",
        "# 出力次元数\n",
        "n_output = 1\n",
        "print(f'入力次元数:{n_input} 出力次元数:{n_output}')"
      ],
      "metadata": {
        "colab": {
          "base_uri": "https://localhost:8080/"
        },
        "id": "u7tsL_ODxkFh",
        "outputId": "29e1a7ff-ba10-4856-aade-e20d3dde3e47"
      },
      "execution_count": 20,
      "outputs": [
        {
          "output_type": "stream",
          "name": "stdout",
          "text": [
            "(506, 1)\n",
            "1\n",
            "入力次元数:1 出力次元数:1\n"
          ]
        }
      ]
    },
    {
      "cell_type": "code",
      "source": [
        "# 機械学習モデル（予測モデル）クラス定義\n",
        "\n",
        "class Net(nn.Module):\n",
        "    def __init__(self, n_input, n_output):\n",
        "        #  親クラスnn.Modulesの初期化呼び出し\n",
        "        super().__init__()\n",
        "\n",
        "        # 出力層の定義\n",
        "        self.l1 = nn.Linear(n_input, n_output)   \n",
        "        \n",
        "        # 初期値を全部1にする\n",
        "        # 「ディープラーニングの数学」と条件を合わせる目的\n",
        "        nn.init.constant_(self.l1.weight, 1.0)\n",
        "        nn.init.constant_(self.l1.bias, 1.0)\n",
        "\n",
        "    # 予測関数の定義\n",
        "    def forward(self, x):\n",
        "        x1 = self.l1(x) # 線形回帰\n",
        "        return x1"
      ],
      "metadata": {
        "id": "Jz892sab1HYT"
      },
      "execution_count": 21,
      "outputs": []
    },
    {
      "cell_type": "markdown",
      "source": [
        "- 入力、出力1次元で、重みl1.weightはshape=[1,1]の2階テンソル、バイアスlib.biasはshape=[1]の1階テンソルです。\n",
        "- forwardの定義：Pytorchではモデルのクラスの内部で必ずforward関数を定義し、入力テンソルinputsを入力として出力テンソルoutputsを出力するための処理を記述する"
      ],
      "metadata": {
        "id": "_psCLk0n22Ab"
      }
    },
    {
      "cell_type": "code",
      "source": [
        "# インスタンスの生成\n",
        "# １入力1出力の線形モデル\n",
        "\n",
        "net = Net(n_input, n_output)"
      ],
      "metadata": {
        "id": "dad4r_jK4K4m"
      },
      "execution_count": 22,
      "outputs": []
    },
    {
      "cell_type": "code",
      "source": [
        "# モデル内のパラメタの確認\n",
        "# モデル内のパラメタ取得には、named_parameres関数を利用する\n",
        "# 結果の第一要素が名前、第二要素が値\n",
        "for parameter in net.named_parameters():\n",
        "    print(f'変数名: {parameter[0]}')\n",
        "    print(f'変数名: {parameter[1].data}')"
      ],
      "metadata": {
        "colab": {
          "base_uri": "https://localhost:8080/"
        },
        "id": "Dkoe8n-e5P3F",
        "outputId": "6eed11ce-7bf8-4779-80ca-93d5086395ca"
      },
      "execution_count": 23,
      "outputs": [
        {
          "output_type": "stream",
          "name": "stdout",
          "text": [
            "変数名: l1.weight\n",
            "変数名: tensor([[1.]])\n",
            "変数名: l1.bias\n",
            "変数名: tensor([1.])\n"
          ]
        }
      ]
    },
    {
      "cell_type": "markdown",
      "source": [
        "named_parameters() は PyTorch の関数で、nn.Module クラスに組み込まれているメソッドです。これはモジュールのパラメータに対するイテレータを返し、パラメータの名前とパラメータそのものを返します。これはデバッグやモデルのパラメータを検査するのに便利です。"
      ],
      "metadata": {
        "id": "o4f4KAsy9H1L"
      }
    },
    {
      "cell_type": "code",
      "source": [
        "# parameters関数の場合は、パラメーター変数だけが名前なしにリスト形式で帰ってくる\n",
        "print(net.parameters)\n",
        "for parameter in net.parameters():\n",
        "    print(parameter)"
      ],
      "metadata": {
        "colab": {
          "base_uri": "https://localhost:8080/"
        },
        "id": "_J0P4g9m7JO4",
        "outputId": "fd9c0682-0014-49ea-b5bb-680ccdcaa0b9"
      },
      "execution_count": 24,
      "outputs": [
        {
          "output_type": "stream",
          "name": "stdout",
          "text": [
            "<bound method Module.parameters of Net(\n",
            "  (l1): Linear(in_features=1, out_features=1, bias=True)\n",
            ")>\n",
            "Parameter containing:\n",
            "tensor([[1.]], requires_grad=True)\n",
            "Parameter containing:\n",
            "tensor([1.], requires_grad=True)\n"
          ]
        }
      ]
    },
    {
      "cell_type": "code",
      "source": [
        "# モデル概要の表示\n",
        "print(net)"
      ],
      "metadata": {
        "colab": {
          "base_uri": "https://localhost:8080/"
        },
        "id": "qmCbD74v9uD_",
        "outputId": "f8f2e5c3-5858-45b6-d4fe-b48a9085f68c"
      },
      "execution_count": 25,
      "outputs": [
        {
          "output_type": "stream",
          "name": "stdout",
          "text": [
            "Net(\n",
            "  (l1): Linear(in_features=1, out_features=1, bias=True)\n",
            ")\n"
          ]
        }
      ]
    },
    {
      "cell_type": "code",
      "source": [
        "# モデルのサマリー表示\n",
        "from torchinfo import summary\n",
        "summary(net,(1,))"
      ],
      "metadata": {
        "colab": {
          "base_uri": "https://localhost:8080/"
        },
        "id": "ExrMOin-9y9K",
        "outputId": "994df922-4f4c-4daa-fd54-7f93c0a4fc81"
      },
      "execution_count": 26,
      "outputs": [
        {
          "output_type": "execute_result",
          "data": {
            "text/plain": [
              "==========================================================================================\n",
              "Layer (type:depth-idx)                   Output Shape              Param #\n",
              "==========================================================================================\n",
              "Net                                      [1]                       --\n",
              "├─Linear: 1-1                            [1]                       2\n",
              "==========================================================================================\n",
              "Total params: 2\n",
              "Trainable params: 2\n",
              "Non-trainable params: 0\n",
              "Total mult-adds (M): 0.00\n",
              "==========================================================================================\n",
              "Input size (MB): 0.00\n",
              "Forward/backward pass size (MB): 0.00\n",
              "Params size (MB): 0.00\n",
              "Estimated Total Size (MB): 0.00\n",
              "=========================================================================================="
            ]
          },
          "metadata": {},
          "execution_count": 26
        }
      ]
    },
    {
      "cell_type": "code",
      "source": [
        "# 損失関数と最適化関数の定義\n",
        "# 損失関数：平均2乗誤差\n",
        "criterion = nn.MSELoss()\n",
        "# 学習率\n",
        "lr = 0.01\n",
        "# 最適化関数\n",
        "optimizer = optim.SGD(net.parameters(), lr = lr)"
      ],
      "metadata": {
        "id": "wrTVJIbB-PyZ"
      },
      "execution_count": 27,
      "outputs": []
    },
    {
      "cell_type": "code",
      "source": [
        "# 勾配降下法（最適なパラメータ値、l1.weight, l1.biasを見つける）\n",
        "# 入力変数x と正解値 ytのテンソル変数化\n",
        "\n",
        "inputs = torch.tensor(x).float()\n",
        "labels = torch.tensor(yt).float()\n",
        "\n",
        "# 次元数確認\n",
        "\n",
        "print(inputs.shape)\n",
        "print(labels.shape)"
      ],
      "metadata": {
        "colab": {
          "base_uri": "https://localhost:8080/"
        },
        "id": "ANyeYM1Q_rTT",
        "outputId": "ba40f701-6cb6-4731-c947-d655bd8c2806"
      },
      "execution_count": 28,
      "outputs": [
        {
          "output_type": "stream",
          "name": "stdout",
          "text": [
            "torch.Size([506, 1])\n",
            "torch.Size([506])\n"
          ]
        }
      ]
    },
    {
      "cell_type": "code",
      "source": [
        "# 損失計算用にlabels変数を(N,1)次元の行列に変換する\n",
        "labels1 = labels.view((-1, 1))\n",
        "# 次元確認\n",
        "print(labels1.shape)"
      ],
      "metadata": {
        "colab": {
          "base_uri": "https://localhost:8080/"
        },
        "id": "ftILK5yFLq5m",
        "outputId": "03cdfd8f-b0ae-4888-8536-daf344f8ab6a"
      },
      "execution_count": 29,
      "outputs": [
        {
          "output_type": "stream",
          "name": "stdout",
          "text": [
            "torch.Size([506, 1])\n"
          ]
        }
      ]
    },
    {
      "cell_type": "markdown",
      "source": [
        "予測計算、損失計算、勾配計算、パラメーター修正を繰り返せばいける\n"
      ],
      "metadata": {
        "id": "isxoTYPSMECV"
      }
    },
    {
      "cell_type": "code",
      "source": [
        "# 予測計算\n",
        "outputs = net(inputs)\n",
        "# 入力テンソルを引数にnetを関数としてよび、結果を出力テンソルに代入します\n",
        "print(outputs)"
      ],
      "metadata": {
        "colab": {
          "base_uri": "https://localhost:8080/"
        },
        "id": "PDsdX30mMKiy",
        "outputId": "589b0314-e824-4315-eed3-ab7089b886be"
      },
      "execution_count": 30,
      "outputs": [
        {
          "output_type": "stream",
          "name": "stdout",
          "text": [
            "tensor([[7.5750],\n",
            "        [7.4210],\n",
            "        [8.1850],\n",
            "        [7.9980],\n",
            "        [8.1470],\n",
            "        [7.4300],\n",
            "        [7.0120],\n",
            "        [7.1720],\n",
            "        [6.6310],\n",
            "        [7.0040],\n",
            "        [7.3770],\n",
            "        [7.0090],\n",
            "        [6.8890],\n",
            "        [6.9490],\n",
            "        [7.0960],\n",
            "        [6.8340],\n",
            "        [6.9350],\n",
            "        [6.9900],\n",
            "        [6.4560],\n",
            "        [6.7270],\n",
            "        [6.5700],\n",
            "        [6.9650],\n",
            "        [7.1420],\n",
            "        [6.8130],\n",
            "        [6.9240],\n",
            "        [6.5990],\n",
            "        [6.8130],\n",
            "        [7.0470],\n",
            "        [7.4950],\n",
            "        [7.6740],\n",
            "        [6.7130],\n",
            "        [7.0720],\n",
            "        [6.9500],\n",
            "        [6.7010],\n",
            "        [7.0960],\n",
            "        [6.9330],\n",
            "        [6.8410],\n",
            "        [6.8500],\n",
            "        [6.9660],\n",
            "        [7.5950],\n",
            "        [8.0240],\n",
            "        [7.7700],\n",
            "        [7.1690],\n",
            "        [7.2110],\n",
            "        [7.0690],\n",
            "        [6.6820],\n",
            "        [6.7860],\n",
            "        [7.0300],\n",
            "        [6.3990],\n",
            "        [6.6020],\n",
            "        [6.9630],\n",
            "        [7.1150],\n",
            "        [7.5110],\n",
            "        [6.9980],\n",
            "        [6.8880],\n",
            "        [8.2490],\n",
            "        [7.3830],\n",
            "        [7.8160],\n",
            "        [7.1450],\n",
            "        [6.9270],\n",
            "        [6.7410],\n",
            "        [6.9660],\n",
            "        [7.4560],\n",
            "        [7.7620],\n",
            "        [8.1040],\n",
            "        [7.2900],\n",
            "        [6.7870],\n",
            "        [6.8780],\n",
            "        [6.5940],\n",
            "        [6.8850],\n",
            "        [7.4170],\n",
            "        [6.9610],\n",
            "        [7.0650],\n",
            "        [7.2450],\n",
            "        [7.2730],\n",
            "        [7.2860],\n",
            "        [7.2790],\n",
            "        [7.1400],\n",
            "        [7.2320],\n",
            "        [6.8740],\n",
            "        [7.7270],\n",
            "        [7.6190],\n",
            "        [7.3020],\n",
            "        [7.1670],\n",
            "        [7.3890],\n",
            "        [7.6300],\n",
            "        [7.0150],\n",
            "        [7.1210],\n",
            "        [8.0070],\n",
            "        [8.0790],\n",
            "        [7.4170],\n",
            "        [7.4050],\n",
            "        [7.4420],\n",
            "        [7.2110],\n",
            "        [7.2490],\n",
            "        [7.6250],\n",
            "        [7.1630],\n",
            "        [9.0690],\n",
            "        [8.8200],\n",
            "        [8.4160],\n",
            "        [7.7270],\n",
            "        [7.7810],\n",
            "        [7.4050],\n",
            "        [7.1370],\n",
            "        [7.1670],\n",
            "        [6.8510],\n",
            "        [6.8360],\n",
            "        [7.1270],\n",
            "        [7.4740],\n",
            "        [7.2290],\n",
            "        [7.1950],\n",
            "        [7.7150],\n",
            "        [6.9130],\n",
            "        [7.0920],\n",
            "        [7.2540],\n",
            "        [6.9280],\n",
            "        [7.1760],\n",
            "        [7.0210],\n",
            "        [6.8720],\n",
            "        [6.7310],\n",
            "        [6.8700],\n",
            "        [7.0040],\n",
            "        [6.9610],\n",
            "        [6.8560],\n",
            "        [6.8790],\n",
            "        [6.9860],\n",
            "        [6.6130],\n",
            "        [6.6930],\n",
            "        [7.4310],\n",
            "        [6.6370],\n",
            "        [7.4580],\n",
            "        [7.3260],\n",
            "        [7.3720],\n",
            "        [6.8220],\n",
            "        [6.7570],\n",
            "        [7.3350],\n",
            "        [6.9420],\n",
            "        [7.4540],\n",
            "        [6.8570],\n",
            "        [7.1510],\n",
            "        [7.1740],\n",
            "        [6.0190],\n",
            "        [6.4030],\n",
            "        [6.4680],\n",
            "        [5.9030],\n",
            "        [7.1300],\n",
            "        [6.6280],\n",
            "        [5.9260],\n",
            "        [6.1860],\n",
            "        [6.5970],\n",
            "        [7.1220],\n",
            "        [6.4040],\n",
            "        [6.0120],\n",
            "        [6.7090],\n",
            "        [7.1290],\n",
            "        [7.1520],\n",
            "        [6.2720],\n",
            "        [7.9430],\n",
            "        [7.0660],\n",
            "        [7.5100],\n",
            "        [7.2500],\n",
            "        [8.4890],\n",
            "        [8.8020],\n",
            "        [9.3750],\n",
            "        [6.8540],\n",
            "        [7.1010],\n",
            "        [8.9290],\n",
            "        [6.8770],\n",
            "        [7.3190],\n",
            "        [7.4020],\n",
            "        [6.8750],\n",
            "        [6.8800],\n",
            "        [6.5720],\n",
            "        [7.4160],\n",
            "        [6.8590],\n",
            "        [7.5460],\n",
            "        [7.0200],\n",
            "        [7.3150],\n",
            "        [7.8600],\n",
            "        [7.9800],\n",
            "        [8.7650],\n",
            "        [7.1440],\n",
            "        [8.1550],\n",
            "        [7.5630],\n",
            "        [6.6040],\n",
            "        [7.1530],\n",
            "        [8.8310],\n",
            "        [7.7820],\n",
            "        [7.5560],\n",
            "        [8.1850],\n",
            "        [7.9510],\n",
            "        [7.7390],\n",
            "        [8.1780],\n",
            "        [7.8000],\n",
            "        [7.6040],\n",
            "        [8.8750],\n",
            "        [8.2870],\n",
            "        [8.1070],\n",
            "        [8.2740],\n",
            "        [7.9750],\n",
            "        [8.1350],\n",
            "        [7.1620],\n",
            "        [8.6100],\n",
            "        [8.8530],\n",
            "        [9.0340],\n",
            "        [6.8910],\n",
            "        [7.3260],\n",
            "        [6.7830],\n",
            "        [7.0640],\n",
            "        [6.3440],\n",
            "        [6.9600],\n",
            "        [6.4040],\n",
            "        [6.8070],\n",
            "        [7.3750],\n",
            "        [6.4120],\n",
            "        [7.1820],\n",
            "        [6.8880],\n",
            "        [7.6420],\n",
            "        [6.9510],\n",
            "        [7.3730],\n",
            "        [7.9510],\n",
            "        [7.1640],\n",
            "        [7.8790],\n",
            "        [7.6180],\n",
            "        [9.2660],\n",
            "        [9.7250],\n",
            "        [9.0400],\n",
            "        [8.1630],\n",
            "        [8.6860],\n",
            "        [7.5520],\n",
            "        [6.9810],\n",
            "        [8.4120],\n",
            "        [9.3370],\n",
            "        [9.2470],\n",
            "        [7.7260],\n",
            "        [7.0860],\n",
            "        [7.6310],\n",
            "        [8.3580],\n",
            "        [7.4810],\n",
            "        [7.6060],\n",
            "        [7.8970],\n",
            "        [7.0950],\n",
            "        [7.3580],\n",
            "        [7.3930],\n",
            "        [6.5930],\n",
            "        [6.6050],\n",
            "        [7.1080],\n",
            "        [7.2260],\n",
            "        [7.4330],\n",
            "        [7.7180],\n",
            "        [7.4870],\n",
            "        [7.4380],\n",
            "        [7.9570],\n",
            "        [9.2590],\n",
            "        [7.1080],\n",
            "        [6.8760],\n",
            "        [8.4540],\n",
            "        [9.7040],\n",
            "        [8.3330],\n",
            "        [7.8420],\n",
            "        [8.2030],\n",
            "        [8.5200],\n",
            "        [9.3980],\n",
            "        [8.3270],\n",
            "        [8.2060],\n",
            "        [6.5600],\n",
            "        [8.0140],\n",
            "        [9.2970],\n",
            "        [8.4700],\n",
            "        [6.9200],\n",
            "        [6.8560],\n",
            "        [7.2400],\n",
            "        [7.5380],\n",
            "        [8.6910],\n",
            "        [7.7580],\n",
            "        [7.8540],\n",
            "        [8.2670],\n",
            "        [7.8260],\n",
            "        [7.4820],\n",
            "        [7.8120],\n",
            "        [8.8200],\n",
            "        [7.9680],\n",
            "        [8.6450],\n",
            "        [8.9230],\n",
            "        [8.0880],\n",
            "        [7.4530],\n",
            "        [7.2300],\n",
            "        [7.2090],\n",
            "        [7.3150],\n",
            "        [7.5650],\n",
            "        [7.8610],\n",
            "        [8.1480],\n",
            "        [7.6300],\n",
            "        [7.1270],\n",
            "        [7.0090],\n",
            "        [7.6780],\n",
            "        [7.5490],\n",
            "        [6.7900],\n",
            "        [7.3450],\n",
            "        [8.0410],\n",
            "        [7.8710],\n",
            "        [7.5900],\n",
            "        [7.4950],\n",
            "        [7.9820],\n",
            "        [8.2360],\n",
            "        [7.6160],\n",
            "        [8.4200],\n",
            "        [7.8490],\n",
            "        [7.6350],\n",
            "        [6.9720],\n",
            "        [5.9730],\n",
            "        [7.1220],\n",
            "        [7.0230],\n",
            "        [7.2660],\n",
            "        [7.5670],\n",
            "        [6.7050],\n",
            "        [6.9140],\n",
            "        [6.7820],\n",
            "        [7.3820],\n",
            "        [7.1130],\n",
            "        [7.4260],\n",
            "        [7.3760],\n",
            "        [7.0410],\n",
            "        [6.7080],\n",
            "        [7.4150],\n",
            "        [7.4310],\n",
            "        [7.3120],\n",
            "        [7.0830],\n",
            "        [6.8680],\n",
            "        [7.3330],\n",
            "        [7.1440],\n",
            "        [6.7060],\n",
            "        [7.0310],\n",
            "        [7.3160],\n",
            "        [7.3100],\n",
            "        [7.0370],\n",
            "        [6.8690],\n",
            "        [6.8950],\n",
            "        [7.0590],\n",
            "        [6.9850],\n",
            "        [6.9680],\n",
            "        [8.2410],\n",
            "        [7.5400],\n",
            "        [7.6960],\n",
            "        [7.8740],\n",
            "        [7.0140],\n",
            "        [6.8980],\n",
            "        [7.5160],\n",
            "        [7.6350],\n",
            "        [7.9390],\n",
            "        [7.4900],\n",
            "        [7.5790],\n",
            "        [6.8840],\n",
            "        [7.7280],\n",
            "        [6.6630],\n",
            "        [6.9360],\n",
            "        [7.2120],\n",
            "        [7.3950],\n",
            "        [7.1270],\n",
            "        [7.1120],\n",
            "        [7.3980],\n",
            "        [7.2510],\n",
            "        [6.3620],\n",
            "        [6.8030],\n",
            "        [9.7800],\n",
            "        [4.5610],\n",
            "        [5.9630],\n",
            "        [4.8630],\n",
            "        [5.9700],\n",
            "        [7.6830],\n",
            "        [8.0160],\n",
            "        [7.2160],\n",
            "        [6.8750],\n",
            "        [5.9060],\n",
            "        [5.1380],\n",
            "        [8.3130],\n",
            "        [7.6490],\n",
            "        [7.7940],\n",
            "        [7.3800],\n",
            "        [7.2230],\n",
            "        [7.9680],\n",
            "        [7.5450],\n",
            "        [6.5360],\n",
            "        [6.5200],\n",
            "        [5.3680],\n",
            "        [6.2770],\n",
            "        [5.6520],\n",
            "        [6.0000],\n",
            "        [5.8800],\n",
            "        [6.3900],\n",
            "        [6.7130],\n",
            "        [7.0510],\n",
            "        [6.0360],\n",
            "        [7.1930],\n",
            "        [6.8870],\n",
            "        [7.4710],\n",
            "        [7.4050],\n",
            "        [6.7470],\n",
            "        [6.4530],\n",
            "        [6.8520],\n",
            "        [6.9870],\n",
            "        [7.3430],\n",
            "        [7.4040],\n",
            "        [6.3490],\n",
            "        [6.5310],\n",
            "        [6.6830],\n",
            "        [5.1380],\n",
            "        [6.6080],\n",
            "        [6.6170],\n",
            "        [7.8520],\n",
            "        [6.7570],\n",
            "        [7.6570],\n",
            "        [5.6280],\n",
            "        [6.1550],\n",
            "        [5.5190],\n",
            "        [7.4340],\n",
            "        [7.7820],\n",
            "        [6.3040],\n",
            "        [6.9570],\n",
            "        [7.8240],\n",
            "        [7.4110],\n",
            "        [7.0060],\n",
            "        [6.6480],\n",
            "        [7.1030],\n",
            "        [6.5650],\n",
            "        [6.8960],\n",
            "        [6.8370],\n",
            "        [7.2020],\n",
            "        [7.1930],\n",
            "        [7.3800],\n",
            "        [7.3480],\n",
            "        [7.8330],\n",
            "        [7.4250],\n",
            "        [7.4360],\n",
            "        [7.2080],\n",
            "        [7.6290],\n",
            "        [7.4610],\n",
            "        [7.1520],\n",
            "        [6.9350],\n",
            "        [6.6270],\n",
            "        [6.8180],\n",
            "        [7.4060],\n",
            "        [7.2190],\n",
            "        [7.4850],\n",
            "        [6.8540],\n",
            "        [7.4590],\n",
            "        [7.3410],\n",
            "        [7.2510],\n",
            "        [7.1850],\n",
            "        [7.4170],\n",
            "        [7.7490],\n",
            "        [7.6550],\n",
            "        [7.2970],\n",
            "        [8.3930],\n",
            "        [7.7280],\n",
            "        [7.5250],\n",
            "        [6.9760],\n",
            "        [6.9360],\n",
            "        [7.3010],\n",
            "        [7.0810],\n",
            "        [7.7010],\n",
            "        [7.3760],\n",
            "        [7.3170],\n",
            "        [7.5130],\n",
            "        [7.2090],\n",
            "        [6.7590],\n",
            "        [6.9520],\n",
            "        [7.0030],\n",
            "        [6.9260],\n",
            "        [6.7130],\n",
            "        [7.1670],\n",
            "        [7.2290],\n",
            "        [7.4370],\n",
            "        [7.9800],\n",
            "        [6.4270],\n",
            "        [7.1620],\n",
            "        [7.4840],\n",
            "        [6.3040],\n",
            "        [7.1850],\n",
            "        [7.2290],\n",
            "        [7.2420],\n",
            "        [7.7500],\n",
            "        [8.0610],\n",
            "        [6.7620],\n",
            "        [6.8710],\n",
            "        [7.3120],\n",
            "        [7.1140],\n",
            "        [6.9050],\n",
            "        [6.4540],\n",
            "        [6.4140],\n",
            "        [6.0930],\n",
            "        [6.9830],\n",
            "        [6.9830],\n",
            "        [6.7070],\n",
            "        [6.9260],\n",
            "        [6.6700],\n",
            "        [6.3900],\n",
            "        [6.7940],\n",
            "        [7.0190],\n",
            "        [6.5690],\n",
            "        [7.0270],\n",
            "        [7.5930],\n",
            "        [7.1200],\n",
            "        [7.9760],\n",
            "        [7.7940],\n",
            "        [7.0300]], grad_fn=<AddmmBackward0>)\n"
          ]
        }
      ]
    },
    {
      "cell_type": "code",
      "source": [
        "print(labels1)"
      ],
      "metadata": {
        "colab": {
          "base_uri": "https://localhost:8080/"
        },
        "id": "XGE32F_mNkme",
        "outputId": "a8913260-91ba-43a7-dc38-cb8e2912be26"
      },
      "execution_count": 31,
      "outputs": [
        {
          "output_type": "stream",
          "name": "stdout",
          "text": [
            "tensor([[24.0000],\n",
            "        [21.6000],\n",
            "        [34.7000],\n",
            "        [33.4000],\n",
            "        [36.2000],\n",
            "        [28.7000],\n",
            "        [22.9000],\n",
            "        [27.1000],\n",
            "        [16.5000],\n",
            "        [18.9000],\n",
            "        [15.0000],\n",
            "        [18.9000],\n",
            "        [21.7000],\n",
            "        [20.4000],\n",
            "        [18.2000],\n",
            "        [19.9000],\n",
            "        [23.1000],\n",
            "        [17.5000],\n",
            "        [20.2000],\n",
            "        [18.2000],\n",
            "        [13.6000],\n",
            "        [19.6000],\n",
            "        [15.2000],\n",
            "        [14.5000],\n",
            "        [15.6000],\n",
            "        [13.9000],\n",
            "        [16.6000],\n",
            "        [14.8000],\n",
            "        [18.4000],\n",
            "        [21.0000],\n",
            "        [12.7000],\n",
            "        [14.5000],\n",
            "        [13.2000],\n",
            "        [13.1000],\n",
            "        [13.5000],\n",
            "        [18.9000],\n",
            "        [20.0000],\n",
            "        [21.0000],\n",
            "        [24.7000],\n",
            "        [30.8000],\n",
            "        [34.9000],\n",
            "        [26.6000],\n",
            "        [25.3000],\n",
            "        [24.7000],\n",
            "        [21.2000],\n",
            "        [19.3000],\n",
            "        [20.0000],\n",
            "        [16.6000],\n",
            "        [14.4000],\n",
            "        [19.4000],\n",
            "        [19.7000],\n",
            "        [20.5000],\n",
            "        [25.0000],\n",
            "        [23.4000],\n",
            "        [18.9000],\n",
            "        [35.4000],\n",
            "        [24.7000],\n",
            "        [31.6000],\n",
            "        [23.3000],\n",
            "        [19.6000],\n",
            "        [18.7000],\n",
            "        [16.0000],\n",
            "        [22.2000],\n",
            "        [25.0000],\n",
            "        [33.0000],\n",
            "        [23.5000],\n",
            "        [19.4000],\n",
            "        [22.0000],\n",
            "        [17.4000],\n",
            "        [20.9000],\n",
            "        [24.2000],\n",
            "        [21.7000],\n",
            "        [22.8000],\n",
            "        [23.4000],\n",
            "        [24.1000],\n",
            "        [21.4000],\n",
            "        [20.0000],\n",
            "        [20.8000],\n",
            "        [21.2000],\n",
            "        [20.3000],\n",
            "        [28.0000],\n",
            "        [23.9000],\n",
            "        [24.8000],\n",
            "        [22.9000],\n",
            "        [23.9000],\n",
            "        [26.6000],\n",
            "        [22.5000],\n",
            "        [22.2000],\n",
            "        [23.6000],\n",
            "        [28.7000],\n",
            "        [22.6000],\n",
            "        [22.0000],\n",
            "        [22.9000],\n",
            "        [25.0000],\n",
            "        [20.6000],\n",
            "        [28.4000],\n",
            "        [21.4000],\n",
            "        [38.7000],\n",
            "        [43.8000],\n",
            "        [33.2000],\n",
            "        [27.5000],\n",
            "        [26.5000],\n",
            "        [18.6000],\n",
            "        [19.3000],\n",
            "        [20.1000],\n",
            "        [19.5000],\n",
            "        [19.5000],\n",
            "        [20.4000],\n",
            "        [19.8000],\n",
            "        [19.4000],\n",
            "        [21.7000],\n",
            "        [22.8000],\n",
            "        [18.8000],\n",
            "        [18.7000],\n",
            "        [18.5000],\n",
            "        [18.3000],\n",
            "        [21.2000],\n",
            "        [19.2000],\n",
            "        [20.4000],\n",
            "        [19.3000],\n",
            "        [22.0000],\n",
            "        [20.3000],\n",
            "        [20.5000],\n",
            "        [17.3000],\n",
            "        [18.8000],\n",
            "        [21.4000],\n",
            "        [15.7000],\n",
            "        [16.2000],\n",
            "        [18.0000],\n",
            "        [14.3000],\n",
            "        [19.2000],\n",
            "        [19.6000],\n",
            "        [23.0000],\n",
            "        [18.4000],\n",
            "        [15.6000],\n",
            "        [18.1000],\n",
            "        [17.4000],\n",
            "        [17.1000],\n",
            "        [13.3000],\n",
            "        [17.8000],\n",
            "        [14.0000],\n",
            "        [14.4000],\n",
            "        [13.4000],\n",
            "        [15.6000],\n",
            "        [11.8000],\n",
            "        [13.8000],\n",
            "        [15.6000],\n",
            "        [14.6000],\n",
            "        [17.8000],\n",
            "        [15.4000],\n",
            "        [21.5000],\n",
            "        [19.6000],\n",
            "        [15.3000],\n",
            "        [19.4000],\n",
            "        [17.0000],\n",
            "        [15.6000],\n",
            "        [13.1000],\n",
            "        [41.3000],\n",
            "        [24.3000],\n",
            "        [23.3000],\n",
            "        [27.0000],\n",
            "        [50.0000],\n",
            "        [50.0000],\n",
            "        [50.0000],\n",
            "        [22.7000],\n",
            "        [25.0000],\n",
            "        [50.0000],\n",
            "        [23.8000],\n",
            "        [23.8000],\n",
            "        [22.3000],\n",
            "        [17.4000],\n",
            "        [19.1000],\n",
            "        [23.1000],\n",
            "        [23.6000],\n",
            "        [22.6000],\n",
            "        [29.4000],\n",
            "        [23.2000],\n",
            "        [24.6000],\n",
            "        [29.9000],\n",
            "        [37.2000],\n",
            "        [39.8000],\n",
            "        [36.2000],\n",
            "        [37.9000],\n",
            "        [32.5000],\n",
            "        [26.4000],\n",
            "        [29.6000],\n",
            "        [50.0000],\n",
            "        [32.0000],\n",
            "        [29.8000],\n",
            "        [34.9000],\n",
            "        [37.0000],\n",
            "        [30.5000],\n",
            "        [36.4000],\n",
            "        [31.1000],\n",
            "        [29.1000],\n",
            "        [50.0000],\n",
            "        [33.3000],\n",
            "        [30.3000],\n",
            "        [34.6000],\n",
            "        [34.9000],\n",
            "        [32.9000],\n",
            "        [24.1000],\n",
            "        [42.3000],\n",
            "        [48.5000],\n",
            "        [50.0000],\n",
            "        [22.6000],\n",
            "        [24.4000],\n",
            "        [22.5000],\n",
            "        [24.4000],\n",
            "        [20.0000],\n",
            "        [21.7000],\n",
            "        [19.3000],\n",
            "        [22.4000],\n",
            "        [28.1000],\n",
            "        [23.7000],\n",
            "        [25.0000],\n",
            "        [23.3000],\n",
            "        [28.7000],\n",
            "        [21.5000],\n",
            "        [23.0000],\n",
            "        [26.7000],\n",
            "        [21.7000],\n",
            "        [27.5000],\n",
            "        [30.1000],\n",
            "        [44.8000],\n",
            "        [50.0000],\n",
            "        [37.6000],\n",
            "        [31.6000],\n",
            "        [46.7000],\n",
            "        [31.5000],\n",
            "        [24.3000],\n",
            "        [31.7000],\n",
            "        [41.7000],\n",
            "        [48.3000],\n",
            "        [29.0000],\n",
            "        [24.0000],\n",
            "        [25.1000],\n",
            "        [31.5000],\n",
            "        [23.7000],\n",
            "        [23.3000],\n",
            "        [22.0000],\n",
            "        [20.1000],\n",
            "        [22.2000],\n",
            "        [23.7000],\n",
            "        [17.6000],\n",
            "        [18.5000],\n",
            "        [24.3000],\n",
            "        [20.5000],\n",
            "        [24.5000],\n",
            "        [26.2000],\n",
            "        [24.4000],\n",
            "        [24.8000],\n",
            "        [29.6000],\n",
            "        [42.8000],\n",
            "        [21.9000],\n",
            "        [20.9000],\n",
            "        [44.0000],\n",
            "        [50.0000],\n",
            "        [36.0000],\n",
            "        [30.1000],\n",
            "        [33.8000],\n",
            "        [43.1000],\n",
            "        [48.8000],\n",
            "        [31.0000],\n",
            "        [36.5000],\n",
            "        [22.8000],\n",
            "        [30.7000],\n",
            "        [50.0000],\n",
            "        [43.5000],\n",
            "        [20.7000],\n",
            "        [21.1000],\n",
            "        [25.2000],\n",
            "        [24.4000],\n",
            "        [35.2000],\n",
            "        [32.4000],\n",
            "        [32.0000],\n",
            "        [33.2000],\n",
            "        [33.1000],\n",
            "        [29.1000],\n",
            "        [35.1000],\n",
            "        [45.4000],\n",
            "        [35.4000],\n",
            "        [46.0000],\n",
            "        [50.0000],\n",
            "        [32.2000],\n",
            "        [22.0000],\n",
            "        [20.1000],\n",
            "        [23.2000],\n",
            "        [22.3000],\n",
            "        [24.8000],\n",
            "        [28.5000],\n",
            "        [37.3000],\n",
            "        [27.9000],\n",
            "        [23.9000],\n",
            "        [21.7000],\n",
            "        [28.6000],\n",
            "        [27.1000],\n",
            "        [20.3000],\n",
            "        [22.5000],\n",
            "        [29.0000],\n",
            "        [24.8000],\n",
            "        [22.0000],\n",
            "        [26.4000],\n",
            "        [33.1000],\n",
            "        [36.1000],\n",
            "        [28.4000],\n",
            "        [33.4000],\n",
            "        [28.2000],\n",
            "        [22.8000],\n",
            "        [20.3000],\n",
            "        [16.1000],\n",
            "        [22.1000],\n",
            "        [19.4000],\n",
            "        [21.6000],\n",
            "        [23.8000],\n",
            "        [16.2000],\n",
            "        [17.8000],\n",
            "        [19.8000],\n",
            "        [23.1000],\n",
            "        [21.0000],\n",
            "        [23.8000],\n",
            "        [23.1000],\n",
            "        [20.4000],\n",
            "        [18.5000],\n",
            "        [25.0000],\n",
            "        [24.6000],\n",
            "        [23.0000],\n",
            "        [22.2000],\n",
            "        [19.3000],\n",
            "        [22.6000],\n",
            "        [19.8000],\n",
            "        [17.1000],\n",
            "        [19.4000],\n",
            "        [22.2000],\n",
            "        [20.7000],\n",
            "        [21.1000],\n",
            "        [19.5000],\n",
            "        [18.5000],\n",
            "        [20.6000],\n",
            "        [19.0000],\n",
            "        [18.7000],\n",
            "        [32.7000],\n",
            "        [16.5000],\n",
            "        [23.9000],\n",
            "        [31.2000],\n",
            "        [17.5000],\n",
            "        [17.2000],\n",
            "        [23.1000],\n",
            "        [24.5000],\n",
            "        [26.6000],\n",
            "        [22.9000],\n",
            "        [24.1000],\n",
            "        [18.6000],\n",
            "        [30.1000],\n",
            "        [18.2000],\n",
            "        [20.6000],\n",
            "        [17.8000],\n",
            "        [21.7000],\n",
            "        [22.7000],\n",
            "        [22.6000],\n",
            "        [25.0000],\n",
            "        [19.9000],\n",
            "        [20.8000],\n",
            "        [16.8000],\n",
            "        [21.9000],\n",
            "        [27.5000],\n",
            "        [21.9000],\n",
            "        [23.1000],\n",
            "        [50.0000],\n",
            "        [50.0000],\n",
            "        [50.0000],\n",
            "        [50.0000],\n",
            "        [50.0000],\n",
            "        [13.8000],\n",
            "        [13.8000],\n",
            "        [15.0000],\n",
            "        [13.9000],\n",
            "        [13.3000],\n",
            "        [13.1000],\n",
            "        [10.2000],\n",
            "        [10.4000],\n",
            "        [10.9000],\n",
            "        [11.3000],\n",
            "        [12.3000],\n",
            "        [ 8.8000],\n",
            "        [ 7.2000],\n",
            "        [10.5000],\n",
            "        [ 7.4000],\n",
            "        [10.2000],\n",
            "        [11.5000],\n",
            "        [15.1000],\n",
            "        [23.2000],\n",
            "        [ 9.7000],\n",
            "        [13.8000],\n",
            "        [12.7000],\n",
            "        [13.1000],\n",
            "        [12.5000],\n",
            "        [ 8.5000],\n",
            "        [ 5.0000],\n",
            "        [ 6.3000],\n",
            "        [ 5.6000],\n",
            "        [ 7.2000],\n",
            "        [12.1000],\n",
            "        [ 8.3000],\n",
            "        [ 8.5000],\n",
            "        [ 5.0000],\n",
            "        [11.9000],\n",
            "        [27.9000],\n",
            "        [17.2000],\n",
            "        [27.5000],\n",
            "        [15.0000],\n",
            "        [17.2000],\n",
            "        [17.9000],\n",
            "        [16.3000],\n",
            "        [ 7.0000],\n",
            "        [ 7.2000],\n",
            "        [ 7.5000],\n",
            "        [10.4000],\n",
            "        [ 8.8000],\n",
            "        [ 8.4000],\n",
            "        [16.7000],\n",
            "        [14.2000],\n",
            "        [20.8000],\n",
            "        [13.4000],\n",
            "        [11.7000],\n",
            "        [ 8.3000],\n",
            "        [10.2000],\n",
            "        [10.9000],\n",
            "        [11.0000],\n",
            "        [ 9.5000],\n",
            "        [14.5000],\n",
            "        [14.1000],\n",
            "        [16.1000],\n",
            "        [14.3000],\n",
            "        [11.7000],\n",
            "        [13.4000],\n",
            "        [ 9.6000],\n",
            "        [ 8.7000],\n",
            "        [ 8.4000],\n",
            "        [12.8000],\n",
            "        [10.5000],\n",
            "        [17.1000],\n",
            "        [18.4000],\n",
            "        [15.4000],\n",
            "        [10.8000],\n",
            "        [11.8000],\n",
            "        [14.9000],\n",
            "        [12.6000],\n",
            "        [14.1000],\n",
            "        [13.0000],\n",
            "        [13.4000],\n",
            "        [15.2000],\n",
            "        [16.1000],\n",
            "        [17.8000],\n",
            "        [14.9000],\n",
            "        [14.1000],\n",
            "        [12.7000],\n",
            "        [13.5000],\n",
            "        [14.9000],\n",
            "        [20.0000],\n",
            "        [16.4000],\n",
            "        [17.7000],\n",
            "        [19.5000],\n",
            "        [20.2000],\n",
            "        [21.4000],\n",
            "        [19.9000],\n",
            "        [19.0000],\n",
            "        [19.1000],\n",
            "        [19.1000],\n",
            "        [20.1000],\n",
            "        [19.9000],\n",
            "        [19.6000],\n",
            "        [23.2000],\n",
            "        [29.8000],\n",
            "        [13.8000],\n",
            "        [13.3000],\n",
            "        [16.7000],\n",
            "        [12.0000],\n",
            "        [14.6000],\n",
            "        [21.4000],\n",
            "        [23.0000],\n",
            "        [23.7000],\n",
            "        [25.0000],\n",
            "        [21.8000],\n",
            "        [20.6000],\n",
            "        [21.2000],\n",
            "        [19.1000],\n",
            "        [20.6000],\n",
            "        [15.2000],\n",
            "        [ 7.0000],\n",
            "        [ 8.1000],\n",
            "        [13.6000],\n",
            "        [20.1000],\n",
            "        [21.8000],\n",
            "        [24.5000],\n",
            "        [23.1000],\n",
            "        [19.7000],\n",
            "        [18.3000],\n",
            "        [21.2000],\n",
            "        [17.5000],\n",
            "        [16.8000],\n",
            "        [22.4000],\n",
            "        [20.6000],\n",
            "        [23.9000],\n",
            "        [22.0000],\n",
            "        [11.9000]])\n"
          ]
        }
      ]
    },
    {
      "cell_type": "code",
      "source": [
        "#  損失計算\n",
        "loss = criterion(outputs, labels1)\n",
        "\n",
        "# 損失値の取得\n",
        "print(f'{loss.item():.5f}')"
      ],
      "metadata": {
        "colab": {
          "base_uri": "https://localhost:8080/"
        },
        "id": "6BFS3tkXSURe",
        "outputId": "2748a3f7-54e8-4369-a6b2-7eeee00a2f14"
      },
      "execution_count": 32,
      "outputs": [
        {
          "output_type": "stream",
          "name": "stdout",
          "text": [
            "308.44986\n"
          ]
        }
      ]
    },
    {
      "cell_type": "code",
      "source": [
        "# 損失グラフの取得\n",
        "g = make_dot(loss, params=dict(net.named_parameters()))\n",
        "display(g)"
      ],
      "metadata": {
        "colab": {
          "base_uri": "https://localhost:8080/",
          "height": 469
        },
        "id": "4nwYN1sjTMhq",
        "outputId": "096e2ae6-dbca-4e34-b355-ec7512b10f45"
      },
      "execution_count": 33,
      "outputs": [
        {
          "output_type": "display_data",
          "data": {
            "text/plain": [
              "<graphviz.dot.Digraph at 0x7f8863d7f310>"
            ],
            "image/svg+xml": "<?xml version=\"1.0\" encoding=\"UTF-8\" standalone=\"no\"?>\n<!DOCTYPE svg PUBLIC \"-//W3C//DTD SVG 1.1//EN\"\n \"http://www.w3.org/Graphics/SVG/1.1/DTD/svg11.dtd\">\n<!-- Generated by graphviz version 2.43.0 (0)\n -->\n<!-- Title: %3 Pages: 1 -->\n<svg width=\"216pt\" height=\"336pt\"\n viewBox=\"0.00 0.00 216.00 336.00\" xmlns=\"http://www.w3.org/2000/svg\" xmlns:xlink=\"http://www.w3.org/1999/xlink\">\n<g id=\"graph0\" class=\"graph\" transform=\"scale(1 1) rotate(0) translate(4 332)\">\n<title>%3</title>\n<polygon fill=\"white\" stroke=\"transparent\" points=\"-4,4 -4,-332 212,-332 212,4 -4,4\"/>\n<!-- 140223762560240 -->\n<g id=\"node1\" class=\"node\">\n<title>140223762560240</title>\n<polygon fill=\"#caff70\" stroke=\"black\" points=\"130.5,-31 76.5,-31 76.5,0 130.5,0 130.5,-31\"/>\n<text text-anchor=\"middle\" x=\"103.5\" y=\"-7\" font-family=\"monospace\" font-size=\"10.00\"> ()</text>\n</g>\n<!-- 140223767376944 -->\n<g id=\"node2\" class=\"node\">\n<title>140223767376944</title>\n<polygon fill=\"lightgrey\" stroke=\"black\" points=\"160,-86 47,-86 47,-67 160,-67 160,-86\"/>\n<text text-anchor=\"middle\" x=\"103.5\" y=\"-74\" font-family=\"monospace\" font-size=\"10.00\">MseLossBackward0</text>\n</g>\n<!-- 140223767376944&#45;&gt;140223762560240 -->\n<g id=\"edge7\" class=\"edge\">\n<title>140223767376944&#45;&gt;140223762560240</title>\n<path fill=\"none\" stroke=\"black\" d=\"M103.5,-66.79C103.5,-60.07 103.5,-50.4 103.5,-41.34\"/>\n<polygon fill=\"black\" stroke=\"black\" points=\"107,-41.19 103.5,-31.19 100,-41.19 107,-41.19\"/>\n</g>\n<!-- 140223767376992 -->\n<g id=\"node3\" class=\"node\">\n<title>140223767376992</title>\n<polygon fill=\"lightgrey\" stroke=\"black\" points=\"154,-141 53,-141 53,-122 154,-122 154,-141\"/>\n<text text-anchor=\"middle\" x=\"103.5\" y=\"-129\" font-family=\"monospace\" font-size=\"10.00\">AddmmBackward0</text>\n</g>\n<!-- 140223767376992&#45;&gt;140223767376944 -->\n<g id=\"edge1\" class=\"edge\">\n<title>140223767376992&#45;&gt;140223767376944</title>\n<path fill=\"none\" stroke=\"black\" d=\"M103.5,-121.75C103.5,-114.8 103.5,-104.85 103.5,-96.13\"/>\n<polygon fill=\"black\" stroke=\"black\" points=\"107,-96.09 103.5,-86.09 100,-96.09 107,-96.09\"/>\n</g>\n<!-- 140223767377088 -->\n<g id=\"node4\" class=\"node\">\n<title>140223767377088</title>\n<polygon fill=\"lightgrey\" stroke=\"black\" points=\"101,-196 0,-196 0,-177 101,-177 101,-196\"/>\n<text text-anchor=\"middle\" x=\"50.5\" y=\"-184\" font-family=\"monospace\" font-size=\"10.00\">AccumulateGrad</text>\n</g>\n<!-- 140223767377088&#45;&gt;140223767376992 -->\n<g id=\"edge2\" class=\"edge\">\n<title>140223767377088&#45;&gt;140223767376992</title>\n<path fill=\"none\" stroke=\"black\" d=\"M59.25,-176.75C66.97,-169.03 78.4,-157.6 87.72,-148.28\"/>\n<polygon fill=\"black\" stroke=\"black\" points=\"90.31,-150.64 94.91,-141.09 85.36,-145.69 90.31,-150.64\"/>\n</g>\n<!-- 140223762395760 -->\n<g id=\"node5\" class=\"node\">\n<title>140223762395760</title>\n<polygon fill=\"lightblue\" stroke=\"black\" points=\"80,-262 21,-262 21,-232 80,-232 80,-262\"/>\n<text text-anchor=\"middle\" x=\"50.5\" y=\"-250\" font-family=\"monospace\" font-size=\"10.00\">l1.bias</text>\n<text text-anchor=\"middle\" x=\"50.5\" y=\"-239\" font-family=\"monospace\" font-size=\"10.00\"> (1)</text>\n</g>\n<!-- 140223762395760&#45;&gt;140223767377088 -->\n<g id=\"edge3\" class=\"edge\">\n<title>140223762395760&#45;&gt;140223767377088</title>\n<path fill=\"none\" stroke=\"black\" d=\"M50.5,-231.84C50.5,-224.21 50.5,-214.7 50.5,-206.45\"/>\n<polygon fill=\"black\" stroke=\"black\" points=\"54,-206.27 50.5,-196.27 47,-206.27 54,-206.27\"/>\n</g>\n<!-- 140223767376704 -->\n<g id=\"node6\" class=\"node\">\n<title>140223767376704</title>\n<polygon fill=\"lightgrey\" stroke=\"black\" points=\"196,-196 119,-196 119,-177 196,-177 196,-196\"/>\n<text text-anchor=\"middle\" x=\"157.5\" y=\"-184\" font-family=\"monospace\" font-size=\"10.00\">TBackward0</text>\n</g>\n<!-- 140223767376704&#45;&gt;140223767376992 -->\n<g id=\"edge4\" class=\"edge\">\n<title>140223767376704&#45;&gt;140223767376992</title>\n<path fill=\"none\" stroke=\"black\" d=\"M148.58,-176.75C140.72,-169.03 129.07,-157.6 119.58,-148.28\"/>\n<polygon fill=\"black\" stroke=\"black\" points=\"121.84,-145.6 112.25,-141.09 116.94,-150.59 121.84,-145.6\"/>\n</g>\n<!-- 140223767376512 -->\n<g id=\"node7\" class=\"node\">\n<title>140223767376512</title>\n<polygon fill=\"lightgrey\" stroke=\"black\" points=\"208,-256.5 107,-256.5 107,-237.5 208,-237.5 208,-256.5\"/>\n<text text-anchor=\"middle\" x=\"157.5\" y=\"-244.5\" font-family=\"monospace\" font-size=\"10.00\">AccumulateGrad</text>\n</g>\n<!-- 140223767376512&#45;&gt;140223767376704 -->\n<g id=\"edge5\" class=\"edge\">\n<title>140223767376512&#45;&gt;140223767376704</title>\n<path fill=\"none\" stroke=\"black\" d=\"M157.5,-237.37C157.5,-229.25 157.5,-216.81 157.5,-206.39\"/>\n<polygon fill=\"black\" stroke=\"black\" points=\"161,-206.17 157.5,-196.17 154,-206.17 161,-206.17\"/>\n</g>\n<!-- 140223762395360 -->\n<g id=\"node8\" class=\"node\">\n<title>140223762395360</title>\n<polygon fill=\"lightblue\" stroke=\"black\" points=\"193,-328 122,-328 122,-298 193,-298 193,-328\"/>\n<text text-anchor=\"middle\" x=\"157.5\" y=\"-316\" font-family=\"monospace\" font-size=\"10.00\">l1.weight</text>\n<text text-anchor=\"middle\" x=\"157.5\" y=\"-305\" font-family=\"monospace\" font-size=\"10.00\"> (1, 1)</text>\n</g>\n<!-- 140223762395360&#45;&gt;140223767376512 -->\n<g id=\"edge6\" class=\"edge\">\n<title>140223762395360&#45;&gt;140223767376512</title>\n<path fill=\"none\" stroke=\"black\" d=\"M157.5,-297.8C157.5,-288.7 157.5,-276.79 157.5,-266.9\"/>\n<polygon fill=\"black\" stroke=\"black\" points=\"161,-266.84 157.5,-256.84 154,-266.84 161,-266.84\"/>\n</g>\n</g>\n</svg>\n"
          },
          "metadata": {}
        }
      ]
    },
    {
      "cell_type": "code",
      "source": [
        "# 予測値の計算\n",
        "outputs = net(inputs)\n",
        "# 損失の計算\n",
        "loss = criterion(outputs, labels1)\n",
        "# 勾配計算\n",
        "loss.backward()\n",
        "# 勾配の結果が取得可能\n",
        "print(net.l1.weight.grad)\n",
        "print(net.l1.bias.grad)"
      ],
      "metadata": {
        "colab": {
          "base_uri": "https://localhost:8080/"
        },
        "id": "iVvG5vypUmAw",
        "outputId": "693e8f64-e8fa-4085-c66d-d42bdef8204f"
      },
      "execution_count": 34,
      "outputs": [
        {
          "output_type": "stream",
          "name": "stdout",
          "text": [
            "tensor([[-199.6421]])\n",
            "tensor([-30.4963])\n"
          ]
        }
      ]
    },
    {
      "cell_type": "markdown",
      "source": [
        "勾配が重み、バイアスそれぞれ1つで表される理由が掴めていないな。複数あるやん？\n"
      ],
      "metadata": {
        "id": "IukG_eTbXIWM"
      }
    },
    {
      "cell_type": "code",
      "source": [
        "# パラメタ修正\n",
        "optimizer.step()\n",
        "# パラメタとバイアス値が変わる\n",
        "print(net.l1.weight)\n",
        "print(net.l1.bias)"
      ],
      "metadata": {
        "colab": {
          "base_uri": "https://localhost:8080/"
        },
        "id": "9s53e-p_XG6b",
        "outputId": "588a461a-6bc4-4603-aff3-c4157f2f7255"
      },
      "execution_count": 35,
      "outputs": [
        {
          "output_type": "stream",
          "name": "stdout",
          "text": [
            "Parameter containing:\n",
            "tensor([[2.9964]], requires_grad=True)\n",
            "Parameter containing:\n",
            "tensor([1.3050], requires_grad=True)\n"
          ]
        }
      ]
    },
    {
      "cell_type": "code",
      "source": [
        "# パラメタの修正が終わったら勾配値を初期化する必要がある\n",
        "optimizer.zero_grad()\n",
        "# 勾配値が全て0になっている\n",
        "print(net.l1.weight.grad)\n",
        "print(net.l1.bias.grad)"
      ],
      "metadata": {
        "colab": {
          "base_uri": "https://localhost:8080/"
        },
        "id": "RCWpqDakaS05",
        "outputId": "9478e9cd-009f-445f-9f54-5e00959d58b2"
      },
      "execution_count": 36,
      "outputs": [
        {
          "output_type": "stream",
          "name": "stdout",
          "text": [
            "tensor([[0.]])\n",
            "tensor([0.])\n"
          ]
        }
      ]
    },
    {
      "cell_type": "code",
      "source": [
        "# 学習率\n",
        "lr = 0.01\n",
        "\n",
        "# インスタンス生成　(パラメータ値初期化)\n",
        "net = Net(n_input, n_output)\n",
        "\n",
        "# 損失関数： 平均2乗誤差\n",
        "criterion = nn.MSELoss()\n",
        "\n",
        "# 最適化関数: 勾配降下法\n",
        "optimizer = optim.SGD(net.parameters(), lr=lr)\n",
        "\n",
        "# 繰り返し回数\n",
        "num_epochs = 50000\n",
        "\n",
        "# 評価結果記録用 (損失関数値のみ記録)\n",
        "history = np.zeros((0,2))"
      ],
      "metadata": {
        "id": "o4I_uYnIa79O"
      },
      "execution_count": 46,
      "outputs": []
    },
    {
      "cell_type": "code",
      "source": [
        "# 繰り返し計算メインループ\n",
        "\n",
        "for epoch in range(num_epochs):\n",
        "    \n",
        "    # 勾配値初期化\n",
        "    optimizer.zero_grad()\n",
        "\n",
        "    # 予測計算\n",
        "    outputs = net(inputs)\n",
        "  \n",
        "    # 損失計算\n",
        "    # 「ディープラーニングの数学」に合わせて2で割った値を損失とした\n",
        "    loss = criterion(outputs, labels1) / 2.0\n",
        "\n",
        "    # 勾配計算\n",
        "    loss.backward()\n",
        "\n",
        "    # パラメータ修正\n",
        "    optimizer.step()\n",
        "\n",
        "    # 100回ごとに途中経過を記録する\n",
        "    if ( epoch % 100 == 0):\n",
        "        history = np.vstack((history, np.array([epoch, loss.item()])))\n",
        "        print(f'Epoch {epoch} loss: {loss.item():.5f}')"
      ],
      "metadata": {
        "colab": {
          "base_uri": "https://localhost:8080/"
        },
        "id": "jcbzZUrrcuwO",
        "outputId": "b7cf46ab-2b5b-4496-9af0-6bd5242180ff"
      },
      "execution_count": 47,
      "outputs": [
        {
          "output_type": "stream",
          "name": "stdout",
          "text": [
            "Epoch 0 loss: 154.22493\n",
            "Epoch 100 loss: 29.61752\n",
            "Epoch 200 loss: 29.43177\n",
            "Epoch 300 loss: 29.25043\n",
            "Epoch 400 loss: 29.07340\n",
            "Epoch 500 loss: 28.90057\n",
            "Epoch 600 loss: 28.73186\n",
            "Epoch 700 loss: 28.56715\n",
            "Epoch 800 loss: 28.40636\n",
            "Epoch 900 loss: 28.24939\n",
            "Epoch 1000 loss: 28.09615\n",
            "Epoch 1100 loss: 27.94655\n",
            "Epoch 1200 loss: 27.80050\n",
            "Epoch 1300 loss: 27.65792\n",
            "Epoch 1400 loss: 27.51873\n",
            "Epoch 1500 loss: 27.38285\n",
            "Epoch 1600 loss: 27.25020\n",
            "Epoch 1700 loss: 27.12070\n",
            "Epoch 1800 loss: 26.99428\n",
            "Epoch 1900 loss: 26.87086\n",
            "Epoch 2000 loss: 26.75037\n",
            "Epoch 2100 loss: 26.63275\n",
            "Epoch 2200 loss: 26.51792\n",
            "Epoch 2300 loss: 26.40582\n",
            "Epoch 2400 loss: 26.29639\n",
            "Epoch 2500 loss: 26.18955\n",
            "Epoch 2600 loss: 26.08525\n",
            "Epoch 2700 loss: 25.98343\n",
            "Epoch 2800 loss: 25.88404\n",
            "Epoch 2900 loss: 25.78700\n",
            "Epoch 3000 loss: 25.69226\n",
            "Epoch 3100 loss: 25.59978\n",
            "Epoch 3200 loss: 25.50950\n",
            "Epoch 3300 loss: 25.42136\n",
            "Epoch 3400 loss: 25.33532\n",
            "Epoch 3500 loss: 25.25132\n",
            "Epoch 3600 loss: 25.16932\n",
            "Epoch 3700 loss: 25.08927\n",
            "Epoch 3800 loss: 25.01111\n",
            "Epoch 3900 loss: 24.93482\n",
            "Epoch 4000 loss: 24.86034\n",
            "Epoch 4100 loss: 24.78762\n",
            "Epoch 4200 loss: 24.71664\n",
            "Epoch 4300 loss: 24.64734\n",
            "Epoch 4400 loss: 24.57969\n",
            "Epoch 4500 loss: 24.51365\n",
            "Epoch 4600 loss: 24.44917\n",
            "Epoch 4700 loss: 24.38623\n",
            "Epoch 4800 loss: 24.32478\n",
            "Epoch 4900 loss: 24.26480\n",
            "Epoch 5000 loss: 24.20624\n",
            "Epoch 5100 loss: 24.14907\n",
            "Epoch 5200 loss: 24.09326\n",
            "Epoch 5300 loss: 24.03877\n",
            "Epoch 5400 loss: 23.98558\n",
            "Epoch 5500 loss: 23.93365\n",
            "Epoch 5600 loss: 23.88296\n",
            "Epoch 5700 loss: 23.83347\n",
            "Epoch 5800 loss: 23.78516\n",
            "Epoch 5900 loss: 23.73800\n",
            "Epoch 6000 loss: 23.69196\n",
            "Epoch 6100 loss: 23.64701\n",
            "Epoch 6200 loss: 23.60312\n",
            "Epoch 6300 loss: 23.56029\n",
            "Epoch 6400 loss: 23.51847\n",
            "Epoch 6500 loss: 23.47764\n",
            "Epoch 6600 loss: 23.43778\n",
            "Epoch 6700 loss: 23.39887\n",
            "Epoch 6800 loss: 23.36088\n",
            "Epoch 6900 loss: 23.32380\n",
            "Epoch 7000 loss: 23.28760\n",
            "Epoch 7100 loss: 23.25226\n",
            "Epoch 7200 loss: 23.21776\n",
            "Epoch 7300 loss: 23.18408\n",
            "Epoch 7400 loss: 23.15120\n",
            "Epoch 7500 loss: 23.11910\n",
            "Epoch 7600 loss: 23.08776\n",
            "Epoch 7700 loss: 23.05717\n",
            "Epoch 7800 loss: 23.02730\n",
            "Epoch 7900 loss: 22.99814\n",
            "Epoch 8000 loss: 22.96968\n",
            "Epoch 8100 loss: 22.94190\n",
            "Epoch 8200 loss: 22.91477\n",
            "Epoch 8300 loss: 22.88828\n",
            "Epoch 8400 loss: 22.86243\n",
            "Epoch 8500 loss: 22.83719\n",
            "Epoch 8600 loss: 22.81255\n",
            "Epoch 8700 loss: 22.78850\n",
            "Epoch 8800 loss: 22.76502\n",
            "Epoch 8900 loss: 22.74209\n",
            "Epoch 9000 loss: 22.71972\n",
            "Epoch 9100 loss: 22.69787\n",
            "Epoch 9200 loss: 22.67654\n",
            "Epoch 9300 loss: 22.65572\n",
            "Epoch 9400 loss: 22.63539\n",
            "Epoch 9500 loss: 22.61555\n",
            "Epoch 9600 loss: 22.59618\n",
            "Epoch 9700 loss: 22.57727\n",
            "Epoch 9800 loss: 22.55880\n",
            "Epoch 9900 loss: 22.54078\n",
            "Epoch 10000 loss: 22.52318\n",
            "Epoch 10100 loss: 22.50601\n",
            "Epoch 10200 loss: 22.48924\n",
            "Epoch 10300 loss: 22.47287\n",
            "Epoch 10400 loss: 22.45688\n",
            "Epoch 10500 loss: 22.44128\n",
            "Epoch 10600 loss: 22.42605\n",
            "Epoch 10700 loss: 22.41118\n",
            "Epoch 10800 loss: 22.39667\n",
            "Epoch 10900 loss: 22.38249\n",
            "Epoch 11000 loss: 22.36866\n",
            "Epoch 11100 loss: 22.35515\n",
            "Epoch 11200 loss: 22.34197\n",
            "Epoch 11300 loss: 22.32910\n",
            "Epoch 11400 loss: 22.31653\n",
            "Epoch 11500 loss: 22.30426\n",
            "Epoch 11600 loss: 22.29229\n",
            "Epoch 11700 loss: 22.28060\n",
            "Epoch 11800 loss: 22.26919\n",
            "Epoch 11900 loss: 22.25804\n",
            "Epoch 12000 loss: 22.24717\n",
            "Epoch 12100 loss: 22.23655\n",
            "Epoch 12200 loss: 22.22618\n",
            "Epoch 12300 loss: 22.21606\n",
            "Epoch 12400 loss: 22.20618\n",
            "Epoch 12500 loss: 22.19654\n",
            "Epoch 12600 loss: 22.18712\n",
            "Epoch 12700 loss: 22.17793\n",
            "Epoch 12800 loss: 22.16896\n",
            "Epoch 12900 loss: 22.16020\n",
            "Epoch 13000 loss: 22.15165\n",
            "Epoch 13100 loss: 22.14330\n",
            "Epoch 13200 loss: 22.13514\n",
            "Epoch 13300 loss: 22.12719\n",
            "Epoch 13400 loss: 22.11942\n",
            "Epoch 13500 loss: 22.11184\n",
            "Epoch 13600 loss: 22.10443\n",
            "Epoch 13700 loss: 22.09720\n",
            "Epoch 13800 loss: 22.09015\n",
            "Epoch 13900 loss: 22.08326\n",
            "Epoch 14000 loss: 22.07654\n",
            "Epoch 14100 loss: 22.06997\n",
            "Epoch 14200 loss: 22.06357\n",
            "Epoch 14300 loss: 22.05731\n",
            "Epoch 14400 loss: 22.05120\n",
            "Epoch 14500 loss: 22.04524\n",
            "Epoch 14600 loss: 22.03942\n",
            "Epoch 14700 loss: 22.03374\n",
            "Epoch 14800 loss: 22.02819\n",
            "Epoch 14900 loss: 22.02277\n",
            "Epoch 15000 loss: 22.01749\n",
            "Epoch 15100 loss: 22.01233\n",
            "Epoch 15200 loss: 22.00729\n",
            "Epoch 15300 loss: 22.00237\n",
            "Epoch 15400 loss: 21.99757\n",
            "Epoch 15500 loss: 21.99288\n",
            "Epoch 15600 loss: 21.98830\n",
            "Epoch 15700 loss: 21.98384\n",
            "Epoch 15800 loss: 21.97948\n",
            "Epoch 15900 loss: 21.97521\n",
            "Epoch 16000 loss: 21.97106\n",
            "Epoch 16100 loss: 21.96700\n",
            "Epoch 16200 loss: 21.96304\n",
            "Epoch 16300 loss: 21.95917\n",
            "Epoch 16400 loss: 21.95539\n",
            "Epoch 16500 loss: 21.95171\n",
            "Epoch 16600 loss: 21.94811\n",
            "Epoch 16700 loss: 21.94460\n",
            "Epoch 16800 loss: 21.94117\n",
            "Epoch 16900 loss: 21.93782\n",
            "Epoch 17000 loss: 21.93456\n",
            "Epoch 17100 loss: 21.93136\n",
            "Epoch 17200 loss: 21.92825\n",
            "Epoch 17300 loss: 21.92521\n",
            "Epoch 17400 loss: 21.92224\n",
            "Epoch 17500 loss: 21.91934\n",
            "Epoch 17600 loss: 21.91651\n",
            "Epoch 17700 loss: 21.91375\n",
            "Epoch 17800 loss: 21.91106\n",
            "Epoch 17900 loss: 21.90842\n",
            "Epoch 18000 loss: 21.90585\n",
            "Epoch 18100 loss: 21.90334\n",
            "Epoch 18200 loss: 21.90090\n",
            "Epoch 18300 loss: 21.89850\n",
            "Epoch 18400 loss: 21.89617\n",
            "Epoch 18500 loss: 21.89389\n",
            "Epoch 18600 loss: 21.89167\n",
            "Epoch 18700 loss: 21.88950\n",
            "Epoch 18800 loss: 21.88738\n",
            "Epoch 18900 loss: 21.88531\n",
            "Epoch 19000 loss: 21.88329\n",
            "Epoch 19100 loss: 21.88132\n",
            "Epoch 19200 loss: 21.87939\n",
            "Epoch 19300 loss: 21.87751\n",
            "Epoch 19400 loss: 21.87567\n",
            "Epoch 19500 loss: 21.87388\n",
            "Epoch 19600 loss: 21.87213\n",
            "Epoch 19700 loss: 21.87043\n",
            "Epoch 19800 loss: 21.86876\n",
            "Epoch 19900 loss: 21.86713\n",
            "Epoch 20000 loss: 21.86554\n",
            "Epoch 20100 loss: 21.86399\n",
            "Epoch 20200 loss: 21.86248\n",
            "Epoch 20300 loss: 21.86100\n",
            "Epoch 20400 loss: 21.85956\n",
            "Epoch 20500 loss: 21.85815\n",
            "Epoch 20600 loss: 21.85677\n",
            "Epoch 20700 loss: 21.85543\n",
            "Epoch 20800 loss: 21.85412\n",
            "Epoch 20900 loss: 21.85284\n",
            "Epoch 21000 loss: 21.85159\n",
            "Epoch 21100 loss: 21.85038\n",
            "Epoch 21200 loss: 21.84918\n",
            "Epoch 21300 loss: 21.84802\n",
            "Epoch 21400 loss: 21.84689\n",
            "Epoch 21500 loss: 21.84578\n",
            "Epoch 21600 loss: 21.84470\n",
            "Epoch 21700 loss: 21.84364\n",
            "Epoch 21800 loss: 21.84261\n",
            "Epoch 21900 loss: 21.84160\n",
            "Epoch 22000 loss: 21.84063\n",
            "Epoch 22100 loss: 21.83967\n",
            "Epoch 22200 loss: 21.83873\n",
            "Epoch 22300 loss: 21.83782\n",
            "Epoch 22400 loss: 21.83693\n",
            "Epoch 22500 loss: 21.83605\n",
            "Epoch 22600 loss: 21.83520\n",
            "Epoch 22700 loss: 21.83437\n",
            "Epoch 22800 loss: 21.83356\n",
            "Epoch 22900 loss: 21.83278\n",
            "Epoch 23000 loss: 21.83200\n",
            "Epoch 23100 loss: 21.83125\n",
            "Epoch 23200 loss: 21.83051\n",
            "Epoch 23300 loss: 21.82980\n",
            "Epoch 23400 loss: 21.82909\n",
            "Epoch 23500 loss: 21.82841\n",
            "Epoch 23600 loss: 21.82774\n",
            "Epoch 23700 loss: 21.82709\n",
            "Epoch 23800 loss: 21.82645\n",
            "Epoch 23900 loss: 21.82583\n",
            "Epoch 24000 loss: 21.82522\n",
            "Epoch 24100 loss: 21.82463\n",
            "Epoch 24200 loss: 21.82405\n",
            "Epoch 24300 loss: 21.82348\n",
            "Epoch 24400 loss: 21.82293\n",
            "Epoch 24500 loss: 21.82239\n",
            "Epoch 24600 loss: 21.82187\n",
            "Epoch 24700 loss: 21.82136\n",
            "Epoch 24800 loss: 21.82085\n",
            "Epoch 24900 loss: 21.82037\n",
            "Epoch 25000 loss: 21.81989\n",
            "Epoch 25100 loss: 21.81942\n",
            "Epoch 25200 loss: 21.81897\n",
            "Epoch 25300 loss: 21.81853\n",
            "Epoch 25400 loss: 21.81809\n",
            "Epoch 25500 loss: 21.81767\n",
            "Epoch 25600 loss: 21.81726\n",
            "Epoch 25700 loss: 21.81685\n",
            "Epoch 25800 loss: 21.81646\n",
            "Epoch 25900 loss: 21.81607\n",
            "Epoch 26000 loss: 21.81570\n",
            "Epoch 26100 loss: 21.81533\n",
            "Epoch 26200 loss: 21.81497\n",
            "Epoch 26300 loss: 21.81462\n",
            "Epoch 26400 loss: 21.81428\n",
            "Epoch 26500 loss: 21.81395\n",
            "Epoch 26600 loss: 21.81363\n",
            "Epoch 26700 loss: 21.81331\n",
            "Epoch 26800 loss: 21.81300\n",
            "Epoch 26900 loss: 21.81269\n",
            "Epoch 27000 loss: 21.81240\n",
            "Epoch 27100 loss: 21.81211\n",
            "Epoch 27200 loss: 21.81183\n",
            "Epoch 27300 loss: 21.81156\n",
            "Epoch 27400 loss: 21.81129\n",
            "Epoch 27500 loss: 21.81103\n",
            "Epoch 27600 loss: 21.81077\n",
            "Epoch 27700 loss: 21.81052\n",
            "Epoch 27800 loss: 21.81028\n",
            "Epoch 27900 loss: 21.81004\n",
            "Epoch 28000 loss: 21.80981\n",
            "Epoch 28100 loss: 21.80959\n",
            "Epoch 28200 loss: 21.80936\n",
            "Epoch 28300 loss: 21.80915\n",
            "Epoch 28400 loss: 21.80894\n",
            "Epoch 28500 loss: 21.80873\n",
            "Epoch 28600 loss: 21.80853\n",
            "Epoch 28700 loss: 21.80833\n",
            "Epoch 28800 loss: 21.80814\n",
            "Epoch 28900 loss: 21.80795\n",
            "Epoch 29000 loss: 21.80777\n",
            "Epoch 29100 loss: 21.80759\n",
            "Epoch 29200 loss: 21.80742\n",
            "Epoch 29300 loss: 21.80725\n",
            "Epoch 29400 loss: 21.80709\n",
            "Epoch 29500 loss: 21.80693\n",
            "Epoch 29600 loss: 21.80676\n",
            "Epoch 29700 loss: 21.80661\n",
            "Epoch 29800 loss: 21.80646\n",
            "Epoch 29900 loss: 21.80631\n",
            "Epoch 30000 loss: 21.80617\n",
            "Epoch 30100 loss: 21.80603\n",
            "Epoch 30200 loss: 21.80589\n",
            "Epoch 30300 loss: 21.80576\n",
            "Epoch 30400 loss: 21.80563\n",
            "Epoch 30500 loss: 21.80551\n",
            "Epoch 30600 loss: 21.80538\n",
            "Epoch 30700 loss: 21.80526\n",
            "Epoch 30800 loss: 21.80514\n",
            "Epoch 30900 loss: 21.80503\n",
            "Epoch 31000 loss: 21.80491\n",
            "Epoch 31100 loss: 21.80480\n",
            "Epoch 31200 loss: 21.80469\n",
            "Epoch 31300 loss: 21.80459\n",
            "Epoch 31400 loss: 21.80449\n",
            "Epoch 31500 loss: 21.80439\n",
            "Epoch 31600 loss: 21.80429\n",
            "Epoch 31700 loss: 21.80419\n",
            "Epoch 31800 loss: 21.80410\n",
            "Epoch 31900 loss: 21.80401\n",
            "Epoch 32000 loss: 21.80392\n",
            "Epoch 32100 loss: 21.80384\n",
            "Epoch 32200 loss: 21.80375\n",
            "Epoch 32300 loss: 21.80367\n",
            "Epoch 32400 loss: 21.80359\n",
            "Epoch 32500 loss: 21.80351\n",
            "Epoch 32600 loss: 21.80343\n",
            "Epoch 32700 loss: 21.80336\n",
            "Epoch 32800 loss: 21.80328\n",
            "Epoch 32900 loss: 21.80321\n",
            "Epoch 33000 loss: 21.80314\n",
            "Epoch 33100 loss: 21.80307\n",
            "Epoch 33200 loss: 21.80301\n",
            "Epoch 33300 loss: 21.80294\n",
            "Epoch 33400 loss: 21.80288\n",
            "Epoch 33500 loss: 21.80281\n",
            "Epoch 33600 loss: 21.80276\n",
            "Epoch 33700 loss: 21.80270\n",
            "Epoch 33800 loss: 21.80264\n",
            "Epoch 33900 loss: 21.80258\n",
            "Epoch 34000 loss: 21.80253\n",
            "Epoch 34100 loss: 21.80247\n",
            "Epoch 34200 loss: 21.80242\n",
            "Epoch 34300 loss: 21.80237\n",
            "Epoch 34400 loss: 21.80232\n",
            "Epoch 34500 loss: 21.80227\n",
            "Epoch 34600 loss: 21.80223\n",
            "Epoch 34700 loss: 21.80218\n",
            "Epoch 34800 loss: 21.80213\n",
            "Epoch 34900 loss: 21.80209\n",
            "Epoch 35000 loss: 21.80205\n",
            "Epoch 35100 loss: 21.80201\n",
            "Epoch 35200 loss: 21.80197\n",
            "Epoch 35300 loss: 21.80192\n",
            "Epoch 35400 loss: 21.80189\n",
            "Epoch 35500 loss: 21.80185\n",
            "Epoch 35600 loss: 21.80181\n",
            "Epoch 35700 loss: 21.80177\n",
            "Epoch 35800 loss: 21.80174\n",
            "Epoch 35900 loss: 21.80170\n",
            "Epoch 36000 loss: 21.80167\n",
            "Epoch 36100 loss: 21.80164\n",
            "Epoch 36200 loss: 21.80161\n",
            "Epoch 36300 loss: 21.80157\n",
            "Epoch 36400 loss: 21.80154\n",
            "Epoch 36500 loss: 21.80151\n",
            "Epoch 36600 loss: 21.80148\n",
            "Epoch 36700 loss: 21.80145\n",
            "Epoch 36800 loss: 21.80143\n",
            "Epoch 36900 loss: 21.80140\n",
            "Epoch 37000 loss: 21.80137\n",
            "Epoch 37100 loss: 21.80135\n",
            "Epoch 37200 loss: 21.80132\n",
            "Epoch 37300 loss: 21.80129\n",
            "Epoch 37400 loss: 21.80127\n",
            "Epoch 37500 loss: 21.80125\n",
            "Epoch 37600 loss: 21.80122\n",
            "Epoch 37700 loss: 21.80120\n",
            "Epoch 37800 loss: 21.80118\n",
            "Epoch 37900 loss: 21.80116\n",
            "Epoch 38000 loss: 21.80114\n",
            "Epoch 38100 loss: 21.80112\n",
            "Epoch 38200 loss: 21.80110\n",
            "Epoch 38300 loss: 21.80108\n",
            "Epoch 38400 loss: 21.80106\n",
            "Epoch 38500 loss: 21.80104\n",
            "Epoch 38600 loss: 21.80102\n",
            "Epoch 38700 loss: 21.80100\n",
            "Epoch 38800 loss: 21.80099\n",
            "Epoch 38900 loss: 21.80097\n",
            "Epoch 39000 loss: 21.80095\n",
            "Epoch 39100 loss: 21.80094\n",
            "Epoch 39200 loss: 21.80092\n",
            "Epoch 39300 loss: 21.80091\n",
            "Epoch 39400 loss: 21.80089\n",
            "Epoch 39500 loss: 21.80088\n",
            "Epoch 39600 loss: 21.80087\n",
            "Epoch 39700 loss: 21.80085\n",
            "Epoch 39800 loss: 21.80083\n",
            "Epoch 39900 loss: 21.80082\n",
            "Epoch 40000 loss: 21.80081\n",
            "Epoch 40100 loss: 21.80080\n",
            "Epoch 40200 loss: 21.80079\n",
            "Epoch 40300 loss: 21.80077\n",
            "Epoch 40400 loss: 21.80076\n",
            "Epoch 40500 loss: 21.80075\n",
            "Epoch 40600 loss: 21.80074\n",
            "Epoch 40700 loss: 21.80072\n",
            "Epoch 40800 loss: 21.80072\n",
            "Epoch 40900 loss: 21.80070\n",
            "Epoch 41000 loss: 21.80070\n",
            "Epoch 41100 loss: 21.80068\n",
            "Epoch 41200 loss: 21.80068\n",
            "Epoch 41300 loss: 21.80067\n",
            "Epoch 41400 loss: 21.80065\n",
            "Epoch 41500 loss: 21.80065\n",
            "Epoch 41600 loss: 21.80064\n",
            "Epoch 41700 loss: 21.80063\n",
            "Epoch 41800 loss: 21.80062\n",
            "Epoch 41900 loss: 21.80061\n",
            "Epoch 42000 loss: 21.80061\n",
            "Epoch 42100 loss: 21.80060\n",
            "Epoch 42200 loss: 21.80059\n",
            "Epoch 42300 loss: 21.80058\n",
            "Epoch 42400 loss: 21.80058\n",
            "Epoch 42500 loss: 21.80057\n",
            "Epoch 42600 loss: 21.80056\n",
            "Epoch 42700 loss: 21.80055\n",
            "Epoch 42800 loss: 21.80055\n",
            "Epoch 42900 loss: 21.80054\n",
            "Epoch 43000 loss: 21.80054\n",
            "Epoch 43100 loss: 21.80053\n",
            "Epoch 43200 loss: 21.80052\n",
            "Epoch 43300 loss: 21.80052\n",
            "Epoch 43400 loss: 21.80051\n",
            "Epoch 43500 loss: 21.80051\n",
            "Epoch 43600 loss: 21.80050\n",
            "Epoch 43700 loss: 21.80050\n",
            "Epoch 43800 loss: 21.80049\n",
            "Epoch 43900 loss: 21.80048\n",
            "Epoch 44000 loss: 21.80048\n",
            "Epoch 44100 loss: 21.80048\n",
            "Epoch 44200 loss: 21.80047\n",
            "Epoch 44300 loss: 21.80046\n",
            "Epoch 44400 loss: 21.80046\n",
            "Epoch 44500 loss: 21.80046\n",
            "Epoch 44600 loss: 21.80045\n",
            "Epoch 44700 loss: 21.80045\n",
            "Epoch 44800 loss: 21.80045\n",
            "Epoch 44900 loss: 21.80044\n",
            "Epoch 45000 loss: 21.80044\n",
            "Epoch 45100 loss: 21.80043\n",
            "Epoch 45200 loss: 21.80043\n",
            "Epoch 45300 loss: 21.80043\n",
            "Epoch 45400 loss: 21.80042\n",
            "Epoch 45500 loss: 21.80042\n",
            "Epoch 45600 loss: 21.80042\n",
            "Epoch 45700 loss: 21.80041\n",
            "Epoch 45800 loss: 21.80041\n",
            "Epoch 45900 loss: 21.80041\n",
            "Epoch 46000 loss: 21.80040\n",
            "Epoch 46100 loss: 21.80040\n",
            "Epoch 46200 loss: 21.80040\n",
            "Epoch 46300 loss: 21.80039\n",
            "Epoch 46400 loss: 21.80039\n",
            "Epoch 46500 loss: 21.80039\n",
            "Epoch 46600 loss: 21.80039\n",
            "Epoch 46700 loss: 21.80038\n",
            "Epoch 46800 loss: 21.80038\n",
            "Epoch 46900 loss: 21.80038\n",
            "Epoch 47000 loss: 21.80038\n",
            "Epoch 47100 loss: 21.80037\n",
            "Epoch 47200 loss: 21.80037\n",
            "Epoch 47300 loss: 21.80037\n",
            "Epoch 47400 loss: 21.80037\n",
            "Epoch 47500 loss: 21.80036\n",
            "Epoch 47600 loss: 21.80036\n",
            "Epoch 47700 loss: 21.80036\n",
            "Epoch 47800 loss: 21.80036\n",
            "Epoch 47900 loss: 21.80035\n",
            "Epoch 48000 loss: 21.80035\n",
            "Epoch 48100 loss: 21.80035\n",
            "Epoch 48200 loss: 21.80035\n",
            "Epoch 48300 loss: 21.80035\n",
            "Epoch 48400 loss: 21.80035\n",
            "Epoch 48500 loss: 21.80034\n",
            "Epoch 48600 loss: 21.80034\n",
            "Epoch 48700 loss: 21.80034\n",
            "Epoch 48800 loss: 21.80034\n",
            "Epoch 48900 loss: 21.80034\n",
            "Epoch 49000 loss: 21.80034\n",
            "Epoch 49100 loss: 21.80034\n",
            "Epoch 49200 loss: 21.80033\n",
            "Epoch 49300 loss: 21.80033\n",
            "Epoch 49400 loss: 21.80033\n",
            "Epoch 49500 loss: 21.80033\n",
            "Epoch 49600 loss: 21.80033\n",
            "Epoch 49700 loss: 21.80033\n",
            "Epoch 49800 loss: 21.80033\n",
            "Epoch 49900 loss: 21.80033\n"
          ]
        }
      ]
    },
    {
      "cell_type": "code",
      "source": [
        "# 損失初期値と最終値\n",
        "\n",
        "print(f'損失初期値: {history[0,1]:.5f}')\n",
        "print(f'損失最終値: {history[-1,1]:.5f}')"
      ],
      "metadata": {
        "colab": {
          "base_uri": "https://localhost:8080/"
        },
        "id": "uVk5qeIgl8aD",
        "outputId": "09830734-f59a-42b9-c8af-0c84ed8e7471"
      },
      "execution_count": 48,
      "outputs": [
        {
          "output_type": "stream",
          "name": "stdout",
          "text": [
            "損失初期値: 154.22493\n",
            "損失最終値: 21.80033\n"
          ]
        }
      ]
    },
    {
      "cell_type": "code",
      "source": [
        "\n",
        "# 学習曲線の表示 (損失) \n",
        "# 最初の1つを除く\n",
        "\n",
        "plt.plot(history[1:,0], history[1:,1], 'b')\n",
        "plt.xlabel('繰り返し回数')\n",
        "plt.ylabel('損失')\n",
        "plt.title('学習曲線(損失)')\n",
        "plt.show()"
      ],
      "metadata": {
        "colab": {
          "base_uri": "https://localhost:8080/",
          "height": 415
        },
        "id": "jL2w3cGJlo0J",
        "outputId": "2eb849aa-54b7-4e71-a682-aad3df7dc310"
      },
      "execution_count": 49,
      "outputs": [
        {
          "output_type": "display_data",
          "data": {
            "text/plain": [
              "<Figure size 432x432 with 1 Axes>"
            ],
            "image/png": "[encoded data removed]"
          },
          "metadata": {
            "needs_background": "light"
          }
        }
      ]
    },
    {
      "cell_type": "code",
      "source": [
        "# 回帰直線の算出\n",
        "\n",
        "# xの最小値、最大値\n",
        "xse = np.array((x.min(), x.max())).reshape(-1,1)\n",
        "Xse = torch.tensor(xse).float()\n",
        "\n",
        "with torch.no_grad():\n",
        "  Yse = net(Xse)\n",
        "\n",
        "print(Yse.numpy())"
      ],
      "metadata": {
        "colab": {
          "base_uri": "https://localhost:8080/"
        },
        "id": "Nov9E1iFnVYS",
        "outputId": "134b3956-83fb-42f0-8aa9-75288b71b15b"
      },
      "execution_count": 50,
      "outputs": [
        {
          "output_type": "stream",
          "name": "stdout",
          "text": [
            "[[-2.2189]\n",
            " [45.2121]]\n"
          ]
        }
      ]
    },
    {
      "cell_type": "code",
      "source": [
        "# 散布図と回帰直線の描画\n",
        "\n",
        "plt.scatter(x, yt, s=10, c='b')\n",
        "plt.xlabel('部屋数')\n",
        "plt.ylabel('価格')\n",
        "plt.plot(Xse.data, Yse.data, c='k')\n",
        "plt.title('散布図と回帰直線')\n",
        "plt.show()"
      ],
      "metadata": {
        "colab": {
          "base_uri": "https://localhost:8080/",
          "height": 413
        },
        "id": "6eB-81NKn7uA",
        "outputId": "647543eb-64b4-41f0-a93b-aeec9903ba24"
      },
      "execution_count": 51,
      "outputs": [
        {
          "output_type": "display_data",
          "data": {
            "text/plain": [
              "<Figure size 432x432 with 1 Axes>"
            ],
            "image/png": "[encoded data removed]"
          },
          "metadata": {
            "needs_background": "light"
          }
        }
      ]
    },
    {
      "cell_type": "code",
      "source": [
        "# 列(LSTAT: 低所得者率)の追加\n",
        "\n",
        "x_add = x_org[:,feature_names == 'LSTAT']\n",
        "x2 = np.hstack((x, x_add))\n",
        "\n",
        "# shapeの表示\n",
        "print(x2.shape)\n",
        "\n",
        "# 入力データxの表示\n",
        "print(x2[:5,:])"
      ],
      "metadata": {
        "colab": {
          "base_uri": "https://localhost:8080/"
        },
        "id": "tYcXaL5FoFOZ",
        "outputId": "701dedf5-9b49-4fb2-9aa5-b4d96d575533"
      },
      "execution_count": 52,
      "outputs": [
        {
          "output_type": "stream",
          "name": "stdout",
          "text": [
            "(506, 2)\n",
            "[[6.575 4.98 ]\n",
            " [6.421 9.14 ]\n",
            " [7.185 4.03 ]\n",
            " [6.998 2.94 ]\n",
            " [7.147 5.33 ]]\n"
          ]
        }
      ]
    },
    {
      "cell_type": "code",
      "source": [
        "# 今度は入力次元数=2\n",
        "\n",
        "n_input = x2.shape[1]\n",
        "print(n_input)\n",
        "\n",
        "# モデルインスタンスの生成\n",
        "net = Net(n_input, n_output)"
      ],
      "metadata": {
        "colab": {
          "base_uri": "https://localhost:8080/"
        },
        "id": "IYwJ67ifogkb",
        "outputId": "87796ddd-7214-4791-e090-2ccffb18e27a"
      },
      "execution_count": 53,
      "outputs": [
        {
          "output_type": "stream",
          "name": "stdout",
          "text": [
            "2\n"
          ]
        }
      ]
    },
    {
      "cell_type": "code",
      "source": [
        "# モデル内のパラメータの確認\n",
        "# predict.weight が2次元に変わった\n",
        "\n",
        "for parameter in net.named_parameters():\n",
        "    print(f'変数名: {parameter[0]}')\n",
        "    print(f'変数値: {parameter[1].data}')"
      ],
      "metadata": {
        "colab": {
          "base_uri": "https://localhost:8080/"
        },
        "id": "1_PNCOvpoi8x",
        "outputId": "8415aaa5-828e-4f12-bf8e-df910f144d78"
      },
      "execution_count": 54,
      "outputs": [
        {
          "output_type": "stream",
          "name": "stdout",
          "text": [
            "変数名: l1.weight\n",
            "変数値: tensor([[1., 1.]])\n",
            "変数名: l1.bias\n",
            "変数値: tensor([1.])\n"
          ]
        }
      ]
    },
    {
      "cell_type": "code",
      "source": [
        "# モデルの概要表示\n",
        "\n",
        "print(net)"
      ],
      "metadata": {
        "colab": {
          "base_uri": "https://localhost:8080/"
        },
        "id": "FCdtI5oMpFfX",
        "outputId": "6e5bb860-631b-4e43-f043-172b1a423b5e"
      },
      "execution_count": 55,
      "outputs": [
        {
          "output_type": "stream",
          "name": "stdout",
          "text": [
            "Net(\n",
            "  (l1): Linear(in_features=2, out_features=1, bias=True)\n",
            ")\n"
          ]
        }
      ]
    },
    {
      "cell_type": "code",
      "source": [
        "# モデルのサマリー表示\n",
        "\n",
        "from torchinfo import summary\n",
        "summary(net, (2,))"
      ],
      "metadata": {
        "colab": {
          "base_uri": "https://localhost:8080/"
        },
        "id": "O4-hEndcpIc2",
        "outputId": "32dde721-8603-4a8c-ce4d-40f947ea35c2"
      },
      "execution_count": 56,
      "outputs": [
        {
          "output_type": "execute_result",
          "data": {
            "text/plain": [
              "==========================================================================================\n",
              "Layer (type:depth-idx)                   Output Shape              Param #\n",
              "==========================================================================================\n",
              "Net                                      [1]                       --\n",
              "├─Linear: 1-1                            [1]                       3\n",
              "==========================================================================================\n",
              "Total params: 3\n",
              "Trainable params: 3\n",
              "Non-trainable params: 0\n",
              "Total mult-adds (M): 0.00\n",
              "==========================================================================================\n",
              "Input size (MB): 0.00\n",
              "Forward/backward pass size (MB): 0.00\n",
              "Params size (MB): 0.00\n",
              "Estimated Total Size (MB): 0.00\n",
              "=========================================================================================="
            ]
          },
          "metadata": {},
          "execution_count": 56
        }
      ]
    },
    {
      "cell_type": "code",
      "source": [
        "# 入力変数x2 のテンソル変数化 \n",
        "# labels, labels1は前のものをそのまま利用\n",
        "\n",
        "inputs = torch.tensor(x2).float()"
      ],
      "metadata": {
        "id": "zIZ7AcyJpUI0"
      },
      "execution_count": 57,
      "outputs": []
    },
    {
      "cell_type": "code",
      "source": [
        "# 初期化処理\n",
        "\n",
        "# 学習率\n",
        "lr = 0.01\n",
        "\n",
        "# インスタンス生成　(パラメータ値初期化)\n",
        "net = Net(n_input, n_output)\n",
        "\n",
        "# 損失関数： 平均2乗誤差\n",
        "criterion = nn.MSELoss()\n",
        "\n",
        "# 最適化関数: 勾配降下法\n",
        "optimizer = optim.SGD(net.parameters(), lr=lr)\n",
        "\n",
        "# 繰り返し回数\n",
        "num_epochs = 50000\n",
        "\n",
        "# 評価結果記録用 (損失関数値のみ記録)\n",
        "history = np.zeros((0,2))"
      ],
      "metadata": {
        "id": "eiuFLwjrplbT"
      },
      "execution_count": 58,
      "outputs": []
    },
    {
      "cell_type": "code",
      "source": [
        "# 繰り返し計算メインループ\n",
        "\n",
        "for epoch in range(num_epochs):\n",
        "    \n",
        "    # 勾配値初期化\n",
        "    optimizer.zero_grad()\n",
        "\n",
        "    # 予測計算\n",
        "    outputs = net(inputs)\n",
        "  \n",
        "    # 誤差計算\n",
        "    # 「ディープラーニングの数学」に合わせて2で割った値を損失とした\n",
        "    loss = criterion(outputs, labels1) / 2.0\n",
        "\n",
        "    # 勾配計算\n",
        "    loss.backward()\n",
        "\n",
        "    # パラメータ修正\n",
        "    optimizer.step()\n",
        "\n",
        "    # 100回ごとに途中経過を記録する\n",
        "    if ( epoch % 100 == 0):\n",
        "        history = np.vstack((history, np.array([epoch, loss.item()])))\n",
        "        print(f'Epoch {epoch} loss: {loss.item():.5f}')"
      ],
      "metadata": {
        "colab": {
          "base_uri": "https://localhost:8080/"
        },
        "id": "8c_C0NyypnyE",
        "outputId": "11dd795a-ea71-4fe5-a5e4-b18b0d7632d8"
      },
      "execution_count": 59,
      "outputs": [
        {
          "output_type": "stream",
          "name": "stdout",
          "text": [
            "Epoch 0 loss: 112.06398\n",
            "Epoch 100 loss: 3753837073642659568666615480320.00000\n",
            "Epoch 200 loss: inf\n",
            "Epoch 300 loss: nan\n",
            "Epoch 400 loss: nan\n",
            "Epoch 500 loss: nan\n",
            "Epoch 600 loss: nan\n",
            "Epoch 700 loss: nan\n",
            "Epoch 800 loss: nan\n",
            "Epoch 900 loss: nan\n",
            "Epoch 1000 loss: nan\n",
            "Epoch 1100 loss: nan\n",
            "Epoch 1200 loss: nan\n",
            "Epoch 1300 loss: nan\n",
            "Epoch 1400 loss: nan\n",
            "Epoch 1500 loss: nan\n",
            "Epoch 1600 loss: nan\n",
            "Epoch 1700 loss: nan\n",
            "Epoch 1800 loss: nan\n",
            "Epoch 1900 loss: nan\n",
            "Epoch 2000 loss: nan\n",
            "Epoch 2100 loss: nan\n",
            "Epoch 2200 loss: nan\n",
            "Epoch 2300 loss: nan\n",
            "Epoch 2400 loss: nan\n",
            "Epoch 2500 loss: nan\n",
            "Epoch 2600 loss: nan\n",
            "Epoch 2700 loss: nan\n",
            "Epoch 2800 loss: nan\n",
            "Epoch 2900 loss: nan\n",
            "Epoch 3000 loss: nan\n",
            "Epoch 3100 loss: nan\n",
            "Epoch 3200 loss: nan\n",
            "Epoch 3300 loss: nan\n",
            "Epoch 3400 loss: nan\n",
            "Epoch 3500 loss: nan\n",
            "Epoch 3600 loss: nan\n",
            "Epoch 3700 loss: nan\n",
            "Epoch 3800 loss: nan\n",
            "Epoch 3900 loss: nan\n",
            "Epoch 4000 loss: nan\n",
            "Epoch 4100 loss: nan\n",
            "Epoch 4200 loss: nan\n",
            "Epoch 4300 loss: nan\n",
            "Epoch 4400 loss: nan\n",
            "Epoch 4500 loss: nan\n",
            "Epoch 4600 loss: nan\n",
            "Epoch 4700 loss: nan\n",
            "Epoch 4800 loss: nan\n",
            "Epoch 4900 loss: nan\n",
            "Epoch 5000 loss: nan\n",
            "Epoch 5100 loss: nan\n",
            "Epoch 5200 loss: nan\n",
            "Epoch 5300 loss: nan\n",
            "Epoch 5400 loss: nan\n",
            "Epoch 5500 loss: nan\n",
            "Epoch 5600 loss: nan\n",
            "Epoch 5700 loss: nan\n",
            "Epoch 5800 loss: nan\n",
            "Epoch 5900 loss: nan\n",
            "Epoch 6000 loss: nan\n",
            "Epoch 6100 loss: nan\n",
            "Epoch 6200 loss: nan\n",
            "Epoch 6300 loss: nan\n",
            "Epoch 6400 loss: nan\n",
            "Epoch 6500 loss: nan\n",
            "Epoch 6600 loss: nan\n",
            "Epoch 6700 loss: nan\n",
            "Epoch 6800 loss: nan\n",
            "Epoch 6900 loss: nan\n",
            "Epoch 7000 loss: nan\n",
            "Epoch 7100 loss: nan\n",
            "Epoch 7200 loss: nan\n",
            "Epoch 7300 loss: nan\n",
            "Epoch 7400 loss: nan\n",
            "Epoch 7500 loss: nan\n",
            "Epoch 7600 loss: nan\n",
            "Epoch 7700 loss: nan\n",
            "Epoch 7800 loss: nan\n",
            "Epoch 7900 loss: nan\n",
            "Epoch 8000 loss: nan\n",
            "Epoch 8100 loss: nan\n",
            "Epoch 8200 loss: nan\n",
            "Epoch 8300 loss: nan\n",
            "Epoch 8400 loss: nan\n",
            "Epoch 8500 loss: nan\n",
            "Epoch 8600 loss: nan\n",
            "Epoch 8700 loss: nan\n",
            "Epoch 8800 loss: nan\n",
            "Epoch 8900 loss: nan\n",
            "Epoch 9000 loss: nan\n",
            "Epoch 9100 loss: nan\n",
            "Epoch 9200 loss: nan\n",
            "Epoch 9300 loss: nan\n",
            "Epoch 9400 loss: nan\n",
            "Epoch 9500 loss: nan\n",
            "Epoch 9600 loss: nan\n",
            "Epoch 9700 loss: nan\n",
            "Epoch 9800 loss: nan\n",
            "Epoch 9900 loss: nan\n",
            "Epoch 10000 loss: nan\n",
            "Epoch 10100 loss: nan\n",
            "Epoch 10200 loss: nan\n",
            "Epoch 10300 loss: nan\n",
            "Epoch 10400 loss: nan\n",
            "Epoch 10500 loss: nan\n",
            "Epoch 10600 loss: nan\n",
            "Epoch 10700 loss: nan\n",
            "Epoch 10800 loss: nan\n",
            "Epoch 10900 loss: nan\n",
            "Epoch 11000 loss: nan\n",
            "Epoch 11100 loss: nan\n",
            "Epoch 11200 loss: nan\n",
            "Epoch 11300 loss: nan\n",
            "Epoch 11400 loss: nan\n",
            "Epoch 11500 loss: nan\n",
            "Epoch 11600 loss: nan\n",
            "Epoch 11700 loss: nan\n",
            "Epoch 11800 loss: nan\n",
            "Epoch 11900 loss: nan\n",
            "Epoch 12000 loss: nan\n",
            "Epoch 12100 loss: nan\n",
            "Epoch 12200 loss: nan\n",
            "Epoch 12300 loss: nan\n",
            "Epoch 12400 loss: nan\n",
            "Epoch 12500 loss: nan\n",
            "Epoch 12600 loss: nan\n",
            "Epoch 12700 loss: nan\n",
            "Epoch 12800 loss: nan\n",
            "Epoch 12900 loss: nan\n",
            "Epoch 13000 loss: nan\n",
            "Epoch 13100 loss: nan\n",
            "Epoch 13200 loss: nan\n",
            "Epoch 13300 loss: nan\n",
            "Epoch 13400 loss: nan\n",
            "Epoch 13500 loss: nan\n",
            "Epoch 13600 loss: nan\n",
            "Epoch 13700 loss: nan\n",
            "Epoch 13800 loss: nan\n",
            "Epoch 13900 loss: nan\n",
            "Epoch 14000 loss: nan\n",
            "Epoch 14100 loss: nan\n",
            "Epoch 14200 loss: nan\n",
            "Epoch 14300 loss: nan\n",
            "Epoch 14400 loss: nan\n",
            "Epoch 14500 loss: nan\n",
            "Epoch 14600 loss: nan\n",
            "Epoch 14700 loss: nan\n",
            "Epoch 14800 loss: nan\n",
            "Epoch 14900 loss: nan\n",
            "Epoch 15000 loss: nan\n",
            "Epoch 15100 loss: nan\n",
            "Epoch 15200 loss: nan\n",
            "Epoch 15300 loss: nan\n",
            "Epoch 15400 loss: nan\n",
            "Epoch 15500 loss: nan\n",
            "Epoch 15600 loss: nan\n",
            "Epoch 15700 loss: nan\n",
            "Epoch 15800 loss: nan\n",
            "Epoch 15900 loss: nan\n",
            "Epoch 16000 loss: nan\n",
            "Epoch 16100 loss: nan\n",
            "Epoch 16200 loss: nan\n",
            "Epoch 16300 loss: nan\n",
            "Epoch 16400 loss: nan\n",
            "Epoch 16500 loss: nan\n",
            "Epoch 16600 loss: nan\n",
            "Epoch 16700 loss: nan\n",
            "Epoch 16800 loss: nan\n",
            "Epoch 16900 loss: nan\n",
            "Epoch 17000 loss: nan\n",
            "Epoch 17100 loss: nan\n",
            "Epoch 17200 loss: nan\n",
            "Epoch 17300 loss: nan\n",
            "Epoch 17400 loss: nan\n",
            "Epoch 17500 loss: nan\n",
            "Epoch 17600 loss: nan\n",
            "Epoch 17700 loss: nan\n",
            "Epoch 17800 loss: nan\n",
            "Epoch 17900 loss: nan\n",
            "Epoch 18000 loss: nan\n",
            "Epoch 18100 loss: nan\n",
            "Epoch 18200 loss: nan\n",
            "Epoch 18300 loss: nan\n",
            "Epoch 18400 loss: nan\n",
            "Epoch 18500 loss: nan\n",
            "Epoch 18600 loss: nan\n",
            "Epoch 18700 loss: nan\n",
            "Epoch 18800 loss: nan\n",
            "Epoch 18900 loss: nan\n",
            "Epoch 19000 loss: nan\n",
            "Epoch 19100 loss: nan\n",
            "Epoch 19200 loss: nan\n",
            "Epoch 19300 loss: nan\n",
            "Epoch 19400 loss: nan\n",
            "Epoch 19500 loss: nan\n",
            "Epoch 19600 loss: nan\n",
            "Epoch 19700 loss: nan\n",
            "Epoch 19800 loss: nan\n",
            "Epoch 19900 loss: nan\n",
            "Epoch 20000 loss: nan\n",
            "Epoch 20100 loss: nan\n",
            "Epoch 20200 loss: nan\n",
            "Epoch 20300 loss: nan\n",
            "Epoch 20400 loss: nan\n",
            "Epoch 20500 loss: nan\n",
            "Epoch 20600 loss: nan\n",
            "Epoch 20700 loss: nan\n",
            "Epoch 20800 loss: nan\n",
            "Epoch 20900 loss: nan\n",
            "Epoch 21000 loss: nan\n",
            "Epoch 21100 loss: nan\n",
            "Epoch 21200 loss: nan\n",
            "Epoch 21300 loss: nan\n",
            "Epoch 21400 loss: nan\n",
            "Epoch 21500 loss: nan\n",
            "Epoch 21600 loss: nan\n",
            "Epoch 21700 loss: nan\n",
            "Epoch 21800 loss: nan\n",
            "Epoch 21900 loss: nan\n",
            "Epoch 22000 loss: nan\n",
            "Epoch 22100 loss: nan\n",
            "Epoch 22200 loss: nan\n",
            "Epoch 22300 loss: nan\n",
            "Epoch 22400 loss: nan\n",
            "Epoch 22500 loss: nan\n",
            "Epoch 22600 loss: nan\n",
            "Epoch 22700 loss: nan\n",
            "Epoch 22800 loss: nan\n",
            "Epoch 22900 loss: nan\n",
            "Epoch 23000 loss: nan\n",
            "Epoch 23100 loss: nan\n",
            "Epoch 23200 loss: nan\n",
            "Epoch 23300 loss: nan\n",
            "Epoch 23400 loss: nan\n",
            "Epoch 23500 loss: nan\n",
            "Epoch 23600 loss: nan\n",
            "Epoch 23700 loss: nan\n",
            "Epoch 23800 loss: nan\n",
            "Epoch 23900 loss: nan\n",
            "Epoch 24000 loss: nan\n",
            "Epoch 24100 loss: nan\n",
            "Epoch 24200 loss: nan\n",
            "Epoch 24300 loss: nan\n",
            "Epoch 24400 loss: nan\n",
            "Epoch 24500 loss: nan\n",
            "Epoch 24600 loss: nan\n",
            "Epoch 24700 loss: nan\n",
            "Epoch 24800 loss: nan\n",
            "Epoch 24900 loss: nan\n",
            "Epoch 25000 loss: nan\n",
            "Epoch 25100 loss: nan\n",
            "Epoch 25200 loss: nan\n",
            "Epoch 25300 loss: nan\n",
            "Epoch 25400 loss: nan\n",
            "Epoch 25500 loss: nan\n",
            "Epoch 25600 loss: nan\n",
            "Epoch 25700 loss: nan\n",
            "Epoch 25800 loss: nan\n",
            "Epoch 25900 loss: nan\n",
            "Epoch 26000 loss: nan\n",
            "Epoch 26100 loss: nan\n",
            "Epoch 26200 loss: nan\n",
            "Epoch 26300 loss: nan\n",
            "Epoch 26400 loss: nan\n",
            "Epoch 26500 loss: nan\n",
            "Epoch 26600 loss: nan\n",
            "Epoch 26700 loss: nan\n",
            "Epoch 26800 loss: nan\n",
            "Epoch 26900 loss: nan\n",
            "Epoch 27000 loss: nan\n",
            "Epoch 27100 loss: nan\n",
            "Epoch 27200 loss: nan\n",
            "Epoch 27300 loss: nan\n",
            "Epoch 27400 loss: nan\n",
            "Epoch 27500 loss: nan\n",
            "Epoch 27600 loss: nan\n",
            "Epoch 27700 loss: nan\n",
            "Epoch 27800 loss: nan\n",
            "Epoch 27900 loss: nan\n",
            "Epoch 28000 loss: nan\n",
            "Epoch 28100 loss: nan\n",
            "Epoch 28200 loss: nan\n",
            "Epoch 28300 loss: nan\n",
            "Epoch 28400 loss: nan\n",
            "Epoch 28500 loss: nan\n",
            "Epoch 28600 loss: nan\n",
            "Epoch 28700 loss: nan\n",
            "Epoch 28800 loss: nan\n",
            "Epoch 28900 loss: nan\n",
            "Epoch 29000 loss: nan\n",
            "Epoch 29100 loss: nan\n",
            "Epoch 29200 loss: nan\n",
            "Epoch 29300 loss: nan\n",
            "Epoch 29400 loss: nan\n",
            "Epoch 29500 loss: nan\n",
            "Epoch 29600 loss: nan\n",
            "Epoch 29700 loss: nan\n",
            "Epoch 29800 loss: nan\n",
            "Epoch 29900 loss: nan\n",
            "Epoch 30000 loss: nan\n",
            "Epoch 30100 loss: nan\n",
            "Epoch 30200 loss: nan\n",
            "Epoch 30300 loss: nan\n",
            "Epoch 30400 loss: nan\n",
            "Epoch 30500 loss: nan\n",
            "Epoch 30600 loss: nan\n",
            "Epoch 30700 loss: nan\n",
            "Epoch 30800 loss: nan\n",
            "Epoch 30900 loss: nan\n",
            "Epoch 31000 loss: nan\n",
            "Epoch 31100 loss: nan\n",
            "Epoch 31200 loss: nan\n",
            "Epoch 31300 loss: nan\n",
            "Epoch 31400 loss: nan\n",
            "Epoch 31500 loss: nan\n",
            "Epoch 31600 loss: nan\n",
            "Epoch 31700 loss: nan\n",
            "Epoch 31800 loss: nan\n",
            "Epoch 31900 loss: nan\n",
            "Epoch 32000 loss: nan\n",
            "Epoch 32100 loss: nan\n",
            "Epoch 32200 loss: nan\n",
            "Epoch 32300 loss: nan\n",
            "Epoch 32400 loss: nan\n",
            "Epoch 32500 loss: nan\n",
            "Epoch 32600 loss: nan\n",
            "Epoch 32700 loss: nan\n",
            "Epoch 32800 loss: nan\n",
            "Epoch 32900 loss: nan\n",
            "Epoch 33000 loss: nan\n",
            "Epoch 33100 loss: nan\n",
            "Epoch 33200 loss: nan\n",
            "Epoch 33300 loss: nan\n",
            "Epoch 33400 loss: nan\n",
            "Epoch 33500 loss: nan\n",
            "Epoch 33600 loss: nan\n",
            "Epoch 33700 loss: nan\n",
            "Epoch 33800 loss: nan\n",
            "Epoch 33900 loss: nan\n",
            "Epoch 34000 loss: nan\n",
            "Epoch 34100 loss: nan\n",
            "Epoch 34200 loss: nan\n",
            "Epoch 34300 loss: nan\n",
            "Epoch 34400 loss: nan\n",
            "Epoch 34500 loss: nan\n",
            "Epoch 34600 loss: nan\n",
            "Epoch 34700 loss: nan\n",
            "Epoch 34800 loss: nan\n",
            "Epoch 34900 loss: nan\n",
            "Epoch 35000 loss: nan\n",
            "Epoch 35100 loss: nan\n",
            "Epoch 35200 loss: nan\n",
            "Epoch 35300 loss: nan\n",
            "Epoch 35400 loss: nan\n",
            "Epoch 35500 loss: nan\n",
            "Epoch 35600 loss: nan\n",
            "Epoch 35700 loss: nan\n",
            "Epoch 35800 loss: nan\n",
            "Epoch 35900 loss: nan\n",
            "Epoch 36000 loss: nan\n",
            "Epoch 36100 loss: nan\n",
            "Epoch 36200 loss: nan\n",
            "Epoch 36300 loss: nan\n",
            "Epoch 36400 loss: nan\n",
            "Epoch 36500 loss: nan\n",
            "Epoch 36600 loss: nan\n",
            "Epoch 36700 loss: nan\n",
            "Epoch 36800 loss: nan\n",
            "Epoch 36900 loss: nan\n",
            "Epoch 37000 loss: nan\n",
            "Epoch 37100 loss: nan\n",
            "Epoch 37200 loss: nan\n",
            "Epoch 37300 loss: nan\n",
            "Epoch 37400 loss: nan\n",
            "Epoch 37500 loss: nan\n",
            "Epoch 37600 loss: nan\n",
            "Epoch 37700 loss: nan\n",
            "Epoch 37800 loss: nan\n",
            "Epoch 37900 loss: nan\n",
            "Epoch 38000 loss: nan\n",
            "Epoch 38100 loss: nan\n",
            "Epoch 38200 loss: nan\n",
            "Epoch 38300 loss: nan\n",
            "Epoch 38400 loss: nan\n",
            "Epoch 38500 loss: nan\n",
            "Epoch 38600 loss: nan\n",
            "Epoch 38700 loss: nan\n",
            "Epoch 38800 loss: nan\n",
            "Epoch 38900 loss: nan\n",
            "Epoch 39000 loss: nan\n",
            "Epoch 39100 loss: nan\n",
            "Epoch 39200 loss: nan\n",
            "Epoch 39300 loss: nan\n",
            "Epoch 39400 loss: nan\n",
            "Epoch 39500 loss: nan\n",
            "Epoch 39600 loss: nan\n",
            "Epoch 39700 loss: nan\n",
            "Epoch 39800 loss: nan\n",
            "Epoch 39900 loss: nan\n",
            "Epoch 40000 loss: nan\n",
            "Epoch 40100 loss: nan\n",
            "Epoch 40200 loss: nan\n",
            "Epoch 40300 loss: nan\n",
            "Epoch 40400 loss: nan\n",
            "Epoch 40500 loss: nan\n",
            "Epoch 40600 loss: nan\n",
            "Epoch 40700 loss: nan\n",
            "Epoch 40800 loss: nan\n",
            "Epoch 40900 loss: nan\n",
            "Epoch 41000 loss: nan\n",
            "Epoch 41100 loss: nan\n",
            "Epoch 41200 loss: nan\n",
            "Epoch 41300 loss: nan\n",
            "Epoch 41400 loss: nan\n",
            "Epoch 41500 loss: nan\n",
            "Epoch 41600 loss: nan\n",
            "Epoch 41700 loss: nan\n",
            "Epoch 41800 loss: nan\n",
            "Epoch 41900 loss: nan\n",
            "Epoch 42000 loss: nan\n",
            "Epoch 42100 loss: nan\n",
            "Epoch 42200 loss: nan\n",
            "Epoch 42300 loss: nan\n",
            "Epoch 42400 loss: nan\n",
            "Epoch 42500 loss: nan\n",
            "Epoch 42600 loss: nan\n",
            "Epoch 42700 loss: nan\n",
            "Epoch 42800 loss: nan\n",
            "Epoch 42900 loss: nan\n",
            "Epoch 43000 loss: nan\n",
            "Epoch 43100 loss: nan\n",
            "Epoch 43200 loss: nan\n",
            "Epoch 43300 loss: nan\n",
            "Epoch 43400 loss: nan\n",
            "Epoch 43500 loss: nan\n",
            "Epoch 43600 loss: nan\n",
            "Epoch 43700 loss: nan\n",
            "Epoch 43800 loss: nan\n",
            "Epoch 43900 loss: nan\n",
            "Epoch 44000 loss: nan\n",
            "Epoch 44100 loss: nan\n",
            "Epoch 44200 loss: nan\n",
            "Epoch 44300 loss: nan\n",
            "Epoch 44400 loss: nan\n",
            "Epoch 44500 loss: nan\n",
            "Epoch 44600 loss: nan\n",
            "Epoch 44700 loss: nan\n",
            "Epoch 44800 loss: nan\n",
            "Epoch 44900 loss: nan\n",
            "Epoch 45000 loss: nan\n",
            "Epoch 45100 loss: nan\n",
            "Epoch 45200 loss: nan\n",
            "Epoch 45300 loss: nan\n",
            "Epoch 45400 loss: nan\n",
            "Epoch 45500 loss: nan\n",
            "Epoch 45600 loss: nan\n",
            "Epoch 45700 loss: nan\n",
            "Epoch 45800 loss: nan\n",
            "Epoch 45900 loss: nan\n",
            "Epoch 46000 loss: nan\n",
            "Epoch 46100 loss: nan\n",
            "Epoch 46200 loss: nan\n",
            "Epoch 46300 loss: nan\n",
            "Epoch 46400 loss: nan\n",
            "Epoch 46500 loss: nan\n",
            "Epoch 46600 loss: nan\n",
            "Epoch 46700 loss: nan\n",
            "Epoch 46800 loss: nan\n",
            "Epoch 46900 loss: nan\n",
            "Epoch 47000 loss: nan\n",
            "Epoch 47100 loss: nan\n",
            "Epoch 47200 loss: nan\n",
            "Epoch 47300 loss: nan\n",
            "Epoch 47400 loss: nan\n",
            "Epoch 47500 loss: nan\n",
            "Epoch 47600 loss: nan\n",
            "Epoch 47700 loss: nan\n",
            "Epoch 47800 loss: nan\n",
            "Epoch 47900 loss: nan\n",
            "Epoch 48000 loss: nan\n",
            "Epoch 48100 loss: nan\n",
            "Epoch 48200 loss: nan\n",
            "Epoch 48300 loss: nan\n",
            "Epoch 48400 loss: nan\n",
            "Epoch 48500 loss: nan\n",
            "Epoch 48600 loss: nan\n",
            "Epoch 48700 loss: nan\n",
            "Epoch 48800 loss: nan\n",
            "Epoch 48900 loss: nan\n",
            "Epoch 49000 loss: nan\n",
            "Epoch 49100 loss: nan\n",
            "Epoch 49200 loss: nan\n",
            "Epoch 49300 loss: nan\n",
            "Epoch 49400 loss: nan\n",
            "Epoch 49500 loss: nan\n",
            "Epoch 49600 loss: nan\n",
            "Epoch 49700 loss: nan\n",
            "Epoch 49800 loss: nan\n",
            "Epoch 49900 loss: nan\n"
          ]
        }
      ]
    },
    {
      "cell_type": "code",
      "source": [
        "# 繰り返し回数\n",
        "#num_epochs = 50000\n",
        "num_epochs = 2000\n",
        "\n",
        "# 学習率\n",
        "#l r = 0.01\n",
        "lr = 0.001\n",
        "\n",
        "# モデルインスタンスの生成\n",
        "net = Net(n_input, n_output)\n",
        "\n",
        "# 損失関数： 平均2乗誤差\n",
        "criterion = nn.MSELoss()\n",
        "\n",
        "# 最適化関数: 勾配降下法\n",
        "optimizer = optim.SGD(net.parameters(), lr=lr)"
      ],
      "metadata": {
        "id": "kYTyBOizpzHm"
      },
      "execution_count": 60,
      "outputs": []
    },
    {
      "cell_type": "code",
      "source": [
        "# 繰り返し計算メインループ\n",
        "\n",
        "# 評価結果記録用 (損失関数値のみ記録)\n",
        "history = np.zeros((0,2))\n",
        "\n",
        "for epoch in range(num_epochs):\n",
        "    \n",
        "    # 勾配値初期化\n",
        "    optimizer.zero_grad()\n",
        "\n",
        "    # 予測計算\n",
        "    outputs = net(inputs)\n",
        "  \n",
        "    # 誤差計算\n",
        "    loss = criterion(outputs, labels1) / 2.0\n",
        "\n",
        "    #勾配計算\n",
        "    loss.backward()\n",
        "\n",
        "    # パラメータ修正\n",
        "    optimizer.step()\n",
        "\n",
        "    # 100回ごとに途中経過を記録する\n",
        "    if ( epoch % 100 == 0):\n",
        "        history = np.vstack((history, np.array([epoch, loss.item()])))\n",
        "        print(f'Epoch {epoch} loss: {loss.item():.5f}')"
      ],
      "metadata": {
        "colab": {
          "base_uri": "https://localhost:8080/"
        },
        "id": "LCs9g2__p2Fe",
        "outputId": "1d2635ff-e3ca-4f32-e217-25a8f2d09826"
      },
      "execution_count": 61,
      "outputs": [
        {
          "output_type": "stream",
          "name": "stdout",
          "text": [
            "Epoch 0 loss: 112.06398\n",
            "Epoch 100 loss: 25.35892\n",
            "Epoch 200 loss: 16.39105\n",
            "Epoch 300 loss: 15.40301\n",
            "Epoch 400 loss: 15.29414\n",
            "Epoch 500 loss: 15.28211\n",
            "Epoch 600 loss: 15.28076\n",
            "Epoch 700 loss: 15.28059\n",
            "Epoch 800 loss: 15.28054\n",
            "Epoch 900 loss: 15.28051\n",
            "Epoch 1000 loss: 15.28048\n",
            "Epoch 1100 loss: 15.28046\n",
            "Epoch 1200 loss: 15.28043\n",
            "Epoch 1300 loss: 15.28040\n",
            "Epoch 1400 loss: 15.28037\n",
            "Epoch 1500 loss: 15.28034\n",
            "Epoch 1600 loss: 15.28031\n",
            "Epoch 1700 loss: 15.28028\n",
            "Epoch 1800 loss: 15.28026\n",
            "Epoch 1900 loss: 15.28023\n"
          ]
        }
      ]
    },
    {
      "cell_type": "code",
      "source": [
        "# 損失初期値、最終値\n",
        "\n",
        "print(f'損失初期値: {history[0,1]:.5f}')\n",
        "print(f'損失最終値: {history[-1,1]:.5f}')"
      ],
      "metadata": {
        "colab": {
          "base_uri": "https://localhost:8080/"
        },
        "id": "JNwzW6eWp4wS",
        "outputId": "10f239a8-01d1-424d-d1c3-3551833f5dbc"
      },
      "execution_count": 62,
      "outputs": [
        {
          "output_type": "stream",
          "name": "stdout",
          "text": [
            "損失初期値: 112.06398\n",
            "損失最終値: 15.28023\n"
          ]
        }
      ]
    },
    {
      "cell_type": "code",
      "source": [
        "# 学習曲線の表示 (損失)\n",
        "\n",
        "plt.plot(history[:,0], history[:,1], 'b')\n",
        "plt.xlabel('繰り返し回数')\n",
        "plt.ylabel('損失')\n",
        "plt.title('学習曲線(損失)')\n",
        "plt.show()"
      ],
      "metadata": {
        "colab": {
          "base_uri": "https://localhost:8080/",
          "height": 415
        },
        "id": "KxYOAKvcp7IX",
        "outputId": "36f5744a-6f25-428c-82cd-a007e84cec6b"
      },
      "execution_count": 63,
      "outputs": [
        {
          "output_type": "display_data",
          "data": {
            "text/plain": [
              "<Figure size 432x432 with 1 Axes>"
            ],
            "image/png": "[encoded data removed]"
          },
          "metadata": {
            "needs_background": "light"
          }
        }
      ]
    }
  ]
}