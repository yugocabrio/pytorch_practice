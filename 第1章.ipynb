{
  "nbformat": 4,
  "nbformat_minor": 0,
  "metadata": {
    "colab": {
      "provenance": [],
      "authorship_tag": "ABX9TyP1DGwzPdqBJ5UfISdO6KSu",
      "include_colab_link": true
    },
    "kernelspec": {
      "name": "python3",
      "display_name": "Python 3"
    },
    "language_info": {
      "name": "python"
    }
  },
  "cells": [
    {
      "cell_type": "markdown",
      "metadata": {
        "id": "view-in-github",
        "colab_type": "text"
      },
      "source": [
        "<a href=\"https://colab.research.google.com/github/yugonsan/pytorch_practice/blob/main/%E7%AC%AC1%E7%AB%A0.ipynb\" target=\"_parent\"><img src=\"https://colab.research.google.com/assets/colab-badge.svg\" alt=\"Open In Colab\"/></a>"
      ]
    },
    {
      "cell_type": "markdown",
      "source": [
        "NumPyなどの配列をよく使う。リストやNumPyのように、名前から実際のデータにアクセスするのにインデックスを経由する必要のあるデータ型をコンテナデータ型と呼ぶ。"
      ],
      "metadata": {
        "id": "0vZ5Ilxh27W3"
      }
    },
    {
      "cell_type": "code",
      "source": [
        "# ライブラリのインポート\n",
        "import numpy as np\n",
        "# numpyの浮動小数点の表示精度（小数点以下5桁）\n",
        "np.set_printoptions(suppress=True, precision=5)"
      ],
      "metadata": {
        "id": "_l1dOng33_df"
      },
      "execution_count": 2,
      "outputs": []
    },
    {
      "cell_type": "code",
      "execution_count": 4,
      "metadata": {
        "colab": {
          "base_uri": "https://localhost:8080/"
        },
        "id": "TfKsKxbv2ble",
        "outputId": "c3dd753a-cebe-4cf9-89bb-570b374d89e3"
      },
      "outputs": [
        {
          "output_type": "stream",
          "name": "stdout",
          "text": [
            "[ 5 -1  9]\n",
            "[5 7 9]\n"
          ]
        }
      ],
      "source": [
        "x = np.array([5, 7, 9])\n",
        "y = x.copy()\n",
        "\n",
        "x[1] = -1\n",
        "print(x)\n",
        "print(y)"
      ]
    },
    {
      "cell_type": "markdown",
      "source": [
        "NumPyの.copy関数を用いることで別の複製された配列（単なるポインタが同じのコピーではない）ができます"
      ],
      "metadata": {
        "id": "5y26SYle4Kt4"
      }
    },
    {
      "cell_type": "code",
      "source": [
        "import torch"
      ],
      "metadata": {
        "id": "gBJjTxw444EW"
      },
      "execution_count": 5,
      "outputs": []
    },
    {
      "cell_type": "code",
      "source": [
        "x1 = torch.ones(5)\n",
        "x2 = x1.data.numpy().copy()\n",
        "x1[1] = -1\n",
        "print(x1)\n",
        "print(x2)"
      ],
      "metadata": {
        "colab": {
          "base_uri": "https://localhost:8080/"
        },
        "id": "UQH-4IR_49v7",
        "outputId": "13df0df1-c091-4274-bf05-eed5808688de"
      },
      "execution_count": 8,
      "outputs": [
        {
          "output_type": "stream",
          "name": "stdout",
          "text": [
            "tensor([ 1., -1.,  1.,  1.,  1.])\n",
            "[1. 1. 1. 1. 1.]\n"
          ]
        }
      ]
    },
    {
      "cell_type": "markdown",
      "source": [
        "- Pytorchで扱うデータはテンソル（Tensor）というクラスのインスタンスに保存される\n",
        "- x1.data.numpyでもとのテンソルを示す\n",
        "- ここでも.copy()を使うことで別の配列として複製する\n"
      ],
      "metadata": {
        "id": "bty_Gndk5JFj"
      }
    },
    {
      "cell_type": "code",
      "source": [
        "def f(x):\n",
        "    return (2 * x ** 2 +2)"
      ],
      "metadata": {
        "id": "AWG12Jt-5F7G"
      },
      "execution_count": 9,
      "outputs": []
    },
    {
      "cell_type": "code",
      "source": [
        "# xをNumpy配列として定義\n",
        "x = np.arange(-2, 2.1 , 0.25) #始点、終点、刻み\n",
        "print(x)"
      ],
      "metadata": {
        "colab": {
          "base_uri": "https://localhost:8080/"
        },
        "id": "FgYXKU5U5vq7",
        "outputId": "2bf95d68-b72b-4c8d-eaa0-ea562d9c8a5c"
      },
      "execution_count": 36,
      "outputs": [
        {
          "output_type": "stream",
          "name": "stdout",
          "text": [
            "[-2.   -1.75 -1.5  -1.25 -1.   -0.75 -0.5  -0.25  0.    0.25  0.5   0.75\n",
            "  1.    1.25  1.5   1.75  2.  ]\n"
          ]
        }
      ]
    },
    {
      "cell_type": "code",
      "source": [
        "# f(x)の結果にyに代入\n",
        "y = f(x)\n",
        "print(y)"
      ],
      "metadata": {
        "colab": {
          "base_uri": "https://localhost:8080/"
        },
        "id": "dD5LXy-L6fSm",
        "outputId": "709bfbd7-80c2-4a51-f32d-09fe5d8d1877"
      },
      "execution_count": 37,
      "outputs": [
        {
          "output_type": "stream",
          "name": "stdout",
          "text": [
            "[10.     8.125  6.5    5.125  4.     3.125  2.5    2.125  2.     2.125\n",
            "  2.5    3.125  4.     5.125  6.5    8.125 10.   ]\n"
          ]
        }
      ]
    },
    {
      "cell_type": "code",
      "source": [
        "!pip install japanize-matplotlib"
      ],
      "metadata": {
        "colab": {
          "base_uri": "https://localhost:8080/"
        },
        "id": "erCH0flJ6wSF",
        "outputId": "a4b6c912-58c3-4256-edda-6f57acd2597d"
      },
      "execution_count": 14,
      "outputs": [
        {
          "output_type": "stream",
          "name": "stdout",
          "text": [
            "Looking in indexes: https://pypi.org/simple, https://us-python.pkg.dev/colab-wheels/public/simple/\n",
            "Collecting japanize-matplotlib\n",
            "  Downloading japanize-matplotlib-1.1.3.tar.gz (4.1 MB)\n",
            "\u001b[2K     \u001b[90m━━━━━━━━━━━━━━━━━━━━━━━━━━━━━━━━━━━━━━━━\u001b[0m \u001b[32m4.1/4.1 MB\u001b[0m \u001b[31m40.6 MB/s\u001b[0m eta \u001b[36m0:00:00\u001b[0m\n",
            "\u001b[?25h  Preparing metadata (setup.py) ... \u001b[?25l\u001b[?25hdone\n",
            "Requirement already satisfied: matplotlib in /usr/local/lib/python3.8/dist-packages (from japanize-matplotlib) (3.2.2)\n",
            "Requirement already satisfied: cycler>=0.10 in /usr/local/lib/python3.8/dist-packages (from matplotlib->japanize-matplotlib) (0.11.0)\n",
            "Requirement already satisfied: pyparsing!=2.0.4,!=2.1.2,!=2.1.6,>=2.0.1 in /usr/local/lib/python3.8/dist-packages (from matplotlib->japanize-matplotlib) (3.0.9)\n",
            "Requirement already satisfied: python-dateutil>=2.1 in /usr/local/lib/python3.8/dist-packages (from matplotlib->japanize-matplotlib) (2.8.2)\n",
            "Requirement already satisfied: numpy>=1.11 in /usr/local/lib/python3.8/dist-packages (from matplotlib->japanize-matplotlib) (1.21.6)\n",
            "Requirement already satisfied: kiwisolver>=1.0.1 in /usr/local/lib/python3.8/dist-packages (from matplotlib->japanize-matplotlib) (1.4.4)\n",
            "Requirement already satisfied: six>=1.5 in /usr/local/lib/python3.8/dist-packages (from python-dateutil>=2.1->matplotlib->japanize-matplotlib) (1.15.0)\n",
            "Building wheels for collected packages: japanize-matplotlib\n",
            "  Building wheel for japanize-matplotlib (setup.py) ... \u001b[?25l\u001b[?25hdone\n",
            "  Created wheel for japanize-matplotlib: filename=japanize_matplotlib-1.1.3-py3-none-any.whl size=4120275 sha256=a5b9d327b6541fa446af384fb730cf517b5940b1eab3fecd86ed653df7aa6abb\n",
            "  Stored in directory: /root/.cache/pip/wheels/4f/ca/96/4cc5e192421cceb077fbf4ffec533382edd416fd3fa0af0bbd\n",
            "Successfully built japanize-matplotlib\n",
            "Installing collected packages: japanize-matplotlib\n",
            "Successfully installed japanize-matplotlib-1.1.3\n"
          ]
        }
      ]
    },
    {
      "cell_type": "code",
      "source": [
        "import matplotlib.pyplot as plt\n",
        "import japanize_matplotlib"
      ],
      "metadata": {
        "id": "EPlajCkc63xP"
      },
      "execution_count": 38,
      "outputs": []
    },
    {
      "cell_type": "code",
      "source": [
        "plt.plot(x, y)\n",
        "plt.show"
      ],
      "metadata": {
        "colab": {
          "base_uri": "https://localhost:8080/",
          "height": 395
        },
        "id": "XIdh1iaa6_16",
        "outputId": "7bc51676-060d-4d49-90e9-9a0c2ecb116e"
      },
      "execution_count": 39,
      "outputs": [
        {
          "output_type": "execute_result",
          "data": {
            "text/plain": [
              "<function matplotlib.pyplot.show(*args, **kw)>"
            ]
          },
          "metadata": {},
          "execution_count": 39
        },
        {
          "output_type": "display_data",
          "data": {
            "text/plain": [
              "<Figure size 432x432 with 1 Axes>"
            ],
            "image/png": "[encoded data removed]"
          },
          "metadata": {
            "needs_background": "light"
          }
        }
      ]
    },
    {
      "cell_type": "markdown",
      "source": [
        "ここからは合成関数についてです"
      ],
      "metadata": {
        "id": "mvGyMjGk7YRT"
      }
    },
    {
      "cell_type": "code",
      "source": [
        "def f1(x):\n",
        "    return(x**2)\n",
        "\n",
        "def f2(x):\n",
        "    return(x*2)\n",
        "def f3(x):\n",
        "    return(x+2)\n",
        "\n",
        "x1 = f1(x)\n",
        "x2 = f2(x1)\n",
        "y = f3(x2)\n",
        "print(y)"
      ],
      "metadata": {
        "colab": {
          "base_uri": "https://localhost:8080/"
        },
        "id": "iZY0ZOMf7XE5",
        "outputId": "0a95539e-e3c5-4a0b-a242-615201fa28ea"
      },
      "execution_count": 40,
      "outputs": [
        {
          "output_type": "stream",
          "name": "stdout",
          "text": [
            "[10.     8.125  6.5    5.125  4.     3.125  2.5    2.125  2.     2.125\n",
            "  2.5    3.125  4.     5.125  6.5    8.125 10.   ]\n"
          ]
        }
      ]
    },
    {
      "cell_type": "markdown",
      "source": [
        "- 微分の計算\n",
        "- ディープラーニングのアルゴリズムは合成関数と微分で成り立っている\n",
        "- 関数の関数とは、関数を引数で受け取って、それに対して関数を返すこと\n",
        "- 微分計算は数値微分と呼ばれる手法でpythonする"
      ],
      "metadata": {
        "id": "CF066ulQ8_LE"
      }
    },
    {
      "cell_type": "markdown",
      "source": [
        "ここで関数を数値微分する関数``diff``を定義する。  \n",
        "数値微分の計算には、普通の微分の定義式よりいい近似式である $f'(x) = \\dfrac{f(x+h)-f(x-h)}{2h}$を利用する。"
      ],
      "metadata": {
        "id": "0C1QvJ4l_E9y"
      }
    },
    {
      "cell_type": "code",
      "source": [
        "# 関数を微分する関数fdiffの定義\n",
        "def fdiff(f):\n",
        "    # 関数fを引数に微分した結果の関数をdiffとして定義\n",
        "    def diff(x):\n",
        "        h = 1e-6\n",
        "        return (f(x+h) - f(x-h)) / (2*h)\n",
        "\n",
        "    # fdiffの戻りは微分した結果の関数diff\n",
        "    return diff"
      ],
      "metadata": {
        "id": "QfZH9u50988W"
      },
      "execution_count": 41,
      "outputs": []
    },
    {
      "cell_type": "code",
      "source": [
        "# 2次関数の数値微分\n",
        "diff = fdiff(f)\n",
        "y_dash = diff(x)\n",
        "print(y_dash)"
      ],
      "metadata": {
        "colab": {
          "base_uri": "https://localhost:8080/"
        },
        "id": "H2LQA19E_HFP",
        "outputId": "8599c2d6-57bd-4eb8-f23a-5da2954c0a5a"
      },
      "execution_count": 42,
      "outputs": [
        {
          "output_type": "stream",
          "name": "stdout",
          "text": [
            "[-8. -7. -6. -5. -4. -3. -2. -1.  0.  1.  2.  3.  4.  5.  6.  7.  8.]\n"
          ]
        }
      ]
    },
    {
      "cell_type": "code",
      "source": [
        "# warning表示off\n",
        "import warnings\n",
        "warnings.simplefilter('ignore')\n",
        "\n",
        "# デフォルトフォントサイズ変更\n",
        "plt.rcParams['font.size'] = 14\n",
        "\n",
        "# デフォルトグラフサイズ変更\n",
        "plt.rcParams['figure.figsize'] = (6,6)\n",
        "\n",
        "# デフォルトで方眼表示ON\n",
        "plt.rcParams['axes.grid'] = True\n",
        "\n",
        "# numpyの表示桁数設定\n",
        "np.set_printoptions(suppress=True, precision=5)"
      ],
      "metadata": {
        "id": "snmwwl3QA6RU"
      },
      "execution_count": 43,
      "outputs": []
    },
    {
      "cell_type": "code",
      "source": [
        "# 結果のグラフ表示\n",
        "plt.plot(x, y, label=r'y = f(x)', c='b')\n",
        "plt.plot(x, y_dash, label=r\"y = f '(x)\", c='k')\n",
        "plt.legend()\n",
        "plt.show()"
      ],
      "metadata": {
        "colab": {
          "base_uri": "https://localhost:8080/",
          "height": 377
        },
        "id": "9ZJ7QNq0AEck",
        "outputId": "0fe39891-f07b-433e-8232-87bb583ad5f8"
      },
      "execution_count": 44,
      "outputs": [
        {
          "output_type": "display_data",
          "data": {
            "text/plain": [
              "<Figure size 432x432 with 1 Axes>"
            ],
            "image/png": "[encoded data removed]"
          },
          "metadata": {
            "needs_background": "light"
          }
        }
      ]
    },
    {
      "cell_type": "markdown",
      "source": [
        "- シグモイド関数\n",
        "- シグモイド関数 $g(x) = \\dfrac{1}{1 + \\exp(-x)}$に対して同じことをやってみる。\n",
        "- e^-xをnp.exp(-x)と表す"
      ],
      "metadata": {
        "id": "Q4-gqSZPBFN2"
      }
    },
    {
      "cell_type": "code",
      "source": [
        "# シグモイド関数の定義\n",
        "def g(x):\n",
        "    return 1/(1 + np.exp(-x))"
      ],
      "metadata": {
        "id": "ieDgUXRdBY06"
      },
      "execution_count": 45,
      "outputs": []
    },
    {
      "cell_type": "code",
      "source": [
        "y = g(x)\n",
        "print(y)"
      ],
      "metadata": {
        "colab": {
          "base_uri": "https://localhost:8080/"
        },
        "id": "GATiR-T4CD3d",
        "outputId": "3543c11c-a030-4bb1-a9a6-1622e74b979b"
      },
      "execution_count": 46,
      "outputs": [
        {
          "output_type": "stream",
          "name": "stdout",
          "text": [
            "[0.1192  0.14805 0.18243 0.2227  0.26894 0.32082 0.37754 0.43782 0.5\n",
            " 0.56218 0.62246 0.67918 0.73106 0.7773  0.81757 0.85195 0.8808 ]\n"
          ]
        }
      ]
    },
    {
      "cell_type": "code",
      "source": [
        "plt.plot(x, y)\n",
        "plt.show()"
      ],
      "metadata": {
        "colab": {
          "base_uri": "https://localhost:8080/",
          "height": 377
        },
        "id": "UhHXzlmMCH1p",
        "outputId": "a61c6a4a-c1b1-42ca-ca04-77e5bc27a4e6"
      },
      "execution_count": 47,
      "outputs": [
        {
          "output_type": "display_data",
          "data": {
            "text/plain": [
              "<Figure size 432x432 with 1 Axes>"
            ],
            "image/png": "[encoded data removed]"
          },
          "metadata": {
            "needs_background": "light"
          }
        }
      ]
    },
    {
      "cell_type": "code",
      "source": [
        "# シグモイド関数の微分をしてみよう\n",
        "# gを微分した関数を取得\n",
        "diff = fdiff(g)\n",
        "# diffを用いて微分結果\n",
        "y_dash = diff(x)\n",
        "print(y_dash)"
      ],
      "metadata": {
        "colab": {
          "base_uri": "https://localhost:8080/"
        },
        "id": "-yWSDj_XDEHK",
        "outputId": "a11ca395-41ef-44bc-8c52-7d9229294c12"
      },
      "execution_count": 48,
      "outputs": [
        {
          "output_type": "stream",
          "name": "stdout",
          "text": [
            "[0.10499 0.12613 0.14915 0.1731  0.19661 0.21789 0.235   0.24613 0.25\n",
            " 0.24613 0.235   0.21789 0.19661 0.1731  0.14915 0.12613 0.10499]\n"
          ]
        }
      ]
    },
    {
      "cell_type": "code",
      "source": [
        "# 結果のグラフ表示\n",
        "# 結果のグラフ表示\n",
        "plt.plot(x, y, label=r'y = f(x)', c='b')\n",
        "plt.plot(x, y_dash, label=r\"y = f '(x)\", c='k')\n",
        "plt.legend()\n",
        "plt.show()"
      ],
      "metadata": {
        "colab": {
          "base_uri": "https://localhost:8080/",
          "height": 377
        },
        "id": "593QR3I9DmlG",
        "outputId": "e3c3392a-1ef5-4722-a9c4-316669679d6a"
      },
      "execution_count": 49,
      "outputs": [
        {
          "output_type": "display_data",
          "data": {
            "text/plain": [
              "<Figure size 432x432 with 1 Axes>"
            ],
            "image/png": "[encoded data removed]"
          },
          "metadata": {
            "needs_background": "light"
          }
        }
      ]
    },
    {
      "cell_type": "markdown",
      "source": [
        "ディープラーニングの学習アルゴリズムは損失という膨大なパラメーター値を求める仕組み"
      ],
      "metadata": {
        "id": "We7RqgpLD9t_"
      }
    },
    {
      "cell_type": "markdown",
      "source": [
        "- オブジェクト指向の段階\n",
        "- オブジェクトという概念に一歳関係せずにプログラムをするレベル\n",
        "- オブジェクトを使うがあくまでも既存のクラスのインスタンスを生成\n",
        "- 独自のクラスを定義すること（独自カスタムクラス定義）\n",
        "- DLはカスタムクラス定義が必要です。"
      ],
      "metadata": {
        "id": "QkaWlaICEJVU"
      }
    },
    {
      "cell_type": "code",
      "source": [
        "import matplotlib.pyplot as plt\n",
        "import matplotlib.patches as patches"
      ],
      "metadata": {
        "id": "DCY0DEyGFZJ7"
      },
      "execution_count": 50,
      "outputs": []
    },
    {
      "cell_type": "code",
      "source": [
        "# クラス Point の定義\n",
        "\n",
        "class Point:\n",
        "    # インスタンス生成時にxとyの２つの引数を持つ\n",
        "    def __init__(self, x, y):\n",
        "        # インスタンスの属性xに第一引数をセットする\n",
        "        self.x = x\n",
        "        # インスタンスの属性yに第二引数をセットする\n",
        "        self.y = y\n",
        "    # 描画関数 drawの定義 (引数はなし)\n",
        "    def draw(self):\n",
        "        # (x, y)に点を描画する\n",
        "        plt.plot(self.x, self.y, marker='o', markersize=10, c='k')"
      ],
      "metadata": {
        "id": "j4hHntXMFqbW"
      },
      "execution_count": 57,
      "outputs": []
    },
    {
      "cell_type": "markdown",
      "source": [
        "- __init__はクラスがインスタンスから生成された時に、初期化処理として必ず呼ばれる関数になる\n",
        "- __init__の第1引数にあるselfという変数も重要で、インスタンス自身を指している。"
      ],
      "metadata": {
        "id": "EEfu5Nb1Gbme"
      }
    },
    {
      "cell_type": "code",
      "source": [
        "# クラスPointからインスタンス変数p1とp2を生成する\n",
        "p1 = Point(2,3)\n",
        "p2 = Point(-1, -2)"
      ],
      "metadata": {
        "id": "YN-lS977G3sR"
      },
      "execution_count": 58,
      "outputs": []
    },
    {
      "cell_type": "code",
      "source": [
        "# 生成したインスタンスp1とp2の属性にアクセスします\n",
        "print(p1.x, p1.y)\n",
        "print(p2.x, p2.y)"
      ],
      "metadata": {
        "colab": {
          "base_uri": "https://localhost:8080/"
        },
        "id": "KAvi5ZgUIBmk",
        "outputId": "530ba852-2499-492b-8d9f-7f135d056614"
      },
      "execution_count": 59,
      "outputs": [
        {
          "output_type": "stream",
          "name": "stdout",
          "text": [
            "2 3\n",
            "-1 -2\n"
          ]
        }
      ]
    },
    {
      "cell_type": "code",
      "source": [
        "# draw関数の呼び出し\n",
        "p1.draw()\n",
        "p2.draw()\n",
        "plt.xlim(-4,4)\n",
        "plt.ylim(-4,4)\n",
        "plt.show()"
      ],
      "metadata": {
        "colab": {
          "base_uri": "https://localhost:8080/",
          "height": 382
        },
        "id": "ApCU6dVSIga9",
        "outputId": "8a98027c-863a-4154-a4b4-2799d53ddba8"
      },
      "execution_count": 60,
      "outputs": [
        {
          "output_type": "display_data",
          "data": {
            "text/plain": [
              "<Figure size 432x432 with 1 Axes>"
            ],
            "image/png": "[encoded data removed]"
          },
          "metadata": {
            "needs_background": "light"
          }
        }
      ]
    },
    {
      "cell_type": "markdown",
      "source": [
        "- クラスの継承\n",
        "- 親クラスの中に小クラスを定義することで継承が可能になります"
      ],
      "metadata": {
        "id": "8K-_5itmJFpI"
      }
    },
    {
      "cell_type": "code",
      "source": [
        "class Circle1(Point):\n",
        "    # Circleはインスタンス生成時に引数x,y,rを持つ\n",
        "    def __init__(self, x, y, r):\n",
        "        #x,yは親クラスの属性と設定、親クラスのsuperを呼び出している、なんでsuperなのか\n",
        "        super().__init__(x,y)\n",
        "        # rはCircleの属性として設定\n",
        "        self.r = r"
      ],
      "metadata": {
        "id": "opfeULynJQio"
      },
      "execution_count": 62,
      "outputs": []
    },
    {
      "cell_type": "markdown",
      "source": [
        "super()はPythonで使用される組み込み関数で、親クラスのメソッドを呼び出すために使用されます。 上記の例では、super().init(x,y)は親クラス（Point）の__init__メソッドを呼び出し、xとyの値をそれに渡します。これにより、Circle1クラスはPointクラスのプロパティとメソッドを継承しながら、自分自身のr属性を追加することができます。\n",
        "それはサブクラスがその親クラスのメソッドや属性を使用することを可能にする。"
      ],
      "metadata": {
        "id": "7A17daBOMm79"
      }
    },
    {
      "cell_type": "code",
      "source": [
        "c1_1 = Circle1(1, 0, 2)\n",
        "print(c1_1.x, c1_1.y, c1_1.r)"
      ],
      "metadata": {
        "colab": {
          "base_uri": "https://localhost:8080/"
        },
        "id": "PuC8HhufLsdo",
        "outputId": "70365bc1-86b4-4cb2-b4d0-0461eb7570c5"
      },
      "execution_count": 63,
      "outputs": [
        {
          "output_type": "stream",
          "name": "stdout",
          "text": [
            "1 0 2\n"
          ]
        }
      ]
    },
    {
      "cell_type": "code",
      "source": [
        "# p1,p2,c1_1のそれぞれがdraw関数を呼び出す\n",
        "ax = plt.subplot()\n",
        "p1.draw()\n",
        "p2.draw()\n",
        "c1_1.draw()\n",
        "plt.xlim(-4, 4)\n",
        "plt.ylim(-4, 4)\n",
        "plt.show()"
      ],
      "metadata": {
        "colab": {
          "base_uri": "https://localhost:8080/",
          "height": 382
        },
        "id": "_nOVxWrHMoWl",
        "outputId": "4f55a88b-bd6c-4494-d497-92f6077e3985"
      },
      "execution_count": 64,
      "outputs": [
        {
          "output_type": "display_data",
          "data": {
            "text/plain": [
              "<Figure size 432x432 with 1 Axes>"
            ],
            "image/png": "[encoded data removed]"
          },
          "metadata": {
            "needs_background": "light"
          }
        }
      ]
    },
    {
      "cell_type": "markdown",
      "source": [
        "この段階でdraw関数は親で定義した関数が呼ばれていることがわかる\n"
      ],
      "metadata": {
        "id": "qJA2i-_wNJBN"
      }
    },
    {
      "cell_type": "code",
      "source": [
        "class Circle2(Point):\n",
        "    # Circleはインスタンス生成時に引数x,y,rを持つ\n",
        "    def __init__(self, x, y, r):\n",
        "        #x,yは親クラスの属性と設定、親クラスのsuperを呼び出している、なんでsuperなのか\n",
        "        super().__init__(x,y)\n",
        "        # rはCircleの属性として設定\n",
        "        self.r = r\n",
        "    \n",
        "    # draw関数は、子クラス独自に円の描画を行う\n",
        "    def draw(self):\n",
        "        # 円の描画\n",
        "        c = patches.Circle(xy=(self.x, self.y), radius=self.r, fc='b', ec='k')\n",
        "        ax.add_patch(c)"
      ],
      "metadata": {
        "id": "SvUPsandNJ56"
      },
      "execution_count": 73,
      "outputs": []
    },
    {
      "cell_type": "markdown",
      "source": [
        "なんでdrawの引数はselfだけで良いのですか？\n",
        "\n",
        "draw関数は、インスタンスメソッドとして定義されているため、引数selfが必要です。selfは、メソッドが呼び出される際に、そのインスタンス自身を表す変数です。そのため、draw関数内でインスタンス変数(例えばx,y,r)を参照することができます。引数を追加することで、そのインスタンス外からのデータをdraw関数に渡すこともできますが、この例ではそれが必要ないため、selfだけの引数が使用されています。"
      ],
      "metadata": {
        "id": "-de_PyNZQJDc"
      }
    },
    {
      "cell_type": "code",
      "source": [
        "# クラスCircle2からインスタンス変数c2_1を生成する\n",
        "c2_1 = Circle2(1, 0, 2)"
      ],
      "metadata": {
        "id": "5wmfv6H6N286"
      },
      "execution_count": 74,
      "outputs": []
    },
    {
      "cell_type": "code",
      "source": [
        "# p1, p2, c2_1 のそれぞれのfraw関数を呼び出す\n",
        "ax = plt.subplot()\n",
        "p1.draw()\n",
        "p2.draw()\n",
        "c2_1.draw()\n",
        "plt.xlim(-4, 4)\n",
        "plt.ylim(-4, 4)\n",
        "plt.show()"
      ],
      "metadata": {
        "colab": {
          "base_uri": "https://localhost:8080/",
          "height": 382
        },
        "id": "PbR2bcDKOYoE",
        "outputId": "644eb350-5dd3-47c2-aa61-71099f076c30"
      },
      "execution_count": 75,
      "outputs": [
        {
          "output_type": "display_data",
          "data": {
            "text/plain": [
              "<Figure size 432x432 with 1 Axes>"
            ],
            "image/png": "[encoded data removed]"
          },
          "metadata": {
            "needs_background": "light"
          }
        }
      ]
    },
    {
      "cell_type": "markdown",
      "source": [
        "\n",
        "親のdarw関数の代わりに子のdraw関数が呼ばれたことがわかる\n",
        "では、この関数と親の関数を両方呼びたいときはどうしたらいいか\n"
      ],
      "metadata": {
        "id": "2gwmQQKoOcOS"
      }
    },
    {
      "cell_type": "code",
      "source": [
        "# Pointの子クラスCircleの定義その3\n",
        "class Circle3(Point):\n",
        "    # Circleはインスタンス生成時に引数x,y,rを持つ\n",
        "    def __init__(self, x, y, r):\n",
        "        # xとyは、親クラスの属性として設定\n",
        "        super().__init__(x, y)\n",
        "        # rは、Circleの属性として設定\n",
        "        self.r = r\n",
        "     \n",
        "    # Circleのdraw関数は、親の関数呼び出しの後で、円の描画も独自に行う\n",
        "    def draw(self):\n",
        "        # 親クラスのdraw関数呼び出し\n",
        "        super().draw()\n",
        "        \n",
        "        # 円の描画\n",
        "        c = patches.Circle(xy=(self.x, self.y), radius=self.r, fc='b', ec='k')\n",
        "        ax.add_patch(c)"
      ],
      "metadata": {
        "id": "znOR_UoQOdFN"
      },
      "execution_count": 76,
      "outputs": []
    },
    {
      "cell_type": "code",
      "source": [
        "# クラスCircle3からインスタンス変数c3_1を生成する\n",
        "c3_1 = Circle3(1, 0, 2)"
      ],
      "metadata": {
        "id": "Yda4R8lBOpE5"
      },
      "execution_count": 77,
      "outputs": []
    },
    {
      "cell_type": "code",
      "source": [
        "# p1, p2, c3_1 のそれぞれのfraw関数を呼び出す\n",
        "ax = plt.subplot()\n",
        "p1.draw()\n",
        "p2.draw()\n",
        "c3_1.draw()\n",
        "plt.xlim(-4, 4)\n",
        "plt.ylim(-4, 4)\n",
        "plt.show()"
      ],
      "metadata": {
        "colab": {
          "base_uri": "https://localhost:8080/",
          "height": 382
        },
        "id": "79m3X-GFOl1G",
        "outputId": "c2766a6a-1f84-4d00-fdac-5cb59b32d308"
      },
      "execution_count": 78,
      "outputs": [
        {
          "output_type": "display_data",
          "data": {
            "text/plain": [
              "<Figure size 432x432 with 1 Axes>"
            ],
            "image/png": "[encoded data removed]"
          },
          "metadata": {
            "needs_background": "light"
          }
        }
      ]
    },
    {
      "cell_type": "markdown",
      "source": [
        "- インスタンスを関数として扱う\n",
        "- クラスから生成したインスタンスを呼び出し可能な関数にする"
      ],
      "metadata": {
        "id": "PnwJbFjuQbrG"
      }
    },
    {
      "cell_type": "code",
      "source": [
        "# 関数クラスHの定義\n",
        "class H:\n",
        "    def __call__(self, x):\n",
        "        return 2*x**2 + 2"
      ],
      "metadata": {
        "id": "fKXNLQZvQrg4"
      },
      "execution_count": 79,
      "outputs": []
    },
    {
      "cell_type": "code",
      "source": [
        "# hが関数として動作することを確認する\n",
        "x = np.arange(-2, 2.1, 0.25)\n",
        "print(x)\n",
        "# Hクラスのインスタンスとしてhを作成\n",
        "h = H()\n",
        "\n",
        "y = h(x)\n",
        "print(y)"
      ],
      "metadata": {
        "colab": {
          "base_uri": "https://localhost:8080/"
        },
        "id": "Fcn8Z-PESNfn",
        "outputId": "33f90937-a454-46bb-ab01-8c772618e405"
      },
      "execution_count": 80,
      "outputs": [
        {
          "output_type": "stream",
          "name": "stdout",
          "text": [
            "[-2.   -1.75 -1.5  -1.25 -1.   -0.75 -0.5  -0.25  0.    0.25  0.5   0.75\n",
            "  1.    1.25  1.5   1.75  2.  ]\n",
            "[10.     8.125  6.5    5.125  4.     3.125  2.5    2.125  2.     2.125\n",
            "  2.5    3.125  4.     5.125  6.5    8.125 10.   ]\n"
          ]
        }
      ]
    },
    {
      "cell_type": "code",
      "source": [
        "plt.plot(x, y)\n",
        "plt.show"
      ],
      "metadata": {
        "colab": {
          "base_uri": "https://localhost:8080/",
          "height": 395
        },
        "id": "yWjmyW3GSl1I",
        "outputId": "2c43b955-f400-4bde-c8fd-b087f6104f7f"
      },
      "execution_count": 82,
      "outputs": [
        {
          "output_type": "execute_result",
          "data": {
            "text/plain": [
              "<function matplotlib.pyplot.show(*args, **kw)>"
            ]
          },
          "metadata": {},
          "execution_count": 82
        },
        {
          "output_type": "display_data",
          "data": {
            "text/plain": [
              "<Figure size 432x432 with 1 Axes>"
            ],
            "image/png": "[encoded data removed]"
          },
          "metadata": {
            "needs_background": "light"
          }
        }
      ]
    }
  ]
}